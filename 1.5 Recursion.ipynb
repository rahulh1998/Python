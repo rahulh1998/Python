{
 "cells": [
  {
   "cell_type": "markdown",
   "id": "aa69977c",
   "metadata": {},
   "source": [
    "# Starter Recursion Problems "
   ]
  },
  {
   "cell_type": "code",
   "execution_count": 1,
   "id": "0c8ac99f",
   "metadata": {},
   "outputs": [
    {
     "name": "stdout",
     "output_type": "stream",
     "text": [
      "0\n",
      "1\n",
      "2\n",
      "3\n"
     ]
    }
   ],
   "source": [
    "def f1(c):\n",
    "    if c == 4: # Base Condition\n",
    "        return\n",
    "    print(c)\n",
    "    c+=1\n",
    "    f1(c)\n",
    "\n",
    "f1(0)"
   ]
  },
  {
   "cell_type": "code",
   "execution_count": 2,
   "id": "24e68e76",
   "metadata": {},
   "outputs": [
    {
     "name": "stdout",
     "output_type": "stream",
     "text": [
      "Rahul\n",
      "Rahul\n",
      "Rahul\n",
      "Rahul\n",
      "Rahul\n"
     ]
    }
   ],
   "source": [
    "# print name 5 times\n",
    "\n",
    "c = 0\n",
    "def name(n):\n",
    "    global c\n",
    "    if c == 5:\n",
    "        return \n",
    "    print(n)\n",
    "    c+=1\n",
    "    name(n)\n",
    "    \n",
    "name('Rahul')"
   ]
  },
  {
   "cell_type": "code",
   "execution_count": 3,
   "id": "74208a96",
   "metadata": {},
   "outputs": [
    {
     "name": "stdout",
     "output_type": "stream",
     "text": [
      "1\n",
      "2\n",
      "3\n",
      "4\n",
      "5\n",
      "6\n",
      "7\n"
     ]
    }
   ],
   "source": [
    "# print linearly from 1 to N\n",
    "c = 1\n",
    "def print_1_to_n(n):\n",
    "    global c\n",
    "    if c == n+1:\n",
    "        return\n",
    "    print(c)\n",
    "    c+=1\n",
    "    print_1_to_n(n)\n",
    "    \n",
    "print_1_to_n(7)"
   ]
  },
  {
   "cell_type": "code",
   "execution_count": 4,
   "id": "fe80e85b",
   "metadata": {},
   "outputs": [
    {
     "name": "stdout",
     "output_type": "stream",
     "text": [
      "7\n",
      "6\n",
      "5\n",
      "4\n",
      "3\n",
      "2\n",
      "1\n"
     ]
    }
   ],
   "source": [
    "# Print N to 1 using recursion\n",
    "def print_n_to_1(n):\n",
    "    if n == 0:\n",
    "        return\n",
    "    print(n)\n",
    "    n-=1\n",
    "    print_n_to_1(n)\n",
    "    \n",
    "print_n_to_1(7)"
   ]
  },
  {
   "cell_type": "code",
   "execution_count": 5,
   "id": "85a51165",
   "metadata": {},
   "outputs": [
    {
     "data": {
      "text/plain": [
       "55"
      ]
     },
     "execution_count": 5,
     "metadata": {},
     "output_type": "execute_result"
    }
   ],
   "source": [
    "# Sum of N natural numbers\n",
    "def sumn(n):\n",
    "    if n == 0:\n",
    "        return 0\n",
    "    return n + sumn(n-1)\n",
    "\n",
    "sumn(10)"
   ]
  },
  {
   "cell_type": "code",
   "execution_count": 6,
   "id": "50e62698",
   "metadata": {},
   "outputs": [
    {
     "data": {
      "text/plain": [
       "120"
      ]
     },
     "execution_count": 6,
     "metadata": {},
     "output_type": "execute_result"
    }
   ],
   "source": [
    "# Factorial of a number\n",
    "\n",
    "def fact(n):\n",
    "    if n == 1:\n",
    "        return 1\n",
    "    return n*fact(n-1)\n",
    "fact(5)"
   ]
  },
  {
   "cell_type": "code",
   "execution_count": 7,
   "id": "1b85fdfa",
   "metadata": {},
   "outputs": [
    {
     "data": {
      "text/plain": [
       "[4, 3, 2, 1]"
      ]
     },
     "execution_count": 7,
     "metadata": {},
     "output_type": "execute_result"
    }
   ],
   "source": [
    "# Reverse an Array #Sol1\n",
    "l = []\n",
    "def rev_arr(arr):\n",
    "    global l\n",
    "    \n",
    "    if len(arr) == 0:\n",
    "        return l \n",
    "    \n",
    "    l.append(arr[-1])\n",
    "    return rev_arr(arr[:-1])\n",
    "    \n",
    "\n",
    "rev_arr([1,2,3,4])"
   ]
  },
  {
   "cell_type": "code",
   "execution_count": 8,
   "id": "1fae8691",
   "metadata": {},
   "outputs": [
    {
     "name": "stdout",
     "output_type": "stream",
     "text": [
      "[5, 4, 3, 2, 1]\n"
     ]
    }
   ],
   "source": [
    "# Reverse an Array #Sol2\n",
    "# Important Logic\n",
    "\n",
    "def rev_arr(arr,start,end):\n",
    "    \n",
    "    if start < end:\n",
    "        arr[start], arr[end] = arr[end], arr[start]\n",
    "        rev_arr(arr, start+1, end-1)\n",
    "\n",
    "arr = [1,2,3,4,5]\n",
    "n = len(arr)-1\n",
    "rev_arr(arr,0, n)\n",
    "print(arr)"
   ]
  },
  {
   "cell_type": "code",
   "execution_count": 25,
   "id": "73d0ed9e",
   "metadata": {},
   "outputs": [],
   "source": [
    "# Check if a string is Pallindrome or not\n",
    "def check_pallindrome(arr,start,end):\n",
    "    if start < end:\n",
    "        arr[start],arr[end] = arr[end],arr[start]\n",
    "        check_pallindrome(arr,start+1,end-1)\n",
    "    \n",
    "arr = list('RAAHUL')\n",
    "n = len(arr) - 1\n",
    "check_pallindrome(arr,0,n)"
   ]
  },
  {
   "cell_type": "code",
   "execution_count": 26,
   "id": "c965b9e3",
   "metadata": {},
   "outputs": [
    {
     "data": {
      "text/plain": [
       "['L', 'U', 'H', 'A', 'A', 'R']"
      ]
     },
     "execution_count": 26,
     "metadata": {},
     "output_type": "execute_result"
    }
   ],
   "source": [
    "arr"
   ]
  },
  {
   "cell_type": "code",
   "execution_count": 4,
   "id": "3e43db27",
   "metadata": {},
   "outputs": [
    {
     "name": "stdout",
     "output_type": "stream",
     "text": [
      "[0, 1, 1, 2, 3, 5, 8, 13, 21, 34, 55, 89]\n"
     ]
    }
   ],
   "source": [
    "# fionacci no\n",
    "\n",
    "n= 10\n",
    "\n",
    "l = [0,1]\n",
    "a = 0\n",
    "b = 1\n",
    "for i in range(n):\n",
    "    s = a + b \n",
    "    a = b\n",
    "    b = s\n",
    "    l.append(s)\n",
    "print(l) "
   ]
  },
  {
   "cell_type": "code",
   "execution_count": null,
   "id": "24a6abd0",
   "metadata": {},
   "outputs": [],
   "source": [
    "# Check if a string is pallindrome or not\n",
    "\n",
    "s = 'MADAM'\n",
    "\n",
    "def chck_str_pallindrome(s):\n",
    "    if len(s) == "
   ]
  }
 ],
 "metadata": {
  "kernelspec": {
   "display_name": "Python 3 (ipykernel)",
   "language": "python",
   "name": "python3"
  },
  "language_info": {
   "codemirror_mode": {
    "name": "ipython",
    "version": 3
   },
   "file_extension": ".py",
   "mimetype": "text/x-python",
   "name": "python",
   "nbconvert_exporter": "python",
   "pygments_lexer": "ipython3",
   "version": "3.9.13"
  }
 },
 "nbformat": 4,
 "nbformat_minor": 5
}
