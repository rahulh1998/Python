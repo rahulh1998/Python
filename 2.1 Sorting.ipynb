{
 "cells": [
  {
   "cell_type": "markdown",
   "id": "f5b452d3",
   "metadata": {},
   "source": [
    "# Selection sort"
   ]
  },
  {
   "cell_type": "code",
   "execution_count": 1,
   "id": "9b7a7ba1",
   "metadata": {},
   "outputs": [
    {
     "name": "stdout",
     "output_type": "stream",
     "text": [
      "13  - index =  0\n",
      "46  - index =  1\n",
      "24  - index =  2\n",
      "52  - index =  3\n",
      "20  - index =  4\n",
      "9  - index =  5\n"
     ]
    }
   ],
   "source": [
    "# selection sort : Select the minimum & sort\n",
    "\n",
    "arr = [ 13,46,24,52,20,9]\n",
    "\n",
    "for i in range(len(arr)):\n",
    "    print(arr[i],  ' - index = ',i)"
   ]
  },
  {
   "cell_type": "code",
   "execution_count": 2,
   "id": "f4d93615",
   "metadata": {},
   "outputs": [
    {
     "name": "stdout",
     "output_type": "stream",
     "text": [
      "[9, 13, 20, 24, 46, 52]\n"
     ]
    }
   ],
   "source": [
    "def selection_sort(arr):\n",
    "    for i in range(len(arr)-1): # -1 because we are already searching the minimum in the inner jth loop \n",
    "        mini = i\n",
    "\n",
    "        for j in range(i,len(arr)):  \n",
    "            if arr[j] < arr[mini]:\n",
    "                mini = j\n",
    "\n",
    "        arr[i], arr[mini] = arr[mini], arr[i] # swap\n",
    "\n",
    "    print(arr)\n",
    "selection_sort(arr)"
   ]
  },
  {
   "cell_type": "markdown",
   "id": "07c74f13",
   "metadata": {},
   "source": [
    "Time Complexity = O($n^2$)"
   ]
  },
  {
   "cell_type": "markdown",
   "id": "c8de148e",
   "metadata": {},
   "source": [
    "# Bubble Sort"
   ]
  },
  {
   "cell_type": "code",
   "execution_count": 4,
   "id": "c3143516",
   "metadata": {},
   "outputs": [
    {
     "name": "stdout",
     "output_type": "stream",
     "text": [
      "[9, 13, 20, 24, 46, 52]\n"
     ]
    }
   ],
   "source": [
    "# Find max by adjacent comparison & swap \n",
    "\n",
    "print(arr)"
   ]
  },
  {
   "cell_type": "code",
   "execution_count": 5,
   "id": "9fbe0ee9",
   "metadata": {},
   "outputs": [
    {
     "name": "stdout",
     "output_type": "stream",
     "text": [
      "[9, 13, 20, 24, 46, 52]\n"
     ]
    }
   ],
   "source": [
    "arr = [ 13,46,24,52,20,9]\n",
    "for i in range(len(arr)-1,-1,-1):\n",
    "    \n",
    "    for j in range(0,i):\n",
    "        if arr[j] > arr[j+1]:\n",
    "            arr[j] ,arr[j+1] = arr[j+1],arr[j]\n",
    "print(arr)"
   ]
  },
  {
   "cell_type": "markdown",
   "id": "d38d617a",
   "metadata": {},
   "source": [
    " "
   ]
  },
  {
   "cell_type": "markdown",
   "id": "6db7fabe",
   "metadata": {},
   "source": [
    "# Insertion Sort"
   ]
  },
  {
   "cell_type": "code",
   "execution_count": 6,
   "id": "fa333385",
   "metadata": {},
   "outputs": [
    {
     "name": "stdout",
     "output_type": "stream",
     "text": [
      "0 1 2 3 4 5 "
     ]
    }
   ],
   "source": [
    "arr = [ 13,46,24,52,20,9]\n",
    "\n",
    "for i in range(0,len(arr)):\n",
    "    print(i,end= ' ')"
   ]
  },
  {
   "cell_type": "code",
   "execution_count": 7,
   "id": "03a6701b",
   "metadata": {},
   "outputs": [
    {
     "data": {
      "text/plain": [
       "[9, 13, 20, 24, 46, 52]"
      ]
     },
     "execution_count": 7,
     "metadata": {},
     "output_type": "execute_result"
    }
   ],
   "source": [
    "arr = [ 13,46,24,52,20,9]\n",
    "for i in range(len(arr)):\n",
    "    j = i\n",
    "    while(j>0 and arr[j-1]>arr[j]):\n",
    "        arr[j] ,arr[j-1] = arr[j-1],arr[j]\n",
    "        j-=1\n",
    "\n",
    "arr"
   ]
  },
  {
   "cell_type": "code",
   "execution_count": 29,
   "id": "5ec45a18",
   "metadata": {},
   "outputs": [
    {
     "name": "stdout",
     "output_type": "stream",
     "text": [
      "Before Swapping\n",
      "[13, 46, 24, 52, 20, 9]\n",
      "\n",
      "After Swapping\n",
      "[9, 13, 20, 24, 46, 52]\n"
     ]
    }
   ],
   "source": [
    "arr = [ 13,46,24,52,20,9]\n",
    "print(\"Before Swapping\")\n",
    "print(arr)\n",
    "\n",
    "for i in range(len(arr)):\n",
    "    j = i\n",
    "    while(j>0 and arr[j-1]>arr[j]):\n",
    "        \n",
    "        arr[j] ,arr[j-1] = arr[j-1],arr[j]\n",
    "        j-=1\n",
    "print(\"\\nAfter Swapping\")\n",
    "print(arr)"
   ]
  },
  {
   "cell_type": "markdown",
   "id": "d8f29728",
   "metadata": {},
   "source": [
    " "
   ]
  },
  {
   "cell_type": "markdown",
   "id": "205968d5",
   "metadata": {},
   "source": [
    "# Merge Sort"
   ]
  },
  {
   "cell_type": "code",
   "execution_count": 15,
   "id": "11096780",
   "metadata": {},
   "outputs": [
    {
     "name": "stdout",
     "output_type": "stream",
     "text": [
      "Before Sorting arr = \n",
      " [13, 46, 24, 52, 20, 9, 123, 13] \n",
      "\n",
      "After Sorting arr = \n",
      " [9, 13, 13, 20, 24, 46, 52, 123]\n"
     ]
    }
   ],
   "source": [
    "arr = [13,46,24,52,20,9,123,13]\n",
    "\n",
    "def merge(arr, low, mid, high):\n",
    "    left = low\n",
    "    right = mid+1\n",
    "    temp = []\n",
    "    \n",
    "    while (left <= mid and right <= high): # both arrays have an element in them\n",
    "        if (arr[left] <= arr[right]):\n",
    "            temp.append(arr[left])\n",
    "            left+=1\n",
    "        else:\n",
    "            temp.append(arr[right])\n",
    "            right+=1\n",
    "    \n",
    "    while(left <= mid): # only left array has an element\n",
    "        temp.append(arr[left])\n",
    "        left+=1\n",
    "    \n",
    "    while(right <= high): # only right array has an element\n",
    "        temp.append(arr[right])\n",
    "        right+=1\n",
    "        \n",
    "    for i in range(low,high+1): # Assigning values to the original array\n",
    "        arr[i] = temp[i-low]\n",
    "        \n",
    "def mergeSort(arr,low,high):\n",
    "    \n",
    "    if low >= high:\n",
    "        return\n",
    "    \n",
    "    mid = (low + high)//2\n",
    "    \n",
    "    mergeSort(arr,low,mid) \n",
    "    mergeSort(arr,mid+1,high)\n",
    "    merge(arr,low,mid,high)\n",
    "\n",
    "print('Before Sorting arr = \\n',arr,'\\n')\n",
    "\n",
    "mergeSort(arr,0,len(arr)-1)\n",
    "\n",
    "print('After Sorting arr = \\n',arr)"
   ]
  },
  {
   "cell_type": "markdown",
   "id": "c60c35a7",
   "metadata": {},
   "source": [
    "                        Best = O(nlog(n))    Average = O(nlog(n))     Worst = O(nlog(n))"
   ]
  },
  {
   "cell_type": "markdown",
   "id": "c4432964",
   "metadata": {},
   "source": [
    "# <center>Recursive Bubble Sort"
   ]
  },
  {
   "cell_type": "code",
   "execution_count": 23,
   "id": "8a3830a2",
   "metadata": {},
   "outputs": [
    {
     "name": "stdout",
     "output_type": "stream",
     "text": [
      "[9, 13, 13, 20, 24, 46, 52, 123]\n"
     ]
    }
   ],
   "source": [
    "def recBubbleSort(arr):\n",
    "    if len(arr) == 1:\n",
    "        return\n",
    "    \n",
    "    for i in range(len(arr)-1,-1,-1):\n",
    "        for j in range(i):\n",
    "            if arr[j] > arr[j+1]:\n",
    "                arr[j], arr[j+1] = arr[j+1], arr[j]\n",
    "        \n",
    "    recBubbleSort(arr[:-1])\n",
    "    \n",
    "recBubbleSort(arr)\n",
    "\n",
    "print(arr)"
   ]
  },
  {
   "cell_type": "code",
   "execution_count": 38,
   "id": "5df73fd2",
   "metadata": {},
   "outputs": [
    {
     "data": {
      "text/plain": [
       "[13, 46, 24, 52, 20, 9, 123, 13]"
      ]
     },
     "execution_count": 38,
     "metadata": {},
     "output_type": "execute_result"
    }
   ],
   "source": [
    "arr = [13,46,24,52,20,9,123,13]\n",
    "arr"
   ]
  },
  {
   "cell_type": "code",
   "execution_count": 36,
   "id": "1f8d893e",
   "metadata": {},
   "outputs": [
    {
     "name": "stdout",
     "output_type": "stream",
     "text": [
      "Before Sorting arr = \n",
      " [13, 46, 24, 52, 20, 9, 123, 13] \n",
      "\n",
      "After Sorting arr = \n",
      " [9, 13, 13, 20, 24, 46, 52, 123]\n"
     ]
    }
   ],
   "source": [
    "def recInsertionSort(arr):\n",
    "    if len(arr) == 1:\n",
    "        return\n",
    "    \n",
    "    for i in range(len(arr)):\n",
    "        j = i\n",
    "        while(j>0 and arr[j-1]>arr[j]):\n",
    "            arr[j] ,arr[j-1] = arr[j-1],arr[j]\n",
    "            j-=1\n",
    "\n",
    "    recInsertionSort(arr[:-1])\n",
    "    \n",
    "print('Before Sorting arr = \\n',arr,'\\n')\n",
    "\n",
    "recInsertionSort(arr)\n",
    "\n",
    "print('After Sorting arr = \\n',arr)"
   ]
  },
  {
   "cell_type": "code",
   "execution_count": null,
   "id": "fd35ce78",
   "metadata": {},
   "outputs": [],
   "source": []
  },
  {
   "cell_type": "code",
   "execution_count": null,
   "id": "80da039e",
   "metadata": {},
   "outputs": [],
   "source": []
  },
  {
   "cell_type": "code",
   "execution_count": null,
   "id": "68e52805",
   "metadata": {},
   "outputs": [],
   "source": []
  },
  {
   "cell_type": "code",
   "execution_count": null,
   "id": "d05f7e9f",
   "metadata": {},
   "outputs": [],
   "source": []
  },
  {
   "cell_type": "code",
   "execution_count": null,
   "id": "ecca71d8",
   "metadata": {},
   "outputs": [],
   "source": []
  },
  {
   "cell_type": "code",
   "execution_count": null,
   "id": "63e909b8",
   "metadata": {},
   "outputs": [],
   "source": []
  },
  {
   "cell_type": "code",
   "execution_count": null,
   "id": "0d91a9a8",
   "metadata": {},
   "outputs": [],
   "source": []
  },
  {
   "cell_type": "code",
   "execution_count": null,
   "id": "90ba82c5",
   "metadata": {},
   "outputs": [],
   "source": []
  },
  {
   "cell_type": "code",
   "execution_count": null,
   "id": "7910d2be",
   "metadata": {},
   "outputs": [],
   "source": []
  },
  {
   "cell_type": "code",
   "execution_count": null,
   "id": "0ba42aad",
   "metadata": {},
   "outputs": [],
   "source": []
  },
  {
   "cell_type": "code",
   "execution_count": null,
   "id": "e7244080",
   "metadata": {},
   "outputs": [],
   "source": []
  },
  {
   "cell_type": "code",
   "execution_count": null,
   "id": "8c4a68fc",
   "metadata": {},
   "outputs": [],
   "source": []
  },
  {
   "cell_type": "code",
   "execution_count": null,
   "id": "705df6c2",
   "metadata": {},
   "outputs": [],
   "source": []
  },
  {
   "cell_type": "code",
   "execution_count": null,
   "id": "dea24ef0",
   "metadata": {},
   "outputs": [],
   "source": []
  }
 ],
 "metadata": {
  "kernelspec": {
   "display_name": "Python 3 (ipykernel)",
   "language": "python",
   "name": "python3"
  },
  "language_info": {
   "codemirror_mode": {
    "name": "ipython",
    "version": 3
   },
   "file_extension": ".py",
   "mimetype": "text/x-python",
   "name": "python",
   "nbconvert_exporter": "python",
   "pygments_lexer": "ipython3",
   "version": "3.9.13"
  }
 },
 "nbformat": 4,
 "nbformat_minor": 5
}
