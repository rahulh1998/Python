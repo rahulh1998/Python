{
 "cells": [
  {
   "cell_type": "code",
   "execution_count": 65,
   "id": "cfae2f80",
   "metadata": {},
   "outputs": [],
   "source": [
    "arr = [12,1,1,1,1,1,453,43,4,3,43,256,423,324,23,234,324]\n"
   ]
  },
  {
   "cell_type": "markdown",
   "id": "e5186aea",
   "metadata": {},
   "source": [
    "# Largest Element in Array"
   ]
  },
  {
   "cell_type": "code",
   "execution_count": 44,
   "id": "411c8ade",
   "metadata": {},
   "outputs": [
    {
     "name": "stdout",
     "output_type": "stream",
     "text": [
      " Max is 453\n"
     ]
    }
   ],
   "source": [
    "# Approach 1\n",
    "\n",
    "max_ = 0\n",
    "for i in arr:\n",
    "    if i > max_ :\n",
    "        max_ = i\n",
    "\n",
    "print(f\" Max is {max_}\")\n",
    "\n",
    "# O(n)"
   ]
  },
  {
   "cell_type": "code",
   "execution_count": 45,
   "id": "ecc5e192",
   "metadata": {},
   "outputs": [
    {
     "name": "stdout",
     "output_type": "stream",
     "text": [
      "Max of the array is  453\n"
     ]
    }
   ],
   "source": [
    "# Approach 2\n",
    "\n",
    "for i in range(len(arr)-1,-1,-1):\n",
    "    for j in range(i):\n",
    "        if arr[j] > arr[j+1]:\n",
    "            arr[j],arr[j+1] = arr[j+1],arr[j]\n",
    "\n",
    "print('Max of the array is ',arr[-1])"
   ]
  },
  {
   "cell_type": "markdown",
   "id": "69b983c7",
   "metadata": {},
   "source": [
    "# Second Largest Element in Array (Without Sorting)"
   ]
  },
  {
   "cell_type": "code",
   "execution_count": 7,
   "id": "89fe4833",
   "metadata": {},
   "outputs": [
    {
     "data": {
      "text/plain": [
       "7"
      ]
     },
     "execution_count": 7,
     "metadata": {},
     "output_type": "execute_result"
    }
   ],
   "source": [
    "# approach 1\n",
    "arr = [1,2,3,4,5,6,7,8]\n",
    "\n",
    "largest = arr[0]\n",
    "slargest = -1\n",
    "\n",
    "for i in arr:\n",
    "    if i > largest:\n",
    "        largest = i\n",
    "        \n",
    "for i in arr:\n",
    "    if (i>slargest) and (i!=largest):\n",
    "        slargest = i\n",
    "slargest"
   ]
  },
  {
   "cell_type": "code",
   "execution_count": 46,
   "id": "65a4fea4",
   "metadata": {},
   "outputs": [
    {
     "data": {
      "text/plain": [
       "423"
      ]
     },
     "execution_count": 46,
     "metadata": {},
     "output_type": "execute_result"
    }
   ],
   "source": [
    "# approach 2\n",
    "def secondLargest(arr):\n",
    "    if len(arr) <= 1:\n",
    "        return -1\n",
    "    elif len(arr) == 2:\n",
    "        return min(arr)\n",
    "    else:\n",
    "        max1 = max(arr)\n",
    "        max2 = min(arr)\n",
    "        for i in arr:\n",
    "            if (i > max2) and (i!= max1):\n",
    "                max2 = i\n",
    "            if max2 == max1:\n",
    "                max2 = -1\n",
    "        return max2\n",
    "secondLargest(arr)"
   ]
  },
  {
   "cell_type": "code",
   "execution_count": 16,
   "id": "0c6684c1",
   "metadata": {},
   "outputs": [
    {
     "name": "stdout",
     "output_type": "stream",
     "text": [
      "2 7\n"
     ]
    }
   ],
   "source": [
    "def secondLargestSmallest(arr): #N^2 + 2N\n",
    "    for i in range(len(arr)-1,-1,-1):\n",
    "        for j in range(i):\n",
    "            if arr[j] > arr[j+1]:\n",
    "                arr[j],arr[j+1] = arr[j+1],arr[j]\n",
    "    \n",
    "    largest = arr[-1]\n",
    "    sLargest = -1\n",
    "    for j in range(len(arr)-1,-1,-1):\n",
    "        if arr[j] != largest:\n",
    "            sLargest = arr[j]\n",
    "            break\n",
    "        \n",
    "    smallest = arr[0]\n",
    "    sSmallest = -1\n",
    "    for j in range(1,len(arr)):\n",
    "        if arr[j] != smallest:\n",
    "            sSmallest = arr[j]\n",
    "            break\n",
    "            \n",
    "    print(sSmallest,sLargest)\n",
    "secondLargestSmallest(arr)"
   ]
  },
  {
   "cell_type": "code",
   "execution_count": null,
   "id": "54a2187a",
   "metadata": {},
   "outputs": [],
   "source": []
  },
  {
   "cell_type": "markdown",
   "id": "0e4d95ae",
   "metadata": {},
   "source": [
    "# Check if the array is sorted or not"
   ]
  },
  {
   "cell_type": "code",
   "execution_count": 1,
   "id": "48719c63",
   "metadata": {},
   "outputs": [
    {
     "name": "stdout",
     "output_type": "stream",
     "text": [
      "False\n"
     ]
    }
   ],
   "source": [
    "arr = [90, 80, 100, 70, 40, 30]\n",
    "n = 5 # length of array\n",
    "\n",
    "isSorted = False\n",
    "for i in range(1,len(arr)):\n",
    "    if arr[i-1] < arr[i]:\n",
    "        isSorted = True\n",
    "    else:\n",
    "        isSorted = False\n",
    "        break\n",
    "print(isSorted)"
   ]
  },
  {
   "cell_type": "code",
   "execution_count": 102,
   "id": "cc79bb08",
   "metadata": {},
   "outputs": [
    {
     "data": {
      "text/plain": [
       "False"
      ]
     },
     "execution_count": 102,
     "metadata": {},
     "output_type": "execute_result"
    }
   ],
   "source": [
    "def arraySortedOrNot(arr):\n",
    "    for i in range(1,len(arr)):\n",
    "        if arr[i-1] < arr[i]:\n",
    "            return True\n",
    "        return False\n",
    "            \n",
    "arraySortedOrNot(arr)"
   ]
  },
  {
   "cell_type": "code",
   "execution_count": 5,
   "id": "ba718d40",
   "metadata": {},
   "outputs": [
    {
     "data": {
      "text/plain": [
       "True"
      ]
     },
     "execution_count": 5,
     "metadata": {},
     "output_type": "execute_result"
    }
   ],
   "source": [
    "arr = [1,2,3,4,5,6,7,8]\n",
    "def checkSorted(arr):\n",
    "    i = 1\n",
    "    while arr[i-1] < arr[i]:\n",
    "        return True\n",
    "        i+=1\n",
    "    return False\n",
    "checkSorted(arr)"
   ]
  },
  {
   "cell_type": "markdown",
   "id": "e9867fd8",
   "metadata": {},
   "source": [
    "# Remove duplicates from array"
   ]
  },
  {
   "cell_type": "code",
   "execution_count": 35,
   "id": "20adb665",
   "metadata": {},
   "outputs": [
    {
     "data": {
      "text/plain": [
       "3"
      ]
     },
     "execution_count": 35,
     "metadata": {},
     "output_type": "execute_result"
    }
   ],
   "source": [
    "# Two Pointer approach\n",
    "arr = [1,1,1,2,2,2,2,3,3,3]\n",
    "def remove_duplicate(arr):\n",
    "    i = 0\n",
    "    for j in range(1,len(arr)):\n",
    "        if arr[i] != arr[j]:\n",
    "            i+=1\n",
    "            arr[i] = arr[j]\n",
    "    return i+1\n",
    "        \n",
    "remove_duplicate(arr)"
   ]
  },
  {
   "cell_type": "markdown",
   "id": "77fb7ea0",
   "metadata": {},
   "source": [
    "# Left Rotate Array by one place"
   ]
  },
  {
   "cell_type": "code",
   "execution_count": 72,
   "id": "d803c6d9",
   "metadata": {},
   "outputs": [
    {
     "name": "stdout",
     "output_type": "stream",
     "text": [
      "[2, 3, 4, 5, 6, 7, 1]\n"
     ]
    }
   ],
   "source": [
    "arr = [1,2,3,4,5,6,7]\n",
    "\n",
    "def rotateByOnePlace(arr):\n",
    "    \n",
    "    temp = arr[0]\n",
    "    for i in range(len(arr)-1):\n",
    "        arr[i] = arr[i+1] \n",
    "    arr[len(arr)-1] = temp\n",
    "    \n",
    "    print(arr)\n",
    "    \n",
    "rotateByOnePlace(arr)"
   ]
  },
  {
   "cell_type": "markdown",
   "id": "dafb364d",
   "metadata": {},
   "source": [
    "# Left rotate an array by k places"
   ]
  },
  {
   "cell_type": "code",
   "execution_count": 16,
   "id": "aa4f7ebd",
   "metadata": {},
   "outputs": [
    {
     "name": "stdout",
     "output_type": "stream",
     "text": [
      " K = 1 arr = [2, 3, 4, 5, 6, 7, 1]\n",
      " K = 2 arr = [3, 4, 5, 6, 7, 1, 2]\n",
      " K = 3 arr = [4, 5, 6, 7, 1, 2, 3]\n"
     ]
    },
    {
     "data": {
      "text/plain": [
       "[4, 5, 6, 7, 1, 2, 3]"
      ]
     },
     "execution_count": 16,
     "metadata": {},
     "output_type": "execute_result"
    }
   ],
   "source": [
    "# approach 1 : Brute Force\n",
    "\n",
    "arr = [1,2,3,4,5,6,7]\n",
    "k = 3\n",
    "\n",
    "# at k = 3 : arr will be [4,5,6,7,1,2,3]\n",
    "\n",
    "def rotateByKPlaces(arr,k):\n",
    "    for i in range(k):\n",
    "        temp = arr[0]\n",
    "        for j in range(len(arr) - 1):\n",
    "            arr[j] = arr[j+1] \n",
    "        arr[-1] = temp\n",
    "        \n",
    "        print(f\" K = {i+1} arr = {arr}\")\n",
    "        \n",
    "    return arr\n",
    "\n",
    "rotateByKPlaces(arr,k)"
   ]
  },
  {
   "cell_type": "markdown",
   "id": "5008bebf",
   "metadata": {},
   "source": [
    "<center><h4>Time Complexity = O($n^2$)</h4>"
   ]
  },
  {
   "cell_type": "code",
   "execution_count": 68,
   "id": "ba1537f6",
   "metadata": {},
   "outputs": [
    {
     "name": "stdout",
     "output_type": "stream",
     "text": [
      "[4, 5, 6, 7, 1, 2, 3]\n"
     ]
    }
   ],
   "source": [
    "arr = [1,2,3,4,5,6,7]\n",
    "k = 3\n",
    "\n",
    "def leftRotatebyKOptimal(arr,k):\n",
    "    k = k%(len(arr))\n",
    "    \n",
    "    temp = arr[:k]\n",
    "    j = 0\n",
    "    for i in range(k+1):\n",
    "        arr[i] = arr[k+i]\n",
    "        \n",
    "    for i in range(k):\n",
    "        arr[k+1+i] = temp[i]\n",
    "    print(arr)\n",
    "    \n",
    "leftRotatebyKOptimal(arr,k)\n",
    "\n",
    "# fails for large n\n"
   ]
  },
  {
   "cell_type": "code",
   "execution_count": 28,
   "id": "49041e54",
   "metadata": {},
   "outputs": [
    {
     "name": "stdout",
     "output_type": "stream",
     "text": [
      "[4, 5, 6, 7, 1, 2, 3]\n"
     ]
    }
   ],
   "source": [
    "arr = [1,2,3,4,5,6,7]\n",
    "k = 3\n",
    "\n",
    "def leftRotatebyKOptimal(arr,k):\n",
    "    k = k%(len(arr))\n",
    "    \n",
    "    temp = arr[:k]\n",
    "    j = 0\n",
    "    for i in range(k,len(arr)):\n",
    "        arr[i-k] = arr[i]\n",
    "        \n",
    "    for i in range(k):\n",
    "        arr[k+1+i] = temp[i]\n",
    "    print(arr)\n",
    "    \n",
    "leftRotatebyKOptimal(arr,k)\n",
    "\n",
    "# fails for large n\n"
   ]
  },
  {
   "cell_type": "code",
   "execution_count": 29,
   "id": "b3e37a80",
   "metadata": {},
   "outputs": [
    {
     "data": {
      "text/plain": [
       "[4, 5, 6, 7, 1, 2, 3]"
      ]
     },
     "execution_count": 29,
     "metadata": {},
     "output_type": "execute_result"
    }
   ],
   "source": [
    "arr = [1,2,3,4,5,6,7]\n",
    "k = 3\n",
    "\n",
    "def lr(arr,k):\n",
    "    n = len(arr)\n",
    "    k = k%n\n",
    "    temp = arr[:k]\n",
    "    \n",
    "    for i in range(k,n):\n",
    "        arr[i-k] = arr[i]\n",
    "        \n",
    "    for i in range(n-k,n):\n",
    "        arr[i] = temp[i - (n-k)]\n",
    "        \n",
    "    return arr\n",
    "lr(arr,k)"
   ]
  },
  {
   "cell_type": "markdown",
   "id": "fbb6217c",
   "metadata": {},
   "source": [
    "# Right rotate an array"
   ]
  },
  {
   "cell_type": "code",
   "execution_count": 69,
   "id": "2c6df8f6",
   "metadata": {},
   "outputs": [
    {
     "name": "stdout",
     "output_type": "stream",
     "text": [
      " K = 1 arr = [7, 1, 2, 3, 4, 5, 6]\n",
      " K = 2 arr = [6, 7, 1, 2, 3, 4, 5]\n",
      " K = 3 arr = [5, 6, 7, 1, 2, 3, 4]\n"
     ]
    }
   ],
   "source": [
    "# Brute Force with n2 complexity\n",
    "arr = [1,2,3,4,5,6,7]\n",
    "k = 3\n",
    "\n",
    "k = k%len(arr)\n",
    "\n",
    "def rightRotateByKPlaces(arr,k):\n",
    "    for j in range(k):\n",
    "        temp = arr[-1]\n",
    "        for i in range(len(arr)-1,-1,-1):\n",
    "            arr[i] = arr[i-1]\n",
    "        arr[0] = temp\n",
    "        print(f\" K = {j+1} arr = {arr}\")\n",
    "        \n",
    "rightRotateByKPlaces(arr,k)\n"
   ]
  },
  {
   "cell_type": "markdown",
   "id": "521cba16",
   "metadata": {},
   "source": [
    "Time Complexity = O($n^2$)"
   ]
  },
  {
   "cell_type": "code",
   "execution_count": 26,
   "id": "de61cf05",
   "metadata": {},
   "outputs": [
    {
     "name": "stdout",
     "output_type": "stream",
     "text": [
      "[5, 6, 7, 1, 2, 3, 4]\n"
     ]
    }
   ],
   "source": [
    "# Simple solution - Taken from solution\n",
    "nums = [1,2,3,4,5,6,7]\n",
    "k = 3\n",
    "\n",
    "n=len(nums)\n",
    "if n<k:\n",
    "    k=k%n\n",
    "z=nums[n-k:] + nums[:n-k]\n",
    "for i in range(len(z)):\n",
    "    nums[i]=z[i]\n",
    "\n",
    "print(nums)"
   ]
  },
  {
   "cell_type": "code",
   "execution_count": 25,
   "id": "c2bdf3a1",
   "metadata": {},
   "outputs": [
    {
     "data": {
      "text/plain": [
       "[5, 6, 7, 1, 2, 3, 4]"
      ]
     },
     "execution_count": 25,
     "metadata": {},
     "output_type": "execute_result"
    }
   ],
   "source": [
    "# My best Solution \n",
    "arr = [1,2,3,4,5,6,7]\n",
    "k = 3\n",
    "n = len(arr)\n",
    "\n",
    "def rightRotateByKPlacesOptimal(arr,k):\n",
    "    n = len(arr)\n",
    "    k = k%n\n",
    "    temp = arr[n-k:]\n",
    "\n",
    "    for i in range((n-1-k),-1,-1):\n",
    "        arr[i+k] = arr[i] \n",
    "\n",
    "    for i in range(k):\n",
    "        arr[i] = temp[i]\n",
    "\n",
    "    return arr\n",
    "\n",
    "rightRotateByKPlacesOptimal(arr,k)\n",
    "    "
   ]
  },
  {
   "cell_type": "markdown",
   "id": "bebbb0e9",
   "metadata": {},
   "source": [
    "<center>Time Complexity = O(n)"
   ]
  },
  {
   "cell_type": "markdown",
   "id": "c93f01d2",
   "metadata": {},
   "source": [
    "# Move zeros at the end"
   ]
  },
  {
   "cell_type": "code",
   "execution_count": 56,
   "id": "21e1e37e",
   "metadata": {},
   "outputs": [
    {
     "data": {
      "text/plain": [
       "[1, 3, 12, 0, 0]"
      ]
     },
     "execution_count": 56,
     "metadata": {},
     "output_type": "execute_result"
    }
   ],
   "source": [
    "nums = [0,1,0,3,12]\n",
    "\n",
    "def moveZeros(nums):\n",
    "    if len(nums) <=1:\n",
    "        return nums\n",
    "    else:    \n",
    "        temp = []\n",
    "\n",
    "        for i in range(len(nums)):\n",
    "            if nums[i] != 0:\n",
    "                temp.append(nums[i])\n",
    "        for i in range(len(nums) - len(temp)):\n",
    "            temp.append(0)\n",
    "\n",
    "        for i in range(len(temp)):\n",
    "            nums[i] = temp[i]\n",
    "    \n",
    "    return nums\n",
    "\n",
    "moveZeros(nums)"
   ]
  },
  {
   "cell_type": "code",
   "execution_count": 19,
   "id": "9ee62c9c",
   "metadata": {},
   "outputs": [
    {
     "name": "stdout",
     "output_type": "stream",
     "text": [
      "Oth =  0 Nth =  -1\n",
      "[0, 1, 0, 3, 12] \n",
      "\n",
      "Oth =  1 Nth =  0\n",
      "[1, 0, 0, 3, 12] \n",
      "\n",
      "Oth =  3 Nth =  1\n",
      "[1, 3, 0, 0, 12] \n",
      "\n",
      "Oth =  4 Nth =  3\n",
      "[1, 3, 0, 12, 0] \n",
      "\n"
     ]
    },
    {
     "data": {
      "text/plain": [
       "[1, 3, 0, 12, 0]"
      ]
     },
     "execution_count": 19,
     "metadata": {},
     "output_type": "execute_result"
    }
   ],
   "source": [
    "arr = [0,1,0,3,12]    \n",
    "\n",
    "def zeroAtEnd(arr):\n",
    "    oth_index = -1\n",
    "    nth_index = -1\n",
    "\n",
    "    if len(arr) == 1:\n",
    "        return arr\n",
    "\n",
    "    for i in range(len(arr)):\n",
    "        if arr[i] == 0:\n",
    "            if arr[oth_index]!=0:\n",
    "                oth_index = i\n",
    "                print(\"Oth = \",oth_index,\"Nth = \",nth_index)\n",
    "                print(arr,'\\n')\n",
    "            \n",
    "        if arr[i] != 0:\n",
    "            nth_index = i\n",
    "            arr[oth_index],arr[nth_index] = arr[nth_index],arr[oth_index]\n",
    "            nth_index,oth_index = oth_index,nth_index\n",
    "            print(\"Oth = \",oth_index,\"Nth = \",nth_index)\n",
    "            print(arr,'\\n')\n",
    "    return arr\n",
    "zeroAtEnd(arr)"
   ]
  },
  {
   "cell_type": "code",
   "execution_count": null,
   "id": "d6b25e53",
   "metadata": {},
   "outputs": [],
   "source": []
  }
 ],
 "metadata": {
  "kernelspec": {
   "display_name": "Python 3 (ipykernel)",
   "language": "python",
   "name": "python3"
  },
  "language_info": {
   "codemirror_mode": {
    "name": "ipython",
    "version": 3
   },
   "file_extension": ".py",
   "mimetype": "text/x-python",
   "name": "python",
   "nbconvert_exporter": "python",
   "pygments_lexer": "ipython3",
   "version": "3.9.13"
  }
 },
 "nbformat": 4,
 "nbformat_minor": 5
}
