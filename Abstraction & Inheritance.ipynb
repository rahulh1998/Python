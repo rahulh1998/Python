{
 "cells": [
  {
   "cell_type": "markdown",
   "id": "2faafb7c",
   "metadata": {},
   "source": [
    "# Abstraction : Hiding the implementation\n"
   ]
  },
  {
   "cell_type": "code",
   "execution_count": 1,
   "id": "20751b02",
   "metadata": {},
   "outputs": [],
   "source": [
    "class test:\n",
    "    \n",
    "    def __init__(self, a, b, c):\n",
    "        self.a = a\n",
    "        self.b = b\n",
    "        self.c = c\n",
    "    \n",
    "    def diff(self,v):\n",
    "        return v-self.a,v-self.b,v-self.c"
   ]
  },
  {
   "cell_type": "code",
   "execution_count": 2,
   "id": "add204cd",
   "metadata": {},
   "outputs": [],
   "source": [
    "test1 = test(1,2,3)"
   ]
  },
  {
   "cell_type": "code",
   "execution_count": 3,
   "id": "e9f6f97e",
   "metadata": {},
   "outputs": [
    {
     "data": {
      "text/plain": [
       "(4, 3, 2)"
      ]
     },
     "execution_count": 3,
     "metadata": {},
     "output_type": "execute_result"
    }
   ],
   "source": [
    "test1.diff(5)"
   ]
  },
  {
   "cell_type": "code",
   "execution_count": 4,
   "id": "59ba22b3",
   "metadata": {},
   "outputs": [
    {
     "data": {
      "text/plain": [
       "1"
      ]
     },
     "execution_count": 4,
     "metadata": {},
     "output_type": "execute_result"
    }
   ],
   "source": [
    "test1.a"
   ]
  },
  {
   "cell_type": "code",
   "execution_count": 5,
   "id": "d18eafaf",
   "metadata": {},
   "outputs": [],
   "source": [
    "# Abstraction concept : a = public; _a = protected; __a = private\n",
    "class test2:\n",
    "    \n",
    "    def __init__(self, a, b, c):\n",
    "        self.__a = a\n",
    "        self.b = b\n",
    "        self.c = c\n",
    "    \n",
    "    def diff(self,v):\n",
    "        return v-self.__a,v-self.b,v-self.c\n",
    "    \n",
    "    def __str__(self):\n",
    "        return \"Hey you are using test2 class\""
   ]
  },
  {
   "cell_type": "code",
   "execution_count": 6,
   "id": "e64bbcf2",
   "metadata": {},
   "outputs": [],
   "source": [
    "t2 = test2(10,20,98)"
   ]
  },
  {
   "cell_type": "code",
   "execution_count": 7,
   "id": "429d9652",
   "metadata": {},
   "outputs": [
    {
     "data": {
      "text/plain": [
       "(990, 980, 902)"
      ]
     },
     "execution_count": 7,
     "metadata": {},
     "output_type": "execute_result"
    }
   ],
   "source": [
    "t2.diff(1000)"
   ]
  },
  {
   "cell_type": "code",
   "execution_count": 8,
   "id": "b30ba4df",
   "metadata": {},
   "outputs": [
    {
     "name": "stdout",
     "output_type": "stream",
     "text": [
      "Hey you are using test2 class\n"
     ]
    }
   ],
   "source": [
    "print(t2)"
   ]
  },
  {
   "cell_type": "markdown",
   "id": "bb974bd1",
   "metadata": {},
   "source": [
    "### class_object._class_name__variable_name"
   ]
  },
  {
   "cell_type": "code",
   "execution_count": 9,
   "id": "fddb7660",
   "metadata": {},
   "outputs": [
    {
     "data": {
      "text/plain": [
       "10"
      ]
     },
     "execution_count": 9,
     "metadata": {},
     "output_type": "execute_result"
    }
   ],
   "source": [
    "# Accessing private variable : class_object._class_name__variable_name\n",
    "t2._test2__a "
   ]
  },
  {
   "cell_type": "markdown",
   "id": "7c850488",
   "metadata": {},
   "source": [
    "# Inheritance"
   ]
  },
  {
   "cell_type": "code",
   "execution_count": 10,
   "id": "9b878bba",
   "metadata": {},
   "outputs": [],
   "source": [
    "#Parent Class\n",
    "class parent():\n",
    "    \n",
    "    def __init__(self,a,b): # Super() calls this method \n",
    "        self.a = a\n",
    "        self.b = b\n",
    "    \n",
    "    def diff(self,v):\n",
    "        return v-self.a , v-self.b"
   ]
  },
  {
   "cell_type": "code",
   "execution_count": 11,
   "id": "f8e4fab0",
   "metadata": {},
   "outputs": [],
   "source": [
    "class child(parent):\n",
    "    \n",
    "    def __init__(self, j, *args): #init of child class with multiple arguements\n",
    "        super(child,self).__init__(*args) # calling the __init__ of parent class using super()\n",
    "        self.j=j\n",
    "        \n",
    "    def lets_square(self,val):\n",
    "        self.val = val\n",
    "        return self.a**self.val , self.b**self.val "
   ]
  },
  {
   "cell_type": "code",
   "execution_count": 12,
   "id": "0f0195cb",
   "metadata": {},
   "outputs": [],
   "source": [
    "# you can only pass exact no of variables that are declared in :\n",
    "#  __init__ of parent class + __init__ of child class\n",
    "\n",
    "c = child(1,2,3) "
   ]
  },
  {
   "cell_type": "code",
   "execution_count": 13,
   "id": "efabe85b",
   "metadata": {},
   "outputs": [
    {
     "data": {
      "text/plain": [
       "1"
      ]
     },
     "execution_count": 13,
     "metadata": {},
     "output_type": "execute_result"
    }
   ],
   "source": [
    "c.j"
   ]
  },
  {
   "cell_type": "code",
   "execution_count": 14,
   "id": "278b03af",
   "metadata": {},
   "outputs": [
    {
     "data": {
      "text/plain": [
       "2"
      ]
     },
     "execution_count": 14,
     "metadata": {},
     "output_type": "execute_result"
    }
   ],
   "source": [
    "c.a"
   ]
  },
  {
   "cell_type": "code",
   "execution_count": 15,
   "id": "d6be56c3",
   "metadata": {},
   "outputs": [
    {
     "data": {
      "text/plain": [
       "3"
      ]
     },
     "execution_count": 15,
     "metadata": {},
     "output_type": "execute_result"
    }
   ],
   "source": [
    "c.b"
   ]
  },
  {
   "cell_type": "code",
   "execution_count": 16,
   "id": "4ceef217",
   "metadata": {},
   "outputs": [
    {
     "data": {
      "text/plain": [
       "(32, 243)"
      ]
     },
     "execution_count": 16,
     "metadata": {},
     "output_type": "execute_result"
    }
   ],
   "source": [
    "c.lets_square(5)"
   ]
  },
  {
   "cell_type": "markdown",
   "id": "7864e6c8",
   "metadata": {},
   "source": [
    "###  Problem Statement"
   ]
  },
  {
   "cell_type": "code",
   "execution_count": 17,
   "id": "a801adb7",
   "metadata": {},
   "outputs": [
    {
     "name": "stdout",
     "output_type": "stream",
     "text": [
      "Function of test_a\n",
      "Function of test_b\n",
      "child test_ab\n",
      "Function of test_a\n"
     ]
    }
   ],
   "source": [
    "class test_a:\n",
    "    def a(self):\n",
    "        print(\"Function of test_a\")\n",
    "\n",
    "class test_b:\n",
    "    def a(self):\n",
    "        print(\"Function of test_b\")\n",
    "    \n",
    "class child_test_ab(test_a,test_b):\n",
    "    t1 = test_a()\n",
    "    t1.a()\n",
    "    t2 = test_b()\n",
    "    t2.a()\n",
    "    print(\"child test_ab\")\n",
    "\n",
    "ct_ab = child_test_ab()\n",
    "ct_ab.a()# calls the first class in the arguement\n"
   ]
  },
  {
   "cell_type": "code",
   "execution_count": 18,
   "id": "eb4f2fb3",
   "metadata": {},
   "outputs": [
    {
     "data": {
      "text/plain": [
       "6000"
      ]
     },
     "execution_count": 18,
     "metadata": {},
     "output_type": "execute_result"
    }
   ],
   "source": [
    "# abstraction example\n",
    "\n",
    "class abstrct:\n",
    "    def demo(self):\n",
    "        a = 10\n",
    "        b = 20\n",
    "        c = 30\n",
    "        return a*b*c\n",
    "\n",
    "abst = abstrct().demo()\n",
    "abst"
   ]
  },
  {
   "cell_type": "code",
   "execution_count": 19,
   "id": "9cb00c2a",
   "metadata": {},
   "outputs": [
    {
     "data": {
      "text/plain": [
       "int"
      ]
     },
     "execution_count": 19,
     "metadata": {},
     "output_type": "execute_result"
    }
   ],
   "source": [
    "type(abst)"
   ]
  },
  {
   "cell_type": "code",
   "execution_count": 20,
   "id": "0dc0d52e",
   "metadata": {},
   "outputs": [
    {
     "name": "stdout",
     "output_type": "stream",
     "text": [
      "Self.a =  10\n",
      "Self.a =  2\n",
      "Other.a =  2\n"
     ]
    },
    {
     "data": {
      "text/plain": [
       "20"
      ]
     },
     "execution_count": 20,
     "metadata": {},
     "output_type": "execute_result"
    }
   ],
   "source": [
    "# another abstraction\n",
    "\n",
    "class mulnum():\n",
    "    def __init__(self,a):\n",
    "        self.a = a\n",
    "        print('Self.a = ',self.a)\n",
    "    \n",
    "    def __mul__(self,other):\n",
    "        print(\"Other.a = \",other.a)\n",
    "        return self.a*other.a\n",
    "    \n",
    "\n",
    "a1 = mulnum(10)\n",
    "a2 = mulnum(2)\n",
    "a1*a2"
   ]
  },
  {
   "cell_type": "code",
   "execution_count": 21,
   "id": "27fdc36d",
   "metadata": {},
   "outputs": [],
   "source": [
    "#!python --version"
   ]
  },
  {
   "cell_type": "code",
   "execution_count": null,
   "id": "c3b5c218",
   "metadata": {},
   "outputs": [],
   "source": []
  }
 ],
 "metadata": {
  "kernelspec": {
   "display_name": "Python 3",
   "language": "python",
   "name": "python3"
  },
  "language_info": {
   "codemirror_mode": {
    "name": "ipython",
    "version": 3
   },
   "file_extension": ".py",
   "mimetype": "text/x-python",
   "name": "python",
   "nbconvert_exporter": "python",
   "pygments_lexer": "ipython3",
   "version": "3.8.8"
  }
 },
 "nbformat": 4,
 "nbformat_minor": 5
}
