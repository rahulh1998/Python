{
 "cells": [
  {
   "cell_type": "code",
   "execution_count": 1,
   "id": "e91959ca",
   "metadata": {},
   "outputs": [
    {
     "name": "stdout",
     "output_type": "stream",
     "text": [
      "Hey my name is Rahul Hirondi and my age is 25\n",
      "\n",
      "value of Pi rounded by 2 decimal places is 3.14\n"
     ]
    }
   ],
   "source": [
    "## Fstrings\n",
    "\n",
    "age = 25\n",
    "name = \"Rahul Hirondi\"\n",
    "pi = 3.142857142857143\n",
    "\n",
    "\n",
    "msg = \"Hey my name is {} and my age is {}\".format(name,age)\n",
    "print(msg)\n",
    "\n",
    "print(f\"\\nvalue of Pi rounded by 2 decimal places is {pi:.2f}\")"
   ]
  },
  {
   "cell_type": "code",
   "execution_count": 2,
   "id": "6bf45408",
   "metadata": {},
   "outputs": [
    {
     "data": {
      "text/plain": [
       "3.142857142857143"
      ]
     },
     "execution_count": 2,
     "metadata": {},
     "output_type": "execute_result"
    }
   ],
   "source": [
    "22/7\n"
   ]
  },
  {
   "cell_type": "code",
   "execution_count": 3,
   "id": "ae95baa2",
   "metadata": {},
   "outputs": [
    {
     "data": {
      "text/plain": [
       "['ArrowDtype',\n",
       " 'BooleanDtype',\n",
       " 'Categorical',\n",
       " 'CategoricalDtype',\n",
       " 'CategoricalIndex',\n",
       " 'DataFrame',\n",
       " 'DateOffset',\n",
       " 'DatetimeIndex',\n",
       " 'DatetimeTZDtype',\n",
       " 'ExcelFile',\n",
       " 'ExcelWriter',\n",
       " 'Flags',\n",
       " 'Float32Dtype',\n",
       " 'Float64Dtype',\n",
       " 'Float64Index',\n",
       " 'Grouper',\n",
       " 'HDFStore',\n",
       " 'Index',\n",
       " 'IndexSlice',\n",
       " 'Int16Dtype',\n",
       " 'Int32Dtype',\n",
       " 'Int64Dtype',\n",
       " 'Int64Index',\n",
       " 'Int8Dtype',\n",
       " 'Interval',\n",
       " 'IntervalDtype',\n",
       " 'IntervalIndex',\n",
       " 'MultiIndex',\n",
       " 'NA',\n",
       " 'NaT',\n",
       " 'NamedAgg',\n",
       " 'Period',\n",
       " 'PeriodDtype',\n",
       " 'PeriodIndex',\n",
       " 'RangeIndex',\n",
       " 'Series',\n",
       " 'SparseDtype',\n",
       " 'StringDtype',\n",
       " 'Timedelta',\n",
       " 'TimedeltaIndex',\n",
       " 'Timestamp',\n",
       " 'UInt16Dtype',\n",
       " 'UInt32Dtype',\n",
       " 'UInt64Dtype',\n",
       " 'UInt64Index',\n",
       " 'UInt8Dtype',\n",
       " '__all__',\n",
       " '__builtins__',\n",
       " '__cached__',\n",
       " '__deprecated_num_index_names',\n",
       " '__dir__',\n",
       " '__doc__',\n",
       " '__docformat__',\n",
       " '__file__',\n",
       " '__getattr__',\n",
       " '__git_version__',\n",
       " '__loader__',\n",
       " '__name__',\n",
       " '__package__',\n",
       " '__path__',\n",
       " '__spec__',\n",
       " '__version__',\n",
       " '_config',\n",
       " '_is_numpy_dev',\n",
       " '_libs',\n",
       " '_testing',\n",
       " '_typing',\n",
       " '_version',\n",
       " 'annotations',\n",
       " 'api',\n",
       " 'array',\n",
       " 'arrays',\n",
       " 'bdate_range',\n",
       " 'compat',\n",
       " 'concat',\n",
       " 'core',\n",
       " 'crosstab',\n",
       " 'cut',\n",
       " 'date_range',\n",
       " 'describe_option',\n",
       " 'errors',\n",
       " 'eval',\n",
       " 'factorize',\n",
       " 'from_dummies',\n",
       " 'get_dummies',\n",
       " 'get_option',\n",
       " 'infer_freq',\n",
       " 'interval_range',\n",
       " 'io',\n",
       " 'isna',\n",
       " 'isnull',\n",
       " 'json_normalize',\n",
       " 'lreshape',\n",
       " 'melt',\n",
       " 'merge',\n",
       " 'merge_asof',\n",
       " 'merge_ordered',\n",
       " 'notna',\n",
       " 'notnull',\n",
       " 'offsets',\n",
       " 'option_context',\n",
       " 'options',\n",
       " 'pandas',\n",
       " 'period_range',\n",
       " 'pivot',\n",
       " 'pivot_table',\n",
       " 'plotting',\n",
       " 'qcut',\n",
       " 'read_clipboard',\n",
       " 'read_csv',\n",
       " 'read_excel',\n",
       " 'read_feather',\n",
       " 'read_fwf',\n",
       " 'read_gbq',\n",
       " 'read_hdf',\n",
       " 'read_html',\n",
       " 'read_json',\n",
       " 'read_orc',\n",
       " 'read_parquet',\n",
       " 'read_pickle',\n",
       " 'read_sas',\n",
       " 'read_spss',\n",
       " 'read_sql',\n",
       " 'read_sql_query',\n",
       " 'read_sql_table',\n",
       " 'read_stata',\n",
       " 'read_table',\n",
       " 'read_xml',\n",
       " 'reset_option',\n",
       " 'set_eng_float_format',\n",
       " 'set_option',\n",
       " 'show_versions',\n",
       " 'test',\n",
       " 'testing',\n",
       " 'timedelta_range',\n",
       " 'to_datetime',\n",
       " 'to_numeric',\n",
       " 'to_pickle',\n",
       " 'to_timedelta',\n",
       " 'tseries',\n",
       " 'unique',\n",
       " 'util',\n",
       " 'value_counts',\n",
       " 'wide_to_long']"
      ]
     },
     "execution_count": 3,
     "metadata": {},
     "output_type": "execute_result"
    }
   ],
   "source": [
    "## List all the functions inside a module/package\n",
    "\n",
    "import pandas as pd\n",
    "dir(pd)"
   ]
  },
  {
   "cell_type": "code",
   "execution_count": 4,
   "id": "bd92191e",
   "metadata": {},
   "outputs": [],
   "source": [
    "from Modules.basics import *"
   ]
  },
  {
   "cell_type": "code",
   "execution_count": 5,
   "id": "983f006a",
   "metadata": {},
   "outputs": [
    {
     "name": "stdout",
     "output_type": "stream",
     "text": [
      "Hello my name is Rahul\n"
     ]
    }
   ],
   "source": [
    "name()"
   ]
  },
  {
   "cell_type": "code",
   "execution_count": 6,
   "id": "46af2625",
   "metadata": {},
   "outputs": [
    {
     "name": "stdout",
     "output_type": "stream",
     "text": [
      "For 5 many years of experience, salary should be 4500000\n"
     ]
    }
   ],
   "source": [
    "salary(5)"
   ]
  },
  {
   "cell_type": "code",
   "execution_count": 7,
   "id": "00ceff42",
   "metadata": {},
   "outputs": [
    {
     "name": "stdout",
     "output_type": "stream",
     "text": [
      "Rahul\n"
     ]
    }
   ],
   "source": [
    "if __name__ == \"__main__\":\n",
    "    print('Rahul')"
   ]
  },
  {
   "cell_type": "code",
   "execution_count": 8,
   "id": "45838a34",
   "metadata": {},
   "outputs": [
    {
     "name": "stdout",
     "output_type": "stream",
     "text": [
      "Modules.basics\n"
     ]
    }
   ],
   "source": [
    "print_name()"
   ]
  },
  {
   "cell_type": "markdown",
   "id": "dd5bb512",
   "metadata": {},
   "source": [
    "## os module"
   ]
  },
  {
   "cell_type": "code",
   "execution_count": 10,
   "id": "1945d17b",
   "metadata": {},
   "outputs": [
    {
     "data": {
      "text/plain": [
       "['.ipynb_checkpoints',\n",
       " 'Basics Revision.ipynb',\n",
       " 'Error Handling.ipynb',\n",
       " 'Modules']"
      ]
     },
     "execution_count": 10,
     "metadata": {},
     "output_type": "execute_result"
    }
   ],
   "source": [
    "\n",
    "import os\n",
    "os.listdir()"
   ]
  },
  {
   "cell_type": "code",
   "execution_count": 11,
   "id": "be54758e",
   "metadata": {},
   "outputs": [],
   "source": [
    "os.mkdir(\"OS Module\")"
   ]
  },
  {
   "cell_type": "code",
   "execution_count": 12,
   "id": "ef57008b",
   "metadata": {},
   "outputs": [
    {
     "data": {
      "text/plain": [
       "['.ipynb_checkpoints',\n",
       " 'Basics Revision.ipynb',\n",
       " 'Error Handling.ipynb',\n",
       " 'Modules',\n",
       " 'OS Module']"
      ]
     },
     "execution_count": 12,
     "metadata": {},
     "output_type": "execute_result"
    }
   ],
   "source": [
    "os.listdir()"
   ]
  },
  {
   "cell_type": "code",
   "execution_count": 40,
   "id": "26caa805",
   "metadata": {},
   "outputs": [
    {
     "name": "stdout",
     "output_type": "stream",
     "text": [
      "Folders Created successfully!!!!\n"
     ]
    }
   ],
   "source": [
    "for i in range(100):\n",
    "    os.mkdir(f\"OS Module/Day{i+1}\")\n",
    "print(\"Folders Created successfully!!!!\")"
   ]
  },
  {
   "cell_type": "code",
   "execution_count": 33,
   "id": "938216de",
   "metadata": {},
   "outputs": [
    {
     "name": "stdout",
     "output_type": "stream",
     "text": [
      "Folders Deleted successfully!!!!\n"
     ]
    }
   ],
   "source": [
    "for i in range(100):\n",
    "    os.rmdir(f\"OS Module/Day{i+1}\")\n",
    "print(\"Folders Deleted successfully!!!!\")"
   ]
  },
  {
   "cell_type": "code",
   "execution_count": 34,
   "id": "9b41079c",
   "metadata": {},
   "outputs": [],
   "source": [
    "if not os.path.exists(\"OS Module\"):\n",
    "    print(\"Not Present\")"
   ]
  },
  {
   "cell_type": "code",
   "execution_count": 41,
   "id": "a3f3b877",
   "metadata": {},
   "outputs": [
    {
     "name": "stdout",
     "output_type": "stream",
     "text": [
      "Folders Renamed successfully!!!!\n"
     ]
    }
   ],
   "source": [
    "for i in range(100):\n",
    "    os.rename(f\"OS Module/Day{i+1}\",f\"OS Module/Folder{i+1}\")\n",
    "print(\"Folders Renamed successfully!!!!\")\n",
    "\n",
    "# for i in range(100):\n",
    "#     os.rmdir(f\"OS Module/Folder{i+1}\")\n",
    "# print(\"Folders Deleted successfully!!!!\")"
   ]
  },
  {
   "cell_type": "code",
   "execution_count": 43,
   "id": "0a26acf6",
   "metadata": {},
   "outputs": [
    {
     "data": {
      "text/plain": [
       "['.ipynb_checkpoints',\n",
       " 'Folder1',\n",
       " 'Folder10',\n",
       " 'Folder100',\n",
       " 'Folder11',\n",
       " 'Folder12',\n",
       " 'Folder13',\n",
       " 'Folder14',\n",
       " 'Folder15',\n",
       " 'Folder16']"
      ]
     },
     "execution_count": 43,
     "metadata": {},
     "output_type": "execute_result"
    }
   ],
   "source": [
    "os.listdir('OS Module/')[:10]"
   ]
  },
  {
   "cell_type": "code",
   "execution_count": 44,
   "id": "38210fb1",
   "metadata": {},
   "outputs": [
    {
     "data": {
      "text/plain": [
       "101"
      ]
     },
     "execution_count": 44,
     "metadata": {},
     "output_type": "execute_result"
    }
   ],
   "source": [
    "len(os.listdir('OS Module'))"
   ]
  },
  {
   "cell_type": "code",
   "execution_count": 45,
   "id": "475ca119",
   "metadata": {},
   "outputs": [
    {
     "data": {
      "text/plain": [
       "'C:\\\\Users\\\\Rahul\\\\Desktop\\\\Python'"
      ]
     },
     "execution_count": 45,
     "metadata": {},
     "output_type": "execute_result"
    }
   ],
   "source": [
    "os.getcwd()"
   ]
  },
  {
   "cell_type": "code",
   "execution_count": 52,
   "id": "2d28970a",
   "metadata": {},
   "outputs": [],
   "source": [
    "x = 10\n",
    "\n",
    "def f1():\n",
    "    \n",
    "    global x\n",
    "    \n",
    "    print(\"Global x = : \",x)\n",
    "    \n",
    "    x = 90\n",
    "    \n",
    "    print (\"Updated x = \",x)\n",
    "    "
   ]
  },
  {
   "cell_type": "code",
   "execution_count": 50,
   "id": "20fa2378",
   "metadata": {},
   "outputs": [
    {
     "name": "stdout",
     "output_type": "stream",
     "text": [
      " Global x = :  10\n",
      "Updated x =  90\n"
     ]
    }
   ],
   "source": [
    "f1()"
   ]
  },
  {
   "cell_type": "markdown",
   "id": "ba38365c",
   "metadata": {},
   "source": [
    "## FILE IO"
   ]
  },
  {
   "cell_type": "code",
   "execution_count": 2,
   "id": "71626158",
   "metadata": {},
   "outputs": [
    {
     "name": "stdout",
     "output_type": "stream",
     "text": [
      "<_io.TextIOWrapper name='txt1.txt' mode='w' encoding='cp1252'>\n"
     ]
    }
   ],
   "source": [
    "f= open('txt1.txt','w') #  r w a\n",
    "print(f)"
   ]
  },
  {
   "cell_type": "code",
   "execution_count": 3,
   "id": "64c850bf",
   "metadata": {},
   "outputs": [
    {
     "data": {
      "text/plain": [
       "60"
      ]
     },
     "execution_count": 3,
     "metadata": {},
     "output_type": "execute_result"
    }
   ],
   "source": [
    "f.write(\"Rahul is a very good code. He is going to be very very rich.\")"
   ]
  },
  {
   "cell_type": "code",
   "execution_count": 4,
   "id": "b62aab60",
   "metadata": {},
   "outputs": [],
   "source": [
    "f.close()"
   ]
  },
  {
   "cell_type": "code",
   "execution_count": 5,
   "id": "080dc549",
   "metadata": {},
   "outputs": [
    {
     "data": {
      "text/plain": [
       "'Rahul is a very good code. He is going to be very very rich.'"
      ]
     },
     "execution_count": 5,
     "metadata": {},
     "output_type": "execute_result"
    }
   ],
   "source": [
    "f = open('txt1.txt') # by default opens a file in read mode\n",
    "f.read()"
   ]
  },
  {
   "cell_type": "code",
   "execution_count": 6,
   "id": "6d0b7504",
   "metadata": {},
   "outputs": [
    {
     "data": {
      "text/plain": [
       "''"
      ]
     },
     "execution_count": 6,
     "metadata": {},
     "output_type": "execute_result"
    }
   ],
   "source": [
    "f.read()"
   ]
  },
  {
   "cell_type": "code",
   "execution_count": 12,
   "id": "ebf3c1ec",
   "metadata": {},
   "outputs": [
    {
     "data": {
      "text/plain": [
       "'Rahul is a very good code. He is going to be very very rich.'"
      ]
     },
     "execution_count": 12,
     "metadata": {},
     "output_type": "execute_result"
    }
   ],
   "source": [
    "f.seek(0)\n",
    "f.read()"
   ]
  },
  {
   "cell_type": "code",
   "execution_count": 15,
   "id": "47edb6d9",
   "metadata": {},
   "outputs": [],
   "source": [
    "f= open('txt1.txt','a') #  r w a\n",
    "f.write('He is going to become a very famous AI Engineer.\\n Very soon he wil start his own company and start taking the freelancing work')\n",
    "f.close()"
   ]
  },
  {
   "cell_type": "code",
   "execution_count": 16,
   "id": "1095cf64",
   "metadata": {},
   "outputs": [
    {
     "data": {
      "text/plain": [
       "'Rahul is a very good code. He is going to be very very rich.He is going to become a very famous AI Engineer.\\n Very soon he wil start his own company and start taking the freelancing workHe is going to become a very famous AI Engineer.\\n Very soon he wil start his own company and start taking the freelancing work'"
      ]
     },
     "execution_count": 16,
     "metadata": {},
     "output_type": "execute_result"
    }
   ],
   "source": [
    "f= open('txt1.txt')\n",
    "f.seek(0)\n",
    "f.read()"
   ]
  },
  {
   "cell_type": "markdown",
   "id": "33d614f4",
   "metadata": {},
   "source": [
    "#  Lambda Functions"
   ]
  },
  {
   "cell_type": "code",
   "execution_count": 28,
   "id": "1a66601e",
   "metadata": {},
   "outputs": [
    {
     "data": {
      "text/plain": [
       "361"
      ]
     },
     "execution_count": 28,
     "metadata": {},
     "output_type": "execute_result"
    }
   ],
   "source": [
    "fun = lambda x : x**2 \n",
    "\n",
    "fun(19)"
   ]
  },
  {
   "cell_type": "code",
   "execution_count": 29,
   "id": "4a0fa970",
   "metadata": {},
   "outputs": [
    {
     "data": {
      "text/plain": [
       "[10, 19, 28, 37, 46, 55, 64, 73, 82, 91]"
      ]
     },
     "execution_count": 29,
     "metadata": {},
     "output_type": "execute_result"
    }
   ],
   "source": [
    "l = list(range(10,100,9))\n",
    "l"
   ]
  },
  {
   "cell_type": "markdown",
   "id": "5c4a29e3",
   "metadata": {},
   "source": [
    "## Map Function\n",
    "\n",
    "Works with a function and an iterable"
   ]
  },
  {
   "cell_type": "code",
   "execution_count": 30,
   "id": "49011b68",
   "metadata": {},
   "outputs": [
    {
     "data": {
      "text/plain": [
       "[100, 361, 784, 1369, 2116, 3025, 4096, 5329, 6724, 8281]"
      ]
     },
     "execution_count": 30,
     "metadata": {},
     "output_type": "execute_result"
    }
   ],
   "source": [
    "list(map(fun,l))"
   ]
  },
  {
   "cell_type": "markdown",
   "id": "327adf8b",
   "metadata": {},
   "source": [
    "##  Filter "
   ]
  },
  {
   "cell_type": "code",
   "execution_count": 32,
   "id": "e313eb08",
   "metadata": {},
   "outputs": [
    {
     "data": {
      "text/plain": [
       "[55, 64, 73, 82, 91]"
      ]
     },
     "execution_count": 32,
     "metadata": {},
     "output_type": "execute_result"
    }
   ],
   "source": [
    "f = lambda x:x>50\n",
    "\n",
    "list(filter(f,l))"
   ]
  },
  {
   "cell_type": "markdown",
   "id": "35e16552",
   "metadata": {},
   "source": [
    "## Reduce Functions"
   ]
  },
  {
   "cell_type": "code",
   "execution_count": 35,
   "id": "2e11b129",
   "metadata": {},
   "outputs": [
    {
     "data": {
      "text/plain": [
       "505"
      ]
     },
     "execution_count": 35,
     "metadata": {},
     "output_type": "execute_result"
    }
   ],
   "source": [
    "from functools import reduce\n",
    "\n",
    "reduce(lambda x,y: x+y, l)"
   ]
  },
  {
   "cell_type": "code",
   "execution_count": null,
   "id": "e11508d8",
   "metadata": {},
   "outputs": [],
   "source": []
  }
 ],
 "metadata": {
  "kernelspec": {
   "display_name": "Python 3 (ipykernel)",
   "language": "python",
   "name": "python3"
  },
  "language_info": {
   "codemirror_mode": {
    "name": "ipython",
    "version": 3
   },
   "file_extension": ".py",
   "mimetype": "text/x-python",
   "name": "python",
   "nbconvert_exporter": "python",
   "pygments_lexer": "ipython3",
   "version": "3.11.3"
  }
 },
 "nbformat": 4,
 "nbformat_minor": 5
}
