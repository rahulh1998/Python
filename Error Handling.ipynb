{
 "cells": [
  {
   "cell_type": "code",
   "execution_count": 20,
   "id": "939538d8",
   "metadata": {},
   "outputs": [
    {
     "name": "stdout",
     "output_type": "stream",
     "text": [
      "enter a no3\n",
      "3\n",
      "6\n",
      "9\n",
      "12\n",
      "15\n",
      "18\n",
      "21\n",
      "24\n",
      "27\n",
      "30\n"
     ]
    }
   ],
   "source": [
    "# Exception Handling\n",
    "\n",
    "a = input(\"enter a no\")\n",
    "\n",
    "try :\n",
    "    for i in range(1,11):\n",
    "        print(int(a)*i)\n",
    "except ValueError:\n",
    "    print('Error')\n",
    "\n",
    "#print(\"Executing without any error\")"
   ]
  },
  {
   "cell_type": "code",
   "execution_count": 14,
   "id": "c0250586",
   "metadata": {},
   "outputs": [
    {
     "name": "stdout",
     "output_type": "stream",
     "text": [
      "Enter any index s\n",
      "Enter an integer\n"
     ]
    }
   ],
   "source": [
    "# Exception Objects\n",
    "\n",
    "try:\n",
    "    arr = [1,23,4]\n",
    "    n = input('Enter any index ')\n",
    "    print(arr[int(n)])\n",
    "    \n",
    "except ValueError:\n",
    "    print(\"Enter an integer\")\n",
    "    \n",
    "except IndexError:\n",
    "    print(\"Enter a valid index\")"
   ]
  },
  {
   "cell_type": "code",
   "execution_count": 18,
   "id": "b4016201",
   "metadata": {},
   "outputs": [
    {
     "name": "stdout",
     "output_type": "stream",
     "text": [
      "Enter a no  \n",
      "Error occured\n",
      "Executing Finally block!!\n",
      "0\n"
     ]
    }
   ],
   "source": [
    "# Finally Keyword\n",
    "\n",
    "def func1():\n",
    "    try :\n",
    "        arr = [1,2]\n",
    "        n = input(\"Enter a no \")\n",
    "        print(arr[int(n)])\n",
    "        print(\"Executed Successfully!!!\")\n",
    "        return 1\n",
    "    \n",
    "    except :\n",
    "        print('Error occured')\n",
    "        return 0\n",
    "    \n",
    "    finally:\n",
    "        print('Executing Finally block!!')\n",
    "\n",
    "print(func1())"
   ]
  },
  {
   "cell_type": "code",
   "execution_count": 25,
   "id": "f99caefe",
   "metadata": {},
   "outputs": [
    {
     "name": "stdout",
     "output_type": "stream",
     "text": [
      "Enter a no <= 204\n"
     ]
    }
   ],
   "source": [
    "# Raise Keyword\n",
    "\n",
    "n = int(input(\"Enter a no <= 20\"))\n",
    "\n",
    "if n > 20:\n",
    "    raise ValueError('Incorrect no entered')"
   ]
  },
  {
   "cell_type": "code",
   "execution_count": 28,
   "id": "5e8641c8",
   "metadata": {},
   "outputs": [
    {
     "name": "stdout",
     "output_type": "stream",
     "text": [
      "=\n"
     ]
    }
   ],
   "source": [
    "# Short hand if elsse\n",
    "\n",
    "\n",
    "a = 64454\n",
    "b = 64454\n",
    "\n",
    "print(\"A\") if a>b else print(\"B\") if b>a else print(\"=\") "
   ]
  },
  {
   "cell_type": "code",
   "execution_count": null,
   "id": "2edaccf8",
   "metadata": {},
   "outputs": [],
   "source": []
  }
 ],
 "metadata": {
  "kernelspec": {
   "display_name": "Python 3 (ipykernel)",
   "language": "python",
   "name": "python3"
  },
  "language_info": {
   "codemirror_mode": {
    "name": "ipython",
    "version": 3
   },
   "file_extension": ".py",
   "mimetype": "text/x-python",
   "name": "python",
   "nbconvert_exporter": "python",
   "pygments_lexer": "ipython3",
   "version": "3.11.3"
  }
 },
 "nbformat": 4,
 "nbformat_minor": 5
}
