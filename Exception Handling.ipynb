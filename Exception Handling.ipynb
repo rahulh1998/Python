{
 "cells": [
  {
   "cell_type": "markdown",
   "id": "742a527d",
   "metadata": {},
   "source": [
    "### Except can catch only Runtime error"
   ]
  },
  {
   "cell_type": "code",
   "execution_count": 1,
   "id": "6c9ce48a",
   "metadata": {},
   "outputs": [
    {
     "name": "stdout",
     "output_type": "stream",
     "text": [
      "Your code has this: division by zero\n"
     ]
    }
   ],
   "source": [
    "try : #put your suspecious code here\n",
    "        a = 5/0\n",
    "        #n= 8/5\n",
    "    \n",
    "except ArithmeticError as e:\n",
    "    \n",
    "    print(f'Your code has this: {e}')\n",
    "    \n",
    "else:\n",
    "    print('This will execute when success')"
   ]
  },
  {
   "cell_type": "code",
   "execution_count": 3,
   "id": "f63c9b40",
   "metadata": {},
   "outputs": [
    {
     "name": "stdout",
     "output_type": "stream",
     "text": [
      "This will execute when success\n",
      "There is an issue with opening\n"
     ]
    }
   ],
   "source": [
    "try :\n",
    "        #a = 5/0\n",
    "        n= 8/5\n",
    "    \n",
    "except ArithmeticError as e:\n",
    "    \n",
    "    print(f'Your code has this: {e}')\n",
    "    \n",
    "else:\n",
    "    print('This will execute when success')\n",
    "    try:\n",
    "        f = open('test1.txt','r')\n",
    "    except :\n",
    "        print('There is an issue with opening')"
   ]
  },
  {
   "cell_type": "code",
   "execution_count": 14,
   "id": "d1b3f628",
   "metadata": {},
   "outputs": [
    {
     "name": "stdout",
     "output_type": "stream",
     "text": [
      "5\n",
      "0\n",
      "Your code has this: division by zero\n"
     ]
    }
   ],
   "source": [
    "try :\n",
    "    a = int(input())\n",
    "    b = int(input())\n",
    "    c= a/b\n",
    "    \n",
    "except ArithmeticError as e:\n",
    "    \n",
    "    print(f'Your code has this: {e}')\n",
    "    f = open('test1.txt','w+')\n",
    "    error = e\n",
    "    #f.write(f'{error}')\n",
    "    f.read()\n",
    "    #f.close()\n",
    "    \n",
    "else:\n",
    "    print('This will execute when success')"
   ]
  },
  {
   "cell_type": "code",
   "execution_count": 23,
   "id": "de391b90",
   "metadata": {},
   "outputs": [
    {
     "name": "stdout",
     "output_type": "stream",
     "text": [
      "Except error: division by zero\n",
      "Nomatter what this print will work\n"
     ]
    }
   ],
   "source": [
    "try:\n",
    "    a = 5/0\n",
    "    #a = 5/1\n",
    "\n",
    "except Exception as e:\n",
    "    print(\"Except error:\",e)\n",
    "    \n",
    "else:\n",
    "    print('Else block')\n",
    "    \n",
    "finally:\n",
    "    print('Nomatter what this print will work')"
   ]
  },
  {
   "cell_type": "code",
   "execution_count": 20,
   "id": "0f5d558a",
   "metadata": {},
   "outputs": [
    {
     "name": "stdout",
     "output_type": "stream",
     "text": [
      "Else block\n",
      "Nomatter what this print will work\n"
     ]
    }
   ],
   "source": [
    "try:\n",
    "    #a = 5/0\n",
    "    a = 5/1\n",
    "    \n",
    "except Exception as e:\n",
    "    print(\"Except error:\",e)\n",
    "    \n",
    "else:\n",
    "    print('Else block')\n",
    "    \n",
    "finally:\n",
    "    print('Nomatter what this print will work')"
   ]
  },
  {
   "cell_type": "code",
   "execution_count": 32,
   "id": "dabcc193",
   "metadata": {},
   "outputs": [
    {
     "name": "stdout",
     "output_type": "stream",
     "text": [
      "enter integer4\n",
      "Correct value entered\n"
     ]
    }
   ],
   "source": [
    "def ask_for_int():\n",
    "    while True:\n",
    "        try:\n",
    "            n = int(input(\"enter integer\"))\n",
    "        except Exception as e:\n",
    "            print('Error in code :',e)\n",
    "        else:\n",
    "            print('Correct value entered')\n",
    "        finally:\n",
    "            \n",
    "            break\n",
    "        \n",
    "ask_for_int()"
   ]
  },
  {
   "cell_type": "code",
   "execution_count": 41,
   "id": "4796e07e",
   "metadata": {},
   "outputs": [
    {
     "name": "stdout",
     "output_type": "stream",
     "text": [
      "enter integers\n",
      "Error in code : invalid literal for int() with base 10: 's'\n",
      "Thanks for calling ask_for_int\n",
      "enter integer2\n",
      "Correct value entered\n",
      "Thanks for calling ask_for_int\n"
     ]
    }
   ],
   "source": [
    "def ask_for_int():\n",
    "    while True:\n",
    "        try:\n",
    "            n = int(input(\"enter integer\"))\n",
    "        except Exception as e:\n",
    "            print('Error in code :',e)\n",
    "        else:\n",
    "            print('Correct value entered')\n",
    "            break #only integer value will stop the loop\n",
    "        finally:\n",
    "            #pass # creates an infinite loop\n",
    "            \n",
    "            print(\"Thanks for calling ask_for_int\")\n",
    "            \n",
    "ask_for_int()"
   ]
  },
  {
   "cell_type": "code",
   "execution_count": 51,
   "id": "a268778d",
   "metadata": {},
   "outputs": [
    {
     "data": {
      "text/plain": [
       "1.2"
      ]
     },
     "execution_count": 51,
     "metadata": {},
     "output_type": "execute_result"
    }
   ],
   "source": [
    "def create_exception(a,b):\n",
    "    if (a) == 0:\n",
    "        raise Exception(a)\n",
    "    if (b) == 0:\n",
    "        raise Exception(b)\n",
    "    return a/b\n",
    "\n",
    "create_exception(6,5)"
   ]
  },
  {
   "cell_type": "code",
   "execution_count": null,
   "id": "6909b7cf",
   "metadata": {},
   "outputs": [],
   "source": []
  }
 ],
 "metadata": {
  "kernelspec": {
   "display_name": "Python 3",
   "language": "python",
   "name": "python3"
  },
  "language_info": {
   "codemirror_mode": {
    "name": "ipython",
    "version": 3
   },
   "file_extension": ".py",
   "mimetype": "text/x-python",
   "name": "python",
   "nbconvert_exporter": "python",
   "pygments_lexer": "ipython3",
   "version": "3.8.8"
  }
 },
 "nbformat": 4,
 "nbformat_minor": 5
}
