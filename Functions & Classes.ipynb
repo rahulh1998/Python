{
 "cells": [
  {
   "cell_type": "markdown",
   "id": "0e89cd3e",
   "metadata": {},
   "source": [
    "<h1 style = 'color:white;background-color:orange;font-size:50px;'><center> Functions & Classes</center></h1>"
   ]
  },
  {
   "cell_type": "code",
   "execution_count": 1,
   "id": "42893659",
   "metadata": {},
   "outputs": [
    {
     "data": {
      "text/plain": [
       "222"
      ]
     },
     "execution_count": 1,
     "metadata": {},
     "output_type": "execute_result"
    }
   ],
   "source": [
    "def function_name(args1,args2):\n",
    "    sum = args1+ args2\n",
    "    return sum\n",
    "function_name(10,212)"
   ]
  },
  {
   "cell_type": "code",
   "execution_count": 2,
   "id": "e0a45954",
   "metadata": {},
   "outputs": [
    {
     "name": "stdout",
     "output_type": "stream",
     "text": [
      "(15, -5)\n",
      "(12, -8)\n"
     ]
    }
   ],
   "source": [
    "def fun_def_parms(x = 6, y=10):\n",
    "    sum = x+y\n",
    "    diff = x- y \n",
    "    return sum , diff\n",
    "\n",
    "print(fun_def_parms(5))\n",
    "print(fun_def_parms(2,10))"
   ]
  },
  {
   "cell_type": "code",
   "execution_count": 3,
   "id": "73034614",
   "metadata": {},
   "outputs": [
    {
     "name": "stdout",
     "output_type": "stream",
     "text": [
      "11 5 24 2\n"
     ]
    }
   ],
   "source": [
    "def fun_def_parms(x = 6, y=10):\n",
    "    return x+y,x-y,x*y,x//y\n",
    "\n",
    "x,y,z,v = fun_def_parms(8,3)\n",
    "print(x,y,z,v)"
   ]
  },
  {
   "cell_type": "code",
   "execution_count": 4,
   "id": "0e0886da",
   "metadata": {},
   "outputs": [
    {
     "data": {
      "text/plain": [
       "[[1, 2, 3, 4, 5, 6, 7, 0, 8]]"
      ]
     },
     "execution_count": 4,
     "metadata": {},
     "output_type": "execute_result"
    }
   ],
   "source": [
    "def list_args(*args):\n",
    "    s = []\n",
    "    for i in args:\n",
    "        s.append(i)\n",
    "    return s\n",
    "\n",
    "list_args([1,2,3,4,5,6,7,0,8])"
   ]
  },
  {
   "cell_type": "code",
   "execution_count": 5,
   "id": "4b86df58",
   "metadata": {},
   "outputs": [
    {
     "data": {
      "text/plain": [
       "[[1, 2, 3, 4, 5, 6, 7, 0, 8]]"
      ]
     },
     "execution_count": 5,
     "metadata": {},
     "output_type": "execute_result"
    }
   ],
   "source": [
    "def list_args1(*args):\n",
    "    for i in args:\n",
    "        return i\n",
    "\n",
    "list_args([1,2,3,4,5,6,7,0,8])"
   ]
  },
  {
   "cell_type": "markdown",
   "id": "2fb3c576",
   "metadata": {},
   "source": [
    "def dt_separator(*args):\n",
    "    d = {}\n",
    "    for i in args:\n",
    "        if type(i) in d:\n",
    "            dt[type(i)].append(i)\n",
    "        else :\n",
    "            d[type(i)] == i\n",
    "            \n",
    "dt_separator(1,2,4,5,'a',6,'f','gh',7,8, [2.1,4,5,6,7] , 23,2.3)"
   ]
  },
  {
   "cell_type": "markdown",
   "id": "718352ef",
   "metadata": {},
   "source": [
    "# Classes"
   ]
  },
  {
   "cell_type": "code",
   "execution_count": 17,
   "id": "7e327f1d",
   "metadata": {},
   "outputs": [],
   "source": [
    "class class1 :\n",
    "    def __init__(self,a,b,c):\n",
    "        self.a = a\n",
    "        self.b = b\n",
    "        self.c = c\n",
    "            \n",
    "    def get_sum(self):\n",
    "        sum = self.a + self.b + self.c\n",
    "        return sum\n",
    "    \n",
    "    def get_squared(self,sq = 909):\n",
    "        res = sq - self.a\n",
    "        return res\n",
    "\n",
    "obj1 = class1(1,2,3)"
   ]
  },
  {
   "cell_type": "code",
   "execution_count": 18,
   "id": "786bd70a",
   "metadata": {},
   "outputs": [
    {
     "data": {
      "text/plain": [
       "6"
      ]
     },
     "execution_count": 18,
     "metadata": {},
     "output_type": "execute_result"
    }
   ],
   "source": [
    "obj1.get_sum()"
   ]
  },
  {
   "cell_type": "code",
   "execution_count": 19,
   "id": "988817d8",
   "metadata": {},
   "outputs": [
    {
     "data": {
      "text/plain": [
       "908"
      ]
     },
     "execution_count": 19,
     "metadata": {},
     "output_type": "execute_result"
    }
   ],
   "source": [
    "obj1.get_squared()"
   ]
  },
  {
   "cell_type": "code",
   "execution_count": null,
   "id": "436c1e9c",
   "metadata": {},
   "outputs": [],
   "source": []
  }
 ],
 "metadata": {
  "kernelspec": {
   "display_name": "Python 3",
   "language": "python",
   "name": "python3"
  },
  "language_info": {
   "codemirror_mode": {
    "name": "ipython",
    "version": 3
   },
   "file_extension": ".py",
   "mimetype": "text/x-python",
   "name": "python",
   "nbconvert_exporter": "python",
   "pygments_lexer": "ipython3",
   "version": "3.8.8"
  }
 },
 "nbformat": 4,
 "nbformat_minor": 5
}
