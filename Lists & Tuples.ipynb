{
 "cells": [
  {
   "cell_type": "markdown",
   "id": "eb4dab37",
   "metadata": {},
   "source": [
    "<div style='color:white;text-align:center;background-color:black; font-size:20px' > List </div>"
   ]
  },
  {
   "cell_type": "markdown",
   "id": "124dce3d",
   "metadata": {},
   "source": [
    "<center> Lists are iterable mutable objects having index & can store any hetrogenous data</center>"
   ]
  },
  {
   "cell_type": "code",
   "execution_count": 1,
   "id": "f019ebb8",
   "metadata": {},
   "outputs": [],
   "source": [
    "list1 = ['hey',1,True,3.0, 6+9j]"
   ]
  },
  {
   "cell_type": "code",
   "execution_count": 2,
   "id": "5b40aec1",
   "metadata": {},
   "outputs": [
    {
     "data": {
      "text/plain": [
       "['H',\n",
       " 'e',\n",
       " 'y',\n",
       " ' ',\n",
       " 'i',\n",
       " 't',\n",
       " \"'\",\n",
       " 's',\n",
       " ' ',\n",
       " 'a',\n",
       " ' ',\n",
       " 's',\n",
       " 't',\n",
       " 'r',\n",
       " 'i',\n",
       " 'n',\n",
       " 'g']"
      ]
     },
     "execution_count": 2,
     "metadata": {},
     "output_type": "execute_result"
    }
   ],
   "source": [
    "a = \"Hey it's a string\"\n",
    "list(a)"
   ]
  },
  {
   "cell_type": "code",
   "execution_count": 3,
   "id": "bca53075",
   "metadata": {},
   "outputs": [
    {
     "data": {
      "text/plain": [
       "[1, 2, 3, 4, 5, 6, 7, 8, 9, 10, 11, 12, 13, 14, 15, 16, 17, 18, 19, 20]"
      ]
     },
     "execution_count": 3,
     "metadata": {},
     "output_type": "execute_result"
    }
   ],
   "source": [
    "l = [1, 2, 3, 4, 5, 6, 7, 8, 9, 10, 11, 12, 13, 14, 15, 16, 17, 18, 19, 20]\n",
    "l"
   ]
  },
  {
   "cell_type": "code",
   "execution_count": 4,
   "id": "aab8b1d5",
   "metadata": {},
   "outputs": [
    {
     "data": {
      "text/plain": [
       "1"
      ]
     },
     "execution_count": 4,
     "metadata": {},
     "output_type": "execute_result"
    }
   ],
   "source": [
    "# Slicing\n",
    "l[0]"
   ]
  },
  {
   "cell_type": "code",
   "execution_count": 5,
   "id": "56702f76",
   "metadata": {},
   "outputs": [
    {
     "data": {
      "text/plain": [
       "20"
      ]
     },
     "execution_count": 5,
     "metadata": {},
     "output_type": "execute_result"
    }
   ],
   "source": [
    "# last element of a list\n",
    "l[-1]"
   ]
  },
  {
   "cell_type": "code",
   "execution_count": 6,
   "id": "9d41cb8a",
   "metadata": {},
   "outputs": [
    {
     "data": {
      "text/plain": [
       "[1, 3, 5, 7, 9, 11, 13, 15, 17, 19]"
      ]
     },
     "execution_count": 6,
     "metadata": {},
     "output_type": "execute_result"
    }
   ],
   "source": [
    "l[::2]"
   ]
  },
  {
   "cell_type": "code",
   "execution_count": 7,
   "id": "4d3e7a51",
   "metadata": {},
   "outputs": [
    {
     "data": {
      "text/plain": [
       "[20, 19, 18, 17]"
      ]
     },
     "execution_count": 7,
     "metadata": {},
     "output_type": "execute_result"
    }
   ],
   "source": [
    "l[-1:-5:-1]"
   ]
  },
  {
   "cell_type": "code",
   "execution_count": 8,
   "id": "cdcb6663",
   "metadata": {},
   "outputs": [
    {
     "data": {
      "text/plain": [
       "[20, 19, 18, 17, 16, 15, 14, 13, 12, 11, 10, 9, 8, 7, 6, 5, 4, 3, 2, 1]"
      ]
     },
     "execution_count": 8,
     "metadata": {},
     "output_type": "execute_result"
    }
   ],
   "source": [
    "l[::-1]"
   ]
  },
  {
   "cell_type": "code",
   "execution_count": 9,
   "id": "4917555a",
   "metadata": {},
   "outputs": [
    {
     "data": {
      "text/plain": [
       "list"
      ]
     },
     "execution_count": 9,
     "metadata": {},
     "output_type": "execute_result"
    }
   ],
   "source": [
    "type(l)"
   ]
  },
  {
   "cell_type": "code",
   "execution_count": 10,
   "id": "98df8959",
   "metadata": {},
   "outputs": [
    {
     "data": {
      "text/plain": [
       "20"
      ]
     },
     "execution_count": 10,
     "metadata": {},
     "output_type": "execute_result"
    }
   ],
   "source": [
    "# returns size of the list\n",
    "len(l)"
   ]
  },
  {
   "cell_type": "code",
   "execution_count": 11,
   "id": "4beb358a",
   "metadata": {},
   "outputs": [
    {
     "data": {
      "text/plain": [
       "[1, 2, 3, 4, 5, 6, 7, 8, 9, 10, 11, 12, '*', 14, 15, 16, 17, 18, 19, 20]"
      ]
     },
     "execution_count": 11,
     "metadata": {},
     "output_type": "execute_result"
    }
   ],
   "source": [
    "# Mutability\n",
    "l[12] = '*'\n",
    "l"
   ]
  },
  {
   "cell_type": "code",
   "execution_count": 12,
   "id": "fbe5cfed",
   "metadata": {},
   "outputs": [
    {
     "data": {
      "text/plain": [
       "[1, 2, '*', 4, 5, '*', 7, 8, 9, 10, 11, 12, '*', 14, 15, 16, 17, 18, 19, 20]"
      ]
     },
     "execution_count": 12,
     "metadata": {},
     "output_type": "execute_result"
    }
   ],
   "source": [
    "l[2],l[5] = '*','*'\n",
    "l"
   ]
  },
  {
   "cell_type": "code",
   "execution_count": 13,
   "id": "60e2945b",
   "metadata": {},
   "outputs": [
    {
     "data": {
      "text/plain": [
       "3"
      ]
     },
     "execution_count": 13,
     "metadata": {},
     "output_type": "execute_result"
    }
   ],
   "source": [
    "l.count('*')"
   ]
  },
  {
   "cell_type": "code",
   "execution_count": 14,
   "id": "1a2ab3e7",
   "metadata": {},
   "outputs": [
    {
     "name": "stdout",
     "output_type": "stream",
     "text": [
      "1\n",
      "2\n",
      "*\n",
      "4\n",
      "5\n",
      "*\n",
      "7\n",
      "8\n",
      "9\n",
      "10\n"
     ]
    }
   ],
   "source": [
    "# iterating though a list\n",
    "for i in l[0:10]:\n",
    "    print(i)    "
   ]
  },
  {
   "cell_type": "code",
   "execution_count": 15,
   "id": "8d672ad2",
   "metadata": {},
   "outputs": [
    {
     "data": {
      "text/plain": [
       "['hey',\n",
       " 1,\n",
       " True,\n",
       " 3.0,\n",
       " (6+9j),\n",
       " 1,\n",
       " 2,\n",
       " '*',\n",
       " 4,\n",
       " 5,\n",
       " '*',\n",
       " 7,\n",
       " 8,\n",
       " 9,\n",
       " 10,\n",
       " 11,\n",
       " 12,\n",
       " '*',\n",
       " 14,\n",
       " 15,\n",
       " 16,\n",
       " 17,\n",
       " 18,\n",
       " 19,\n",
       " 20]"
      ]
     },
     "execution_count": 15,
     "metadata": {},
     "output_type": "execute_result"
    }
   ],
   "source": [
    "#concatenation\n",
    "list1 + l"
   ]
  },
  {
   "cell_type": "code",
   "execution_count": 16,
   "id": "cb5ef038",
   "metadata": {},
   "outputs": [
    {
     "data": {
      "text/plain": [
       "['hey', 1, True, 3.0, (6+9j), 'hey', 1, True, 3.0, (6+9j)]"
      ]
     },
     "execution_count": 16,
     "metadata": {},
     "output_type": "execute_result"
    }
   ],
   "source": [
    "# multiplication by a constant\n",
    "list1 * 2 "
   ]
  },
  {
   "cell_type": "code",
   "execution_count": 17,
   "id": "43684e7a",
   "metadata": {},
   "outputs": [],
   "source": [
    "# adding a constant gives an error\n",
    "#list1 + 6"
   ]
  },
  {
   "cell_type": "code",
   "execution_count": 18,
   "id": "40eb5f50",
   "metadata": {},
   "outputs": [
    {
     "data": {
      "text/plain": [
       "['hey', 1, True, 3.0, (6+9j), 'inster']"
      ]
     },
     "execution_count": 18,
     "metadata": {},
     "output_type": "execute_result"
    }
   ],
   "source": [
    "list1.insert(10,'inster')\n",
    "list1"
   ]
  },
  {
   "cell_type": "code",
   "execution_count": 19,
   "id": "99213642",
   "metadata": {},
   "outputs": [
    {
     "data": {
      "text/plain": [
       "[1, 2, '*', 4, 5, '*', 7, 8, 9, 10, 11, 12, '*', 14, 15, 16, 17, 18, 20]"
      ]
     },
     "execution_count": 19,
     "metadata": {},
     "output_type": "execute_result"
    }
   ],
   "source": [
    "l.pop(-2)\n",
    "l"
   ]
  },
  {
   "cell_type": "code",
   "execution_count": 20,
   "id": "876a0370",
   "metadata": {},
   "outputs": [],
   "source": [
    "# nested lists\n",
    "\n",
    "list2 = [ ['Rahul','Pranshu','Harpreet','Akash','Ravi'],\n",
    "           [23,26,24,24,24],\n",
    "            ['M','M','F','M','M'],\n",
    "             [ 5.9,5.6,5.6,5.5,5.6]]"
   ]
  },
  {
   "cell_type": "code",
   "execution_count": 21,
   "id": "fca136c4",
   "metadata": {},
   "outputs": [
    {
     "data": {
      "text/plain": [
       "[[23, 26, 24, 24, 24], ['M', 'M', 'F', 'M', 'M'], [5.9, 5.6, 5.6, 5.5, 5.6]]"
      ]
     },
     "execution_count": 21,
     "metadata": {},
     "output_type": "execute_result"
    }
   ],
   "source": [
    "# Slicing a nested list\n",
    "list2[1:]"
   ]
  },
  {
   "cell_type": "code",
   "execution_count": 22,
   "id": "7be74afc",
   "metadata": {},
   "outputs": [
    {
     "data": {
      "text/plain": [
       "['M', 'M', 'F', 'M', 'M']"
      ]
     },
     "execution_count": 22,
     "metadata": {},
     "output_type": "execute_result"
    }
   ],
   "source": [
    "# Slicing a nested list\n",
    "list2[2]"
   ]
  },
  {
   "cell_type": "code",
   "execution_count": 23,
   "id": "d6b0426b",
   "metadata": {},
   "outputs": [
    {
     "data": {
      "text/plain": [
       "[5.5, 5.6]"
      ]
     },
     "execution_count": 23,
     "metadata": {},
     "output_type": "execute_result"
    }
   ],
   "source": [
    "# Slicing a nested list\n",
    "list2[3][3:]"
   ]
  },
  {
   "cell_type": "code",
   "execution_count": 24,
   "id": "afae3789",
   "metadata": {},
   "outputs": [
    {
     "name": "stdout",
     "output_type": "stream",
     "text": [
      "['Rahul', 'Pranshu', 'Harpreet', 'Akash', 'Ravi']\n",
      "[23, 26, 24, 24, 24]\n",
      "['M', 'M', 'F', 'M', 'M']\n",
      "[5.9, 5.6, 5.6, 5.5, 5.6]\n"
     ]
    }
   ],
   "source": [
    "# iterating through nested list \n",
    "for i in list2:\n",
    "    print(i)"
   ]
  },
  {
   "cell_type": "code",
   "execution_count": 25,
   "id": "457439eb",
   "metadata": {},
   "outputs": [
    {
     "name": "stdout",
     "output_type": "stream",
     "text": [
      "Rahul\n",
      "Pranshu\n",
      "Harpreet\n",
      "Akash\n",
      "Ravi\n",
      "23\n",
      "26\n",
      "24\n",
      "24\n",
      "24\n",
      "M\n",
      "M\n",
      "F\n",
      "M\n",
      "M\n",
      "5.9\n",
      "5.6\n",
      "5.6\n",
      "5.5\n",
      "5.6\n"
     ]
    }
   ],
   "source": [
    "# alternate solution\n",
    "for i in list2:\n",
    "    for j in i:\n",
    "        print(j)"
   ]
  },
  {
   "cell_type": "code",
   "execution_count": 26,
   "id": "cf2699d3",
   "metadata": {},
   "outputs": [
    {
     "data": {
      "text/plain": [
       "[0, 1, 2, 3, 4, 5, 6, 7, 8, 9]"
      ]
     },
     "execution_count": 26,
     "metadata": {},
     "output_type": "execute_result"
    }
   ],
   "source": [
    "# list comprehension\n",
    "x = [i for i in range(10) ]\n",
    "x"
   ]
  },
  {
   "cell_type": "code",
   "execution_count": 27,
   "id": "4abec156",
   "metadata": {},
   "outputs": [
    {
     "data": {
      "text/plain": [
       "[0, 2, 4, 6, 8, 10, 12, 14, 16, 18]"
      ]
     },
     "execution_count": 27,
     "metadata": {},
     "output_type": "execute_result"
    }
   ],
   "source": [
    "# list comprehension\n",
    "x = [i for i in range(20) if i%2==0]\n",
    "x"
   ]
  },
  {
   "cell_type": "markdown",
   "id": "37c1efbe",
   "metadata": {},
   "source": [
    "<div style='color:white;text-align:center;background-color:black; font-size:20px'> Tuples </div>"
   ]
  },
  {
   "cell_type": "markdown",
   "id": "57aa002a",
   "metadata": {},
   "source": [
    "<center>Ordered set of immutable items that can be iterated</center>"
   ]
  },
  {
   "cell_type": "code",
   "execution_count": 28,
   "id": "e427b295",
   "metadata": {},
   "outputs": [
    {
     "data": {
      "text/plain": [
       "(0, 2, 4, 6, 8, 10, 12, 14, 16, 18)"
      ]
     },
     "execution_count": 28,
     "metadata": {},
     "output_type": "execute_result"
    }
   ],
   "source": [
    "t = tuple(x)\n",
    "t"
   ]
  },
  {
   "cell_type": "code",
   "execution_count": 29,
   "id": "0d787054",
   "metadata": {},
   "outputs": [
    {
     "name": "stdout",
     "output_type": "stream",
     "text": [
      "0\n",
      "4\n",
      "16\n",
      "36\n",
      "64\n",
      "100\n",
      "144\n",
      "196\n",
      "256\n",
      "324\n"
     ]
    }
   ],
   "source": [
    "for x in t:\n",
    "    print(x**2)"
   ]
  },
  {
   "cell_type": "code",
   "execution_count": 30,
   "id": "d7c39ac1",
   "metadata": {},
   "outputs": [
    {
     "data": {
      "text/plain": [
       "(0, 2, 4, 6, 8, 10, 12, 14, 16, 18)"
      ]
     },
     "execution_count": 30,
     "metadata": {},
     "output_type": "execute_result"
    }
   ],
   "source": [
    "t"
   ]
  },
  {
   "cell_type": "code",
   "execution_count": 31,
   "id": "c13d9635",
   "metadata": {},
   "outputs": [
    {
     "data": {
      "text/plain": [
       "4"
      ]
     },
     "execution_count": 31,
     "metadata": {},
     "output_type": "execute_result"
    }
   ],
   "source": [
    "t[2]"
   ]
  },
  {
   "cell_type": "code",
   "execution_count": 32,
   "id": "95aa8a2f",
   "metadata": {},
   "outputs": [],
   "source": [
    "# t[2]=9 : Error!!!"
   ]
  },
  {
   "cell_type": "code",
   "execution_count": 33,
   "id": "0d5617d5",
   "metadata": {},
   "outputs": [
    {
     "data": {
      "text/plain": [
       "[0, 2, 4, 6, 8, 10, 12, 14, 16, 18]"
      ]
     },
     "execution_count": 33,
     "metadata": {},
     "output_type": "execute_result"
    }
   ],
   "source": [
    "x = list(t)\n",
    "x"
   ]
  },
  {
   "cell_type": "code",
   "execution_count": 34,
   "id": "aa29d0ef",
   "metadata": {},
   "outputs": [
    {
     "data": {
      "text/plain": [
       "(0, 2, 8, 6, 8, 10, 12, 14, 16, 18)"
      ]
     },
     "execution_count": 34,
     "metadata": {},
     "output_type": "execute_result"
    }
   ],
   "source": [
    "# adding or replacing items in a tuple\n",
    "x[2] = 8\n",
    "x = tuple(x)\n",
    "x"
   ]
  },
  {
   "cell_type": "code",
   "execution_count": 35,
   "id": "45598e22",
   "metadata": {},
   "outputs": [
    {
     "data": {
      "text/plain": [
       "2"
      ]
     },
     "execution_count": 35,
     "metadata": {},
     "output_type": "execute_result"
    }
   ],
   "source": [
    "x.count(8)"
   ]
  }
 ],
 "metadata": {
  "kernelspec": {
   "display_name": "Python 3",
   "language": "python",
   "name": "python3"
  },
  "language_info": {
   "codemirror_mode": {
    "name": "ipython",
    "version": 3
   },
   "file_extension": ".py",
   "mimetype": "text/x-python",
   "name": "python",
   "nbconvert_exporter": "python",
   "pygments_lexer": "ipython3",
   "version": "3.8.8"
  }
 },
 "nbformat": 4,
 "nbformat_minor": 5
}
