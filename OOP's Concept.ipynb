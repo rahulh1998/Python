{
 "cells": [
  {
   "cell_type": "code",
   "execution_count": 1,
   "id": "f4267a99",
   "metadata": {},
   "outputs": [],
   "source": [
    "# Classes are representation of a category / group of objects \n",
    "# Objects are variables of class/real world entities that belong to a specific class & exhibit all the properties of that class\n",
    "# Classes = car,animals,fruits,footballers\n",
    "# Objects = audir8, lion, mango, Kante"
   ]
  },
  {
   "cell_type": "code",
   "execution_count": 2,
   "id": "f6a82e9f",
   "metadata": {},
   "outputs": [],
   "source": [
    "class footballers :\n",
    "    pass\n",
    "\n",
    "kante = footballers() #Kante is object of class footballers"
   ]
  },
  {
   "cell_type": "code",
   "execution_count": 3,
   "id": "32b8e4db",
   "metadata": {},
   "outputs": [],
   "source": [
    "# 1. __init__ acts as an constructor which means it gets automatically called when a object is created!!!\n",
    "# 2. Self is a pointer to a class, we can use any string instead of \"self\"\n",
    "# 3. The first arguement of the init function always act as a \"POINTER TO THE CLASS\" or \"SELF\"\n",
    "# 4. All the variables that are created using \"self\" are assigned to that specific function (inplace of init self is for class)\n",
    "# 5. Since we can use any string inplace of self we are using \"a\" instead of \"self\" for different functions"
   ]
  },
  {
   "cell_type": "code",
   "execution_count": 10,
   "id": "d21a913f",
   "metadata": {},
   "outputs": [],
   "source": [
    "class footballers :\n",
    "    def __init__(self, h,age,  pos, g, a ): # Here \"(self, h, pos, g, a)\" are the \"PARAMETERS\" of \"INIT function\"\n",
    "        self.height = h\n",
    "        self.position = pos\n",
    "        self.goals = g\n",
    "        self.assist = a\n",
    "        \n",
    "    def without_assists_goals(a,goals_scored_by_an_assist):  # if using \"a\" as a pointer use \"a\" for that particular function\n",
    "        a.goals_without_any_assist = a.goals - goals_scored_by_an_assist   # you can access values from another using \"a\"\n",
    "        return a.goals_without_any_assist\n",
    "        \n",
    "    def get_goals(self):\n",
    "        print(f\"Goals scored = {self.goals}\")\n",
    "    \n",
    "    def __str__(self):\n",
    "        return \"you are accessing object of class : footballers\""
   ]
  },
  {
   "cell_type": "code",
   "execution_count": 11,
   "id": "7c7ec8bb",
   "metadata": {},
   "outputs": [],
   "source": [
    "# Creating an object for footballers class \n",
    "# object name is \"kante\"\n",
    "# (5.4,\"CDM\",15,12) These are arguements\n",
    "\n",
    "kante = footballers(5.4,30,\"CDM\",15,12) #Object creation"
   ]
  },
  {
   "cell_type": "code",
   "execution_count": 12,
   "id": "ab0e6f97",
   "metadata": {},
   "outputs": [
    {
     "data": {
      "text/plain": [
       "15"
      ]
     },
     "execution_count": 12,
     "metadata": {},
     "output_type": "execute_result"
    }
   ],
   "source": [
    "kante.goals"
   ]
  },
  {
   "cell_type": "code",
   "execution_count": 13,
   "id": "99d62a9f",
   "metadata": {},
   "outputs": [
    {
     "data": {
      "text/plain": [
       "5"
      ]
     },
     "execution_count": 13,
     "metadata": {},
     "output_type": "execute_result"
    }
   ],
   "source": [
    "kante.without_assists_goals(10)"
   ]
  },
  {
   "cell_type": "code",
   "execution_count": 14,
   "id": "582a13ab",
   "metadata": {},
   "outputs": [
    {
     "name": "stdout",
     "output_type": "stream",
     "text": [
      "Goals scored = 15\n"
     ]
    }
   ],
   "source": [
    "kante.get_goals()"
   ]
  },
  {
   "cell_type": "code",
   "execution_count": 16,
   "id": "9abc1adb",
   "metadata": {},
   "outputs": [
    {
     "name": "stdout",
     "output_type": "stream",
     "text": [
      "you are accessing object of class : footballers\n"
     ]
    }
   ],
   "source": [
    "print(kante)"
   ]
  },
  {
   "cell_type": "code",
   "execution_count": null,
   "id": "f25d6247",
   "metadata": {},
   "outputs": [],
   "source": []
  }
 ],
 "metadata": {
  "kernelspec": {
   "display_name": "Python 3",
   "language": "python",
   "name": "python3"
  },
  "language_info": {
   "codemirror_mode": {
    "name": "ipython",
    "version": 3
   },
   "file_extension": ".py",
   "mimetype": "text/x-python",
   "name": "python",
   "nbconvert_exporter": "python",
   "pygments_lexer": "ipython3",
   "version": "3.8.8"
  }
 },
 "nbformat": 4,
 "nbformat_minor": 5
}
