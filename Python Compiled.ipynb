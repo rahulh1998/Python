{
 "cells": [
  {
   "cell_type": "code",
   "execution_count": 1,
   "id": "6903ded3",
   "metadata": {},
   "outputs": [
    {
     "name": "stdout",
     "output_type": "stream",
     "text": [
      "The Zen of Python, by Tim Peters\n",
      "\n",
      "Beautiful is better than ugly.\n",
      "Explicit is better than implicit.\n",
      "Simple is better than complex.\n",
      "Complex is better than complicated.\n",
      "Flat is better than nested.\n",
      "Sparse is better than dense.\n",
      "Readability counts.\n",
      "Special cases aren't special enough to break the rules.\n",
      "Although practicality beats purity.\n",
      "Errors should never pass silently.\n",
      "Unless explicitly silenced.\n",
      "In the face of ambiguity, refuse the temptation to guess.\n",
      "There should be one-- and preferably only one --obvious way to do it.\n",
      "Although that way may not be obvious at first unless you're Dutch.\n",
      "Now is better than never.\n",
      "Although never is often better than *right* now.\n",
      "If the implementation is hard to explain, it's a bad idea.\n",
      "If the implementation is easy to explain, it may be a good idea.\n",
      "Namespaces are one honking great idea -- let's do more of those!\n"
     ]
    }
   ],
   "source": [
    "import this"
   ]
  },
  {
   "cell_type": "code",
   "execution_count": 2,
   "id": "a2307f86",
   "metadata": {},
   "outputs": [
    {
     "name": "stdout",
     "output_type": "stream",
     "text": [
      "I am awesome\n"
     ]
    }
   ],
   "source": [
    "print(\"I am awesome\")"
   ]
  },
  {
   "cell_type": "code",
   "execution_count": 3,
   "id": "891eb4bb",
   "metadata": {},
   "outputs": [],
   "source": [
    "a = 1\n",
    "b = 2\n",
    "c =\"awesome\""
   ]
  },
  {
   "cell_type": "code",
   "execution_count": 4,
   "id": "5dfd5bc9",
   "metadata": {},
   "outputs": [
    {
     "data": {
      "text/plain": [
       "(1, 2, 'awesome')"
      ]
     },
     "execution_count": 4,
     "metadata": {},
     "output_type": "execute_result"
    }
   ],
   "source": [
    "a,b,c"
   ]
  },
  {
   "cell_type": "code",
   "execution_count": 5,
   "id": "fa1d42cf",
   "metadata": {},
   "outputs": [
    {
     "name": "stdout",
     "output_type": "stream",
     "text": [
      "1 2 awesome\n"
     ]
    }
   ],
   "source": [
    "print(a,b,c)"
   ]
  },
  {
   "cell_type": "code",
   "execution_count": 6,
   "id": "47de81e8",
   "metadata": {},
   "outputs": [],
   "source": [
    "name = \"Rahul\"\n",
    "uid = \"rahulh1998@gmail.com\"\n",
    "pw = \"pw\""
   ]
  },
  {
   "cell_type": "code",
   "execution_count": 7,
   "id": "708136ad",
   "metadata": {},
   "outputs": [],
   "source": [
    "a = True\n",
    "b =False"
   ]
  },
  {
   "cell_type": "code",
   "execution_count": 8,
   "id": "36aec29a",
   "metadata": {},
   "outputs": [
    {
     "data": {
      "text/plain": [
       "4"
      ]
     },
     "execution_count": 8,
     "metadata": {},
     "output_type": "execute_result"
    }
   ],
   "source": [
    "a + a+ a +b+ a"
   ]
  },
  {
   "cell_type": "markdown",
   "id": "39cd1ba8",
   "metadata": {},
   "source": [
    "a/b\n",
    "\n",
    "ZeroDivisionError                         Traceback (most recent call last)\n",
    "<ipython-input-9-aae42d317509> in <module>\n",
    "----> 1 a/b\n",
    "\n",
    "ZeroDivisionError: division by zero\n"
   ]
  },
  {
   "cell_type": "code",
   "execution_count": 9,
   "id": "b33ee165",
   "metadata": {},
   "outputs": [],
   "source": [
    "a = 89 +6j\n",
    "b = 8 + 1j"
   ]
  },
  {
   "cell_type": "code",
   "execution_count": 10,
   "id": "27714807",
   "metadata": {},
   "outputs": [
    {
     "data": {
      "text/plain": [
       "(97+7j)"
      ]
     },
     "execution_count": 10,
     "metadata": {},
     "output_type": "execute_result"
    }
   ],
   "source": [
    "a + b\n"
   ]
  },
  {
   "cell_type": "code",
   "execution_count": 11,
   "id": "9226b84d",
   "metadata": {},
   "outputs": [
    {
     "data": {
      "text/plain": [
       "'  File \"<ipython-input-11-0084c010abe1>\", line 1\\n    c = 0 + 6n\\n             ^\\nSyntaxError: invalid syntax'"
      ]
     },
     "execution_count": 11,
     "metadata": {},
     "output_type": "execute_result"
    }
   ],
   "source": [
    "#c = 0 + 6n\n",
    "\n",
    "\"\"\"  File \"<ipython-input-11-0084c010abe1>\", line 1\n",
    "    c = 0 + 6n\n",
    "             ^\n",
    "SyntaxError: invalid syntax\"\"\""
   ]
  },
  {
   "cell_type": "code",
   "execution_count": 12,
   "id": "f1320f5c",
   "metadata": {},
   "outputs": [],
   "source": [
    "#Error\n",
    "#1 + 'raul'"
   ]
  },
  {
   "cell_type": "code",
   "execution_count": 13,
   "id": "1c242502",
   "metadata": {},
   "outputs": [
    {
     "data": {
      "text/plain": [
       "'1raul'"
      ]
     },
     "execution_count": 13,
     "metadata": {},
     "output_type": "execute_result"
    }
   ],
   "source": [
    "str(1)+\"raul\""
   ]
  },
  {
   "cell_type": "code",
   "execution_count": 14,
   "id": "fd4ac704",
   "metadata": {},
   "outputs": [
    {
     "data": {
      "text/plain": [
       "'raulhiro'"
      ]
     },
     "execution_count": 14,
     "metadata": {},
     "output_type": "execute_result"
    }
   ],
   "source": [
    "'raul'+\"hiro\""
   ]
  },
  {
   "cell_type": "code",
   "execution_count": 15,
   "id": "e88ceb66",
   "metadata": {},
   "outputs": [
    {
     "data": {
      "text/plain": [
       "0"
      ]
     },
     "execution_count": 15,
     "metadata": {},
     "output_type": "execute_result"
    }
   ],
   "source": [
    "int()"
   ]
  },
  {
   "cell_type": "code",
   "execution_count": 16,
   "id": "59a3c769",
   "metadata": {},
   "outputs": [
    {
     "data": {
      "text/plain": [
       "'rrrrrrrrrryoyoyoyoyoyo'"
      ]
     },
     "execution_count": 16,
     "metadata": {},
     "output_type": "execute_result"
    }
   ],
   "source": [
    "\"r\"*10 +6*\"yo\""
   ]
  },
  {
   "cell_type": "code",
   "execution_count": 17,
   "id": "532d31e0",
   "metadata": {},
   "outputs": [],
   "source": [
    "# Error cannot multiply two strings\n",
    "#\"r\"*\"r\""
   ]
  },
  {
   "cell_type": "code",
   "execution_count": 18,
   "id": "17d9589a",
   "metadata": {},
   "outputs": [],
   "source": [
    "#a = int(input(\"enter any no\"))\n",
    "a =56"
   ]
  },
  {
   "cell_type": "code",
   "execution_count": 19,
   "id": "c55f1e0c",
   "metadata": {},
   "outputs": [],
   "source": [
    "if a < 50:\n",
    "    pass"
   ]
  },
  {
   "cell_type": "code",
   "execution_count": 20,
   "id": "ae7ecc7a",
   "metadata": {},
   "outputs": [],
   "source": [
    "if a < 50:\n",
    "    print(\"Its under 50\")"
   ]
  },
  {
   "cell_type": "code",
   "execution_count": 21,
   "id": "dbc08126",
   "metadata": {},
   "outputs": [
    {
     "name": "stdout",
     "output_type": "stream",
     "text": [
      "Over 50\n"
     ]
    }
   ],
   "source": [
    "if a < 50:\n",
    "    print(\"Its under 50\")\n",
    "elif a>50 :\n",
    "    print(\"Over 50\")\n",
    "else : \n",
    "    print(\"equal 50\")"
   ]
  },
  {
   "cell_type": "code",
   "execution_count": 22,
   "id": "0874a8ca",
   "metadata": {},
   "outputs": [],
   "source": [
    "#a,b,c = int(input())"
   ]
  },
  {
   "cell_type": "code",
   "execution_count": 23,
   "id": "b4ab3dce",
   "metadata": {},
   "outputs": [
    {
     "name": "stdout",
     "output_type": "stream",
     "text": [
      "1\n",
      "2\n",
      "3\n",
      "4\n",
      "5\n",
      "6\n",
      "7\n",
      "8\n",
      "9\n",
      "10\n"
     ]
    }
   ],
   "source": [
    "init = 10\n",
    "final = 100\n",
    "count = 0\n",
    "\n",
    "while init <= final :\n",
    "    count = count+1\n",
    "    print(count)\n",
    "    if count >= 10:\n",
    "        break"
   ]
  },
  {
   "cell_type": "code",
   "execution_count": 24,
   "id": "6971dfae",
   "metadata": {},
   "outputs": [
    {
     "name": "stdout",
     "output_type": "stream",
     "text": [
      "1\n",
      "4\n",
      "9\n",
      "16\n",
      "25\n",
      "36\n",
      "49\n",
      "64\n",
      "81\n",
      "100\n",
      "Now we are in else condn\n"
     ]
    }
   ],
   "source": [
    "pointer = 10\n",
    "i =1\n",
    "while i<=pointer:\n",
    "    print(i**2)\n",
    "    i+=1 \n",
    "else :\n",
    "    print(\"Now we are in else condn\")\n"
   ]
  },
  {
   "cell_type": "markdown",
   "id": "8234e2d6",
   "metadata": {},
   "source": [
    "# It's awesome from here"
   ]
  },
  {
   "cell_type": "code",
   "execution_count": 25,
   "id": "398acd75",
   "metadata": {},
   "outputs": [
    {
     "name": "stdout",
     "output_type": "stream",
     "text": [
      "1\n",
      "1 is non-divisible by 2\n",
      "______________________________________________________________________\n",
      "4\n",
      "2 is divisible by 2\n",
      "______________________________________________________________________\n",
      "9\n",
      "3 is non-divisible by 2\n",
      "______________________________________________________________________\n",
      "16\n",
      "4 is divisible by 2\n",
      "______________________________________________________________________\n",
      "25\n",
      "5 is non-divisible by 2\n",
      "______________________________________________________________________\n",
      "36\n",
      "6 is divisible by 2\n",
      "______________________________________________________________________\n",
      "49\n",
      "7 is non-divisible by 2\n",
      "______________________________________________________________________\n",
      "64\n",
      "8 is divisible by 2\n",
      "______________________________________________________________________\n",
      "81\n",
      "9 is non-divisible by 2\n",
      "______________________________________________________________________\n",
      "100\n",
      "10 is divisible by 2\n",
      "______________________________________________________________________\n",
      "Now we are in else condn\n"
     ]
    }
   ],
   "source": [
    "pointer = 10\n",
    "i =1\n",
    "while i<=pointer:\n",
    "    c=i**2\n",
    "    print(c)\n",
    "     \n",
    "    \n",
    "    if c%2==0:\n",
    "        print(f\"{i} is divisible by 2\")\n",
    "        \n",
    "        print(70*\"_\")\n",
    "    else:\n",
    "        print(f\"{i} is non-divisible by 2\")\n",
    "        print(70*\"_\")\n",
    "    i+=1\n",
    "else :\n",
    "    print(\"Now we are in else condn\")"
   ]
  },
  {
   "cell_type": "code",
   "execution_count": 26,
   "id": "6125c024",
   "metadata": {},
   "outputs": [
    {
     "name": "stdout",
     "output_type": "stream",
     "text": [
      "R\n",
      "a\n",
      "h\n",
      "u\n",
      "l\n"
     ]
    }
   ],
   "source": [
    "name = \"Rahul\"\n",
    "temp = []\n",
    "for i in range(len(name)):\n",
    "    print(name[i])\n",
    "    "
   ]
  },
  {
   "cell_type": "code",
   "execution_count": 27,
   "id": "6fa94c22",
   "metadata": {},
   "outputs": [
    {
     "name": "stdout",
     "output_type": "stream",
     "text": [
      "0\n",
      "1\n",
      "2\n",
      "3\n",
      "4\n",
      "5\n",
      "6\n",
      "7\n",
      "8\n",
      "9\n"
     ]
    }
   ],
   "source": [
    "x = [print(i) for i in range(10)]"
   ]
  },
  {
   "cell_type": "code",
   "execution_count": 28,
   "id": "bed41b07",
   "metadata": {},
   "outputs": [
    {
     "data": {
      "text/plain": [
       "'luhaR'"
      ]
     },
     "execution_count": 28,
     "metadata": {},
     "output_type": "execute_result"
    }
   ],
   "source": [
    "name[::-1]"
   ]
  },
  {
   "cell_type": "code",
   "execution_count": 29,
   "id": "db35fe66",
   "metadata": {},
   "outputs": [],
   "source": [
    "st = \"print(i) for i in range(10)\""
   ]
  },
  {
   "cell_type": "code",
   "execution_count": 30,
   "id": "9d3aec4e",
   "metadata": {},
   "outputs": [
    {
     "data": {
      "text/plain": [
       "'o'"
      ]
     },
     "execution_count": 30,
     "metadata": {},
     "output_type": "execute_result"
    }
   ],
   "source": [
    "st[10]"
   ]
  },
  {
   "cell_type": "code",
   "execution_count": 31,
   "id": "cf79d4c4",
   "metadata": {},
   "outputs": [
    {
     "data": {
      "text/plain": [
       "''"
      ]
     },
     "execution_count": 31,
     "metadata": {},
     "output_type": "execute_result"
    }
   ],
   "source": [
    "st[10:1]"
   ]
  },
  {
   "cell_type": "code",
   "execution_count": 32,
   "id": "932938c7",
   "metadata": {},
   "outputs": [
    {
     "data": {
      "text/plain": [
       "' i in range(10'"
      ]
     },
     "execution_count": 32,
     "metadata": {},
     "output_type": "execute_result"
    }
   ],
   "source": [
    "st[12:-1]"
   ]
  },
  {
   "cell_type": "code",
   "execution_count": 33,
   "id": "48d23a38",
   "metadata": {},
   "outputs": [
    {
     "data": {
      "text/plain": [
       "' rof )i(tn'"
      ]
     },
     "execution_count": 33,
     "metadata": {},
     "output_type": "execute_result"
    }
   ],
   "source": [
    "st[12:2:-1]"
   ]
  },
  {
   "cell_type": "code",
   "execution_count": 34,
   "id": "7f4f7515",
   "metadata": {},
   "outputs": [
    {
     "name": "stdout",
     "output_type": "stream",
     "text": [
      "p\n",
      "r\n",
      "         XXXXXX\n",
      "n\n",
      "t\n",
      "(\n",
      "         XXXXXX\n",
      ")\n",
      " \n",
      "f\n",
      "o\n",
      "r\n",
      " \n",
      "         XXXXXX\n",
      " \n",
      "         XXXXXX\n",
      "n\n",
      " \n",
      "r\n",
      "a\n",
      "n\n",
      "g\n",
      "e\n",
      "(\n",
      "1\n",
      "0\n",
      ")\n",
      "Entering else condition\n"
     ]
    }
   ],
   "source": [
    "for i in st:\n",
    "    if i=='i':\n",
    "        print('         XXXXXX')\n",
    "    else :\n",
    "        print(i)\n",
    "else:\n",
    "    print(\"Entering else condition\")"
   ]
  },
  {
   "cell_type": "code",
   "execution_count": 35,
   "id": "670eaef8",
   "metadata": {},
   "outputs": [
    {
     "data": {
      "text/plain": [
       "15"
      ]
     },
     "execution_count": 35,
     "metadata": {},
     "output_type": "execute_result"
    }
   ],
   "source": [
    "a= '* * * * * * * * * * * * * * *'\n",
    "a.split(\" \")\n",
    "b = \"\".join(a.split(\" \"))\n",
    "len(b)"
   ]
  },
  {
   "cell_type": "markdown",
   "id": "635b3443",
   "metadata": {},
   "source": [
    "#  Pattern"
   ]
  },
  {
   "cell_type": "code",
   "execution_count": 36,
   "id": "8a6309fb",
   "metadata": {},
   "outputs": [
    {
     "name": "stdout",
     "output_type": "stream",
     "text": [
      "+ + + + + + + + + + + + + + + + + + + + + + + + + "
     ]
    }
   ],
   "source": [
    "for i in range(25):\n",
    "    print('+ ',end= '')"
   ]
  },
  {
   "cell_type": "code",
   "execution_count": 37,
   "id": "bdb999b2",
   "metadata": {},
   "outputs": [
    {
     "name": "stdout",
     "output_type": "stream",
     "text": [
      "+ \r\n",
      "+ + \r\n",
      "+ + + \r\n",
      "+ + + + \r\n",
      "+ + + + + \r\n"
     ]
    }
   ],
   "source": [
    "for i in range(5): # Upper loop is for no of rows\n",
    "    for j in range(i+1):# this loop is for printing \"+\"\n",
    "        print(\"+\", end=\" \")\n",
    "    print(\"\\r\")"
   ]
  },
  {
   "cell_type": "code",
   "execution_count": 38,
   "id": "b3a4095e",
   "metadata": {},
   "outputs": [
    {
     "name": "stdout",
     "output_type": "stream",
     "text": [
      "\r\n",
      "+ \r\n",
      "+ + \r\n",
      "+ + + \r\n",
      "+ + + + \r\n"
     ]
    }
   ],
   "source": [
    "for i in range(5): # Upper loop is for no of rows\n",
    "    \n",
    "    for j in range(i):# this loop is for printing \"+\"\n",
    "        print(\"+ \", end=\"\")\n",
    "    print(\"\\r\")"
   ]
  },
  {
   "cell_type": "markdown",
   "id": "d33dfc7e",
   "metadata": {},
   "source": [
    "    i=0    +           j in range(0+1) -> j=1 {range(1)= 0,since 0 is still a value(?position also)hence it runs for 1 time} \n",
    "    i=1    + +         j in range(1+1) -> j=2\n",
    "    i=2    + + +       j in range(1+2) -> j=3\n",
    "    i=3    + + + +     j in range(1+3) -> j=4\n",
    "    i=4    + + + + +   j in range(1+4) -> j=5"
   ]
  },
  {
   "cell_type": "code",
   "execution_count": 39,
   "id": "2e4a0d7c",
   "metadata": {},
   "outputs": [
    {
     "name": "stdout",
     "output_type": "stream",
     "text": [
      "0\n"
     ]
    }
   ],
   "source": [
    "for i in range(1):\n",
    "    print(i)"
   ]
  },
  {
   "cell_type": "code",
   "execution_count": 40,
   "id": "7d2c5a23",
   "metadata": {},
   "outputs": [],
   "source": [
    "for i in range(0):\n",
    "    print(i)# It doesnot even executes"
   ]
  },
  {
   "cell_type": "code",
   "execution_count": 41,
   "id": "324d5a08",
   "metadata": {},
   "outputs": [
    {
     "data": {
      "text/plain": [
       "range(0, 1)"
      ]
     },
     "execution_count": 41,
     "metadata": {},
     "output_type": "execute_result"
    }
   ],
   "source": [
    "range(1)"
   ]
  },
  {
   "cell_type": "code",
   "execution_count": 42,
   "id": "1495f7f6",
   "metadata": {},
   "outputs": [
    {
     "data": {
      "text/plain": [
       "range(0, 0)"
      ]
     },
     "execution_count": 42,
     "metadata": {},
     "output_type": "execute_result"
    }
   ],
   "source": [
    "range(0)"
   ]
  },
  {
   "cell_type": "code",
   "execution_count": 43,
   "id": "131a70a2",
   "metadata": {},
   "outputs": [
    {
     "name": "stdout",
     "output_type": "stream",
     "text": [
      "* \r\n",
      "* * \r\n",
      "* * * \r\n",
      "* * * * \r\n",
      "* * * * * \r\n"
     ]
    }
   ],
   "source": [
    "for i in range(5):\n",
    "    for j in range(i+1):\n",
    "        print('*',end=\" \")\n",
    "    print(\"\\r\")"
   ]
  },
  {
   "cell_type": "code",
   "execution_count": 44,
   "id": "d03c30aa",
   "metadata": {},
   "outputs": [
    {
     "name": "stdout",
     "output_type": "stream",
     "text": [
      "* * * * * \r\n",
      "* * * * \r\n",
      "* * * \r\n",
      "* * \r\n",
      "* \r\n"
     ]
    }
   ],
   "source": [
    "for i in range(5):\n",
    "    for j in range(5-i):\n",
    "        print('*',end=' ')\n",
    "    print(\"\\r\")"
   ]
  },
  {
   "cell_type": "code",
   "execution_count": 45,
   "id": "ca97468b",
   "metadata": {},
   "outputs": [
    {
     "name": "stdout",
     "output_type": "stream",
     "text": [
      "i=6   & n-i = 0\n",
      "i=5   & n-i = 1\n",
      "i=4   & n-i = 2\n",
      "i=3   & n-i = 3\n",
      "i=2   & n-i = 4\n",
      "i=1   & n-i = 5\n"
     ]
    }
   ],
   "source": [
    "n=6\n",
    "for i in range(n,0,-1):\n",
    "    print(f\"i={i}   & n-i = {n-i}\")"
   ]
  },
  {
   "cell_type": "code",
   "execution_count": 46,
   "id": "0cafbda7",
   "metadata": {},
   "outputs": [
    {
     "name": "stdout",
     "output_type": "stream",
     "text": [
      "* * * * * \r\n",
      " * * * * \r\n",
      "  * * * \r\n",
      "   * * \r\n",
      "    * \r\n"
     ]
    }
   ],
   "source": [
    "n= 5\n",
    "for i in range(n,0,-1): #n = 5   i=5,4,3,2,1\n",
    "    for j in range(n-i):#for printing spaces\n",
    "        print(\" \",end= \"\")\n",
    "    \n",
    "    for j in range(i): # for printing *\n",
    "        print(\"*\",end=\" \")\n",
    "        \n",
    "    print(\"\\r\")"
   ]
  },
  {
   "cell_type": "code",
   "execution_count": 47,
   "id": "093f69f3",
   "metadata": {},
   "outputs": [
    {
     "name": "stdout",
     "output_type": "stream",
     "text": [
      "* * * * * \r\n",
      " * * * * \r\n",
      "  * * * \r\n",
      "   * * \r\n",
      "    * \r\n"
     ]
    }
   ],
   "source": [
    "# alternate logic\n",
    "\n",
    "for i in range(5):\n",
    "    for j in range(i):\n",
    "        print(\" \",end=\"\")\n",
    "    for j in range(5-i):\n",
    "        print(\"*\",end=\" \")\n",
    "    print(\"\\r\")"
   ]
  },
  {
   "cell_type": "code",
   "execution_count": 48,
   "id": "4564f52a",
   "metadata": {},
   "outputs": [
    {
     "name": "stdout",
     "output_type": "stream",
     "text": [
      "    * \r\n",
      "   * * \r\n",
      "  * * * \r\n",
      " * * * * \r\n",
      "* * * * * \r\n",
      "You're amazing!!!\n"
     ]
    }
   ],
   "source": [
    "#n = 5\n",
    "for i in range(5):\n",
    "    for j in range(5-i-1):# for printing spaces\n",
    "        print(\"\",end=\" \")\n",
    "        \n",
    "    for j in range(i+1):# for printing *\n",
    "        print(\"*\",end=\" \")\n",
    "    print(\"\\r\")\n",
    "print(\"You're amazing!!!\")"
   ]
  },
  {
   "cell_type": "code",
   "execution_count": 49,
   "id": "15565aa4",
   "metadata": {},
   "outputs": [
    {
     "name": "stdout",
     "output_type": "stream",
     "text": [
      "    * \r\n",
      "   * * \r\n",
      "  * * * \r\n",
      " * * * * \r\n",
      "* * * * * \r\n"
     ]
    }
   ],
   "source": [
    "#alternate solution\n",
    "\n",
    "for i in range(5):\n",
    "    for j in range(5-i-1):\n",
    "        print(\" \",end=\"\")\n",
    "    for j in range(i+1):\n",
    "        print(\"*\",end=\" \")\n",
    "    print(\"\\r\")"
   ]
  },
  {
   "cell_type": "code",
   "execution_count": 50,
   "id": "bdb77abb",
   "metadata": {},
   "outputs": [
    {
     "name": "stdout",
     "output_type": "stream",
     "text": [
      "....1 \r\n",
      "...2 2 \r\n",
      "..3 3 3 \r\n",
      ".4 4 4 4 \r\n",
      "5 5 5 5 5 \r\n"
     ]
    }
   ],
   "source": [
    "#another pattern\n",
    "\n",
    "for i in range(5):\n",
    "    for j in range(5-i-1):\n",
    "        print(\".\",end=\"\")\n",
    "    for j in range(i+1):\n",
    "        print(i+1,end=\" \")\n",
    "    print(\"\\r\")"
   ]
  },
  {
   "cell_type": "code",
   "execution_count": 51,
   "id": "4b86cf1e",
   "metadata": {},
   "outputs": [
    {
     "name": "stdout",
     "output_type": "stream",
     "text": [
      "a  b  c  d  e  f  g  h  i  j  k  l  m  n  o  p  q  r  s  t  u  v  w  x  y  z  "
     ]
    }
   ],
   "source": [
    "for i in range(97,123):\n",
    "    print(chr(i),end=\"  \")"
   ]
  },
  {
   "cell_type": "code",
   "execution_count": 52,
   "id": "0a14562b",
   "metadata": {},
   "outputs": [
    {
     "name": "stdout",
     "output_type": "stream",
     "text": [
      "    a \r\n",
      "   b b \r\n",
      "  c c c \r\n",
      " d d d d \r\n",
      "e e e e e \r\n",
      "You are awesome!!!\n"
     ]
    }
   ],
   "source": [
    "for i in range(5):\n",
    "    for j in range(5-i-1):\n",
    "        print(\" \",end=\"\")\n",
    "    for j in range(i+1):\n",
    "        print(chr(i+97),end=\" \")\n",
    "    print(\"\\r\") \n",
    "print(\"You are awesome!!!\")"
   ]
  },
  {
   "cell_type": "code",
   "execution_count": 53,
   "id": "2e1cbd9d",
   "metadata": {},
   "outputs": [
    {
     "name": "stdout",
     "output_type": "stream",
     "text": [
      "    a \r\n",
      "   b b \r\n",
      "  c c c \r\n",
      " d d d d \r\n",
      "e e e e e \r\n"
     ]
    }
   ],
   "source": [
    "#n = int(input(\"Enter a value for n  \"))\n",
    "#print(\"\\n\\n\")\n",
    "n=5\n",
    "for i in range(n):\n",
    "    for j in range(n-i-1):\n",
    "        print(\" \",end=\"\")\n",
    "        \n",
    "    for j in range(i+1):\n",
    "        print(chr(i+97),end=\" \")\n",
    "    \n",
    "    print(\"\\r\") \n",
    "#print(\"You are awesome!!!\")"
   ]
  },
  {
   "cell_type": "code",
   "execution_count": 54,
   "id": "336101f9",
   "metadata": {},
   "outputs": [
    {
     "name": "stdout",
     "output_type": "stream",
     "text": [
      "\n",
      "\n",
      "\n",
      "    A \r\n",
      "   B B \r\n",
      "  C C C \r\n",
      " D D D D \r\n",
      "E E E E E \r\n"
     ]
    }
   ],
   "source": [
    "#n = int(input(\"Enter a value for n  \"))\n",
    "n=5\n",
    "print(\"\\n\\n\")\n",
    "for i in range(n):\n",
    "    for j in range(n-i-1):\n",
    "        print(\" \",end=\"\")\n",
    "        \n",
    "    for j in range(i+1):\n",
    "        print(chr(i+65),end=\" \")\n",
    "    \n",
    "    print(\"\\r\") \n",
    "#print(\"You are awesome!!!\")"
   ]
  },
  {
   "cell_type": "code",
   "execution_count": 55,
   "id": "84a23dcd",
   "metadata": {},
   "outputs": [
    {
     "name": "stdout",
     "output_type": "stream",
     "text": [
      "     *\r\n",
      "    ***\r\n",
      "   *****\r\n",
      "  *******\r\n",
      " *********\r\n"
     ]
    }
   ],
   "source": [
    "for i in range(5):\n",
    "    for j in range(5-i):\n",
    "        print(\" \",end=\"\")\n",
    "    for j in range(i*2+1):\n",
    "        print(\"*\",end=\"\")\n",
    "    print(\"\\r\")"
   ]
  },
  {
   "cell_type": "code",
   "execution_count": 56,
   "id": "0e42996e",
   "metadata": {},
   "outputs": [],
   "source": [
    "a = \"hey this is supposed to be an amazing journey,live your life to the fullest & Keep rocking\""
   ]
  },
  {
   "cell_type": "code",
   "execution_count": 57,
   "id": "80e60566",
   "metadata": {},
   "outputs": [
    {
     "data": {
      "text/plain": [
       "'hey this is supposed to be an amazing journey,live your life to the fullest & Keep rocking'"
      ]
     },
     "execution_count": 57,
     "metadata": {},
     "output_type": "execute_result"
    }
   ],
   "source": [
    "a"
   ]
  },
  {
   "cell_type": "code",
   "execution_count": 58,
   "id": "9dfbcd64",
   "metadata": {},
   "outputs": [
    {
     "data": {
      "text/plain": [
       "'gnikcor peeK & tselluf eht ot efil ruoy evil,yenruoj gnizama na eb ot desoppus si siht yeh'"
      ]
     },
     "execution_count": 58,
     "metadata": {},
     "output_type": "execute_result"
    }
   ],
   "source": [
    "a[::-1]"
   ]
  },
  {
   "cell_type": "code",
   "execution_count": 59,
   "id": "799a26f9",
   "metadata": {},
   "outputs": [
    {
     "data": {
      "text/plain": [
       "'h'"
      ]
     },
     "execution_count": 59,
     "metadata": {},
     "output_type": "execute_result"
    }
   ],
   "source": [
    "a[:1]"
   ]
  },
  {
   "cell_type": "code",
   "execution_count": 60,
   "id": "2c31b980",
   "metadata": {},
   "outputs": [
    {
     "data": {
      "text/plain": [
       "'g'"
      ]
     },
     "execution_count": 60,
     "metadata": {},
     "output_type": "execute_result"
    }
   ],
   "source": [
    "a[-1:]"
   ]
  },
  {
   "cell_type": "code",
   "execution_count": 61,
   "id": "64b75752",
   "metadata": {},
   "outputs": [
    {
     "data": {
      "text/plain": [
       "'king'"
      ]
     },
     "execution_count": 61,
     "metadata": {},
     "output_type": "execute_result"
    }
   ],
   "source": [
    "a[-4:]"
   ]
  },
  {
   "cell_type": "code",
   "execution_count": 62,
   "id": "9c785fa4",
   "metadata": {},
   "outputs": [
    {
     "data": {
      "text/plain": [
       "''"
      ]
     },
     "execution_count": 62,
     "metadata": {},
     "output_type": "execute_result"
    }
   ],
   "source": [
    "a[-1:-6]"
   ]
  },
  {
   "cell_type": "code",
   "execution_count": 63,
   "id": "e45c24e7",
   "metadata": {},
   "outputs": [],
   "source": [
    "line = [ x for x in range(-10,10)]"
   ]
  },
  {
   "cell_type": "code",
   "execution_count": 64,
   "id": "3d101659",
   "metadata": {},
   "outputs": [
    {
     "data": {
      "text/plain": [
       "[-10, -9, -8, -7, -6, -5, -4, -3, -2, -1, 0, 1, 2, 3, 4, 5, 6, 7, 8, 9]"
      ]
     },
     "execution_count": 64,
     "metadata": {},
     "output_type": "execute_result"
    }
   ],
   "source": [
    "line"
   ]
  },
  {
   "cell_type": "code",
   "execution_count": 65,
   "id": "09501d10",
   "metadata": {},
   "outputs": [
    {
     "data": {
      "text/plain": [
       "'hey this is supposed to be an amazing journey,live your life to the fullest & Keep rocking'"
      ]
     },
     "execution_count": 65,
     "metadata": {},
     "output_type": "execute_result"
    }
   ],
   "source": [
    "a"
   ]
  },
  {
   "cell_type": "code",
   "execution_count": 66,
   "id": "3645791d",
   "metadata": {},
   "outputs": [
    {
     "data": {
      "text/plain": [
       "'ey this is supposed to be an amazing journey,live your life to the fullest & Ke'"
      ]
     },
     "execution_count": 66,
     "metadata": {},
     "output_type": "execute_result"
    }
   ],
   "source": [
    "a[1:-10]"
   ]
  },
  {
   "cell_type": "code",
   "execution_count": 67,
   "id": "b3e40d92",
   "metadata": {},
   "outputs": [
    {
     "data": {
      "text/plain": [
       "'gnikcor peeK & tselluf eht ot efil ruoy evil,yenruoj gnizama na eb ot desoppus '"
      ]
     },
     "execution_count": 67,
     "metadata": {},
     "output_type": "execute_result"
    }
   ],
   "source": [
    "# since starting index is -ve the pointer is at the -th index. \"-1\" jumps to the left side \n",
    "a[-1:10:-1]"
   ]
  },
  {
   "cell_type": "code",
   "execution_count": 68,
   "id": "8844c30a",
   "metadata": {},
   "outputs": [
    {
     "data": {
      "text/plain": [
       "''"
      ]
     },
     "execution_count": 68,
     "metadata": {},
     "output_type": "execute_result"
    }
   ],
   "source": [
    "#for -ve starting index, if jump is positive end result will be an empty string\n",
    "a[-1:10:1]"
   ]
  },
  {
   "cell_type": "code",
   "execution_count": 69,
   "id": "5323927a",
   "metadata": {},
   "outputs": [
    {
     "data": {
      "text/plain": [
       "'gnikcor p'"
      ]
     },
     "execution_count": 69,
     "metadata": {},
     "output_type": "execute_result"
    }
   ],
   "source": [
    "a[-1:-10:-1]"
   ]
  },
  {
   "cell_type": "code",
   "execution_count": 70,
   "id": "1ccb4311",
   "metadata": {},
   "outputs": [
    {
     "data": {
      "text/plain": [
       "''"
      ]
     },
     "execution_count": 70,
     "metadata": {},
     "output_type": "execute_result"
    }
   ],
   "source": [
    "a[0:-10:-1]"
   ]
  },
  {
   "cell_type": "code",
   "execution_count": 71,
   "id": "48afd308",
   "metadata": {},
   "outputs": [
    {
     "data": {
      "text/plain": [
       "'hey this is supposed to be an amazing journey,live your life to the fullest & Keep rocking'"
      ]
     },
     "execution_count": 71,
     "metadata": {},
     "output_type": "execute_result"
    }
   ],
   "source": [
    "a"
   ]
  },
  {
   "cell_type": "code",
   "execution_count": 72,
   "id": "4776f113",
   "metadata": {},
   "outputs": [
    {
     "data": {
      "text/plain": [
       "'h'"
      ]
     },
     "execution_count": 72,
     "metadata": {},
     "output_type": "execute_result"
    }
   ],
   "source": [
    "a[0:1]"
   ]
  },
  {
   "cell_type": "code",
   "execution_count": 73,
   "id": "bf971c0e",
   "metadata": {},
   "outputs": [
    {
     "data": {
      "text/plain": [
       "''"
      ]
     },
     "execution_count": 73,
     "metadata": {},
     "output_type": "execute_result"
    }
   ],
   "source": [
    "a[0:-4:-1]"
   ]
  },
  {
   "cell_type": "code",
   "execution_count": 74,
   "id": "6dfb4606",
   "metadata": {},
   "outputs": [
    {
     "data": {
      "text/plain": [
       "'kin'"
      ]
     },
     "execution_count": 74,
     "metadata": {},
     "output_type": "execute_result"
    }
   ],
   "source": [
    "a[-4:-1]"
   ]
  },
  {
   "cell_type": "code",
   "execution_count": 75,
   "id": "72307390",
   "metadata": {},
   "outputs": [
    {
     "data": {
      "text/plain": [
       "False"
      ]
     },
     "execution_count": 75,
     "metadata": {},
     "output_type": "execute_result"
    }
   ],
   "source": [
    "a.startswith(\"the\")"
   ]
  },
  {
   "cell_type": "code",
   "execution_count": 76,
   "id": "c3da2897",
   "metadata": {},
   "outputs": [],
   "source": [
    "a = 'hey this is the supposed to be the an amazing journey,live your life to the fullest & Keep rocking'"
   ]
  },
  {
   "cell_type": "code",
   "execution_count": 77,
   "id": "cb3fcfe8",
   "metadata": {},
   "outputs": [
    {
     "name": "stdout",
     "output_type": "stream",
     "text": [
      "No of duplicates = 3\n"
     ]
    }
   ],
   "source": [
    "\n",
    "def countDups(str):\n",
    "    c = 0\n",
    "    for i in str.split():\n",
    "        if i==\"the\":\n",
    "            c = c+1\n",
    "    if c==1 or c==0:\n",
    "        print(\"No dups\")\n",
    "    else:\n",
    "        print(f\"No of duplicates = {c}\")\n",
    "\n",
    "countDups(a)"
   ]
  },
  {
   "cell_type": "code",
   "execution_count": 78,
   "id": "a768432a",
   "metadata": {},
   "outputs": [
    {
     "name": "stdout",
     "output_type": "stream",
     "text": [
      "hey\n",
      "this\n",
      "is\n",
      "the\n",
      "supposed\n",
      "to\n",
      "be\n",
      "the\n",
      "an\n",
      "amazing\n",
      "journey,live\n",
      "your\n",
      "life\n",
      "to\n",
      "the\n",
      "fullest\n",
      "&\n",
      "Keep\n",
      "rocking\n"
     ]
    }
   ],
   "source": [
    "for i in a.split():\n",
    "    print(i)"
   ]
  },
  {
   "cell_type": "code",
   "execution_count": 79,
   "id": "ba83fb0c",
   "metadata": {},
   "outputs": [],
   "source": [
    "a = 'This life is a wonderful journey of what is considered to be a random sentence that i created which makes no sense'\n"
   ]
  },
  {
   "cell_type": "code",
   "execution_count": 80,
   "id": "1d74cadb",
   "metadata": {},
   "outputs": [
    {
     "data": {
      "text/plain": [
       "114"
      ]
     },
     "execution_count": 80,
     "metadata": {},
     "output_type": "execute_result"
    }
   ],
   "source": [
    "len(a)"
   ]
  },
  {
   "cell_type": "code",
   "execution_count": 81,
   "id": "fbecf531",
   "metadata": {},
   "outputs": [
    {
     "data": {
      "text/plain": [
       "109"
      ]
     },
     "execution_count": 81,
     "metadata": {},
     "output_type": "execute_result"
    }
   ],
   "source": [
    "a.find('sense')"
   ]
  },
  {
   "cell_type": "code",
   "execution_count": 82,
   "id": "fdf92d82",
   "metadata": {},
   "outputs": [
    {
     "data": {
      "text/plain": [
       "25"
      ]
     },
     "execution_count": 82,
     "metadata": {},
     "output_type": "execute_result"
    }
   ],
   "source": [
    "a.find('journey')"
   ]
  },
  {
   "cell_type": "code",
   "execution_count": 83,
   "id": "a50488aa",
   "metadata": {},
   "outputs": [
    {
     "data": {
      "text/plain": [
       "'tHIS LIFE IS A WONDERFUL JOURNEY OF WHAT IS CONSIDERED TO BE A RANDOM SENTENCE THAT I CREATED WHICH MAKES NO SENSE'"
      ]
     },
     "execution_count": 83,
     "metadata": {},
     "output_type": "execute_result"
    }
   ],
   "source": [
    "a.swapcase()"
   ]
  },
  {
   "cell_type": "code",
   "execution_count": 84,
   "id": "bdca199c",
   "metadata": {},
   "outputs": [
    {
     "data": {
      "text/plain": [
       "b'This life is a wonderful journey of what is considered to be a random sentence that i created which makes no sense'"
      ]
     },
     "execution_count": 84,
     "metadata": {},
     "output_type": "execute_result"
    }
   ],
   "source": [
    "a.encode()"
   ]
  },
  {
   "cell_type": "code",
   "execution_count": 85,
   "id": "10fd1be9",
   "metadata": {},
   "outputs": [
    {
     "data": {
      "text/plain": [
       "'This life is a replaced MF!!!!!!! journey of what is considered to be a random sentence that i created which makes no sense'"
      ]
     },
     "execution_count": 85,
     "metadata": {},
     "output_type": "execute_result"
    }
   ],
   "source": [
    "a.replace('wonderful','replaced MF!!!!!!!')"
   ]
  },
  {
   "cell_type": "code",
   "execution_count": 86,
   "id": "2d66ba1d",
   "metadata": {},
   "outputs": [
    {
     "data": {
      "text/plain": [
       "'                 rahul                  '"
      ]
     },
     "execution_count": 86,
     "metadata": {},
     "output_type": "execute_result"
    }
   ],
   "source": [
    "\"rahul\".center(40,\" \")"
   ]
  },
  {
   "cell_type": "code",
   "execution_count": 87,
   "id": "0fb483aa",
   "metadata": {},
   "outputs": [
    {
     "data": {
      "text/plain": [
       "False"
      ]
     },
     "execution_count": 87,
     "metadata": {},
     "output_type": "execute_result"
    }
   ],
   "source": [
    "a = 'rahul is'\n",
    "a.isspace()"
   ]
  },
  {
   "cell_type": "code",
   "execution_count": 88,
   "id": "47c4196e",
   "metadata": {},
   "outputs": [
    {
     "data": {
      "text/plain": [
       "True"
      ]
     },
     "execution_count": 88,
     "metadata": {},
     "output_type": "execute_result"
    }
   ],
   "source": [
    "'234235'.isdigit()"
   ]
  },
  {
   "cell_type": "code",
   "execution_count": 89,
   "id": "dca72295",
   "metadata": {},
   "outputs": [
    {
     "data": {
      "text/plain": [
       "False"
      ]
     },
     "execution_count": 89,
     "metadata": {},
     "output_type": "execute_result"
    }
   ],
   "source": [
    "a.startswith('is')"
   ]
  },
  {
   "cell_type": "code",
   "execution_count": 90,
   "id": "b9e22737",
   "metadata": {},
   "outputs": [],
   "source": [
    "l = [ 'rahu',23 ,5.8 ,True ,6+7j]"
   ]
  },
  {
   "cell_type": "code",
   "execution_count": 91,
   "id": "73dbc9fc",
   "metadata": {},
   "outputs": [
    {
     "data": {
      "text/plain": [
       "list"
      ]
     },
     "execution_count": 91,
     "metadata": {},
     "output_type": "execute_result"
    }
   ],
   "source": [
    "type(l)"
   ]
  },
  {
   "cell_type": "code",
   "execution_count": 92,
   "id": "40185b82",
   "metadata": {},
   "outputs": [
    {
     "name": "stdout",
     "output_type": "stream",
     "text": [
      "<class 'str'>\n",
      "<class 'int'>\n",
      "<class 'float'>\n",
      "<class 'bool'>\n",
      "<class 'complex'>\n"
     ]
    }
   ],
   "source": [
    "for i in range(len(l)):\n",
    "    print(type(l[i]))"
   ]
  },
  {
   "cell_type": "code",
   "execution_count": 93,
   "id": "f0c887fc",
   "metadata": {},
   "outputs": [],
   "source": [
    "#list is mutable\n",
    "a = [34536 , 'kumar' , 'awrs']"
   ]
  },
  {
   "cell_type": "markdown",
   "id": "27af18b8",
   "metadata": {},
   "source": [
    "a[1][0] = 's'\n",
    "#since string is immutable we cannot edit"
   ]
  },
  {
   "cell_type": "code",
   "execution_count": 94,
   "id": "e1df37c9",
   "metadata": {},
   "outputs": [
    {
     "data": {
      "text/plain": [
       "'s'"
      ]
     },
     "execution_count": 94,
     "metadata": {},
     "output_type": "execute_result"
    }
   ],
   "source": [
    "a[1][0].replace('k','s')"
   ]
  },
  {
   "cell_type": "code",
   "execution_count": 95,
   "id": "7ed36873",
   "metadata": {},
   "outputs": [
    {
     "data": {
      "text/plain": [
       "[34536, 'kumar', 'awrs']"
      ]
     },
     "execution_count": 95,
     "metadata": {},
     "output_type": "execute_result"
    }
   ],
   "source": [
    "a"
   ]
  },
  {
   "cell_type": "code",
   "execution_count": 96,
   "id": "6f38793b",
   "metadata": {},
   "outputs": [],
   "source": [
    "b = ['kl' , 453 ,False]"
   ]
  },
  {
   "cell_type": "code",
   "execution_count": 97,
   "id": "5259b920",
   "metadata": {},
   "outputs": [
    {
     "data": {
      "text/plain": [
       "[34536, 'kumar', 'awrs', 'kl', 453, False]"
      ]
     },
     "execution_count": 97,
     "metadata": {},
     "output_type": "execute_result"
    }
   ],
   "source": [
    "a + b"
   ]
  },
  {
   "cell_type": "code",
   "execution_count": 98,
   "id": "3533dc1a",
   "metadata": {},
   "outputs": [
    {
     "data": {
      "text/plain": [
       "[34536, 'kumar', 'awrs', 34536, 'kumar', 'awrs', 34536, 'kumar', 'awrs']"
      ]
     },
     "execution_count": 98,
     "metadata": {},
     "output_type": "execute_result"
    }
   ],
   "source": [
    "a * 3"
   ]
  },
  {
   "cell_type": "code",
   "execution_count": 99,
   "id": "80b5ba8b",
   "metadata": {},
   "outputs": [],
   "source": [
    "#  ERROR!!!!!!!!!   ->>>    a*b"
   ]
  },
  {
   "cell_type": "code",
   "execution_count": 100,
   "id": "5dc9a881",
   "metadata": {},
   "outputs": [
    {
     "data": {
      "text/plain": [
       "['r', 'a', 'h', 'u', 'l']"
      ]
     },
     "execution_count": 100,
     "metadata": {},
     "output_type": "execute_result"
    }
   ],
   "source": [
    "list('rahul')"
   ]
  },
  {
   "cell_type": "code",
   "execution_count": 101,
   "id": "a37b60f7",
   "metadata": {},
   "outputs": [],
   "source": [
    "l = [ 'rahu',23 ,5.8 ,True, [1,2,3,4,5,6,7,8,9] ,[10,11,12,14,15,16,17],6+7j]"
   ]
  },
  {
   "cell_type": "code",
   "execution_count": 102,
   "id": "a6900937",
   "metadata": {},
   "outputs": [
    {
     "name": "stdout",
     "output_type": "stream",
     "text": [
      "Iterating through list 1\n",
      "1 2 3 4 5 6 7 8 9 \n",
      "\n",
      "Iterating through list 2\n",
      "10 11 12 14 15 16 17 \n",
      "\n"
     ]
    }
   ],
   "source": [
    "c=0\n",
    "for i in l:\n",
    "    if type(i) == list:\n",
    "        c+=1\n",
    "        print(f\"Iterating through list {c}\")\n",
    "        for j in i:\n",
    "            print(j,end = \" \")\n",
    "        print(\"\\n\")"
   ]
  },
  {
   "cell_type": "code",
   "execution_count": 103,
   "id": "3176f80d",
   "metadata": {},
   "outputs": [],
   "source": [
    "sentence = \"hey i am a am i a hero am is i an or an hero is or an am i???\""
   ]
  },
  {
   "cell_type": "code",
   "execution_count": 104,
   "id": "d75d9fe2",
   "metadata": {},
   "outputs": [
    {
     "data": {
      "text/plain": [
       "4"
      ]
     },
     "execution_count": 104,
     "metadata": {},
     "output_type": "execute_result"
    }
   ],
   "source": [
    "sentence.count('am')"
   ]
  },
  {
   "cell_type": "code",
   "execution_count": 105,
   "id": "76249585",
   "metadata": {},
   "outputs": [
    {
     "data": {
      "text/plain": [
       "'h e y   i   a m   a   a m   i   a   h e r o   a m   i s   i   a n   o r   a n   h e r o   i s   o r   a n   a m   i ? ? ?'"
      ]
     },
     "execution_count": 105,
     "metadata": {},
     "output_type": "execute_result"
    }
   ],
   "source": [
    "# adds delimiter after every character\n",
    "' '.join(sentence)"
   ]
  },
  {
   "cell_type": "code",
   "execution_count": 106,
   "id": "8991bd60",
   "metadata": {},
   "outputs": [],
   "source": [
    "l = [1 ,2,3,45,6,'hello','this is an 21344','amazaing']"
   ]
  },
  {
   "cell_type": "code",
   "execution_count": 107,
   "id": "f452cc1c",
   "metadata": {},
   "outputs": [],
   "source": [
    "l.extend('any iterable object')"
   ]
  },
  {
   "cell_type": "code",
   "execution_count": 108,
   "id": "193e5385",
   "metadata": {},
   "outputs": [
    {
     "data": {
      "text/plain": [
       "[1,\n",
       " 2,\n",
       " 3,\n",
       " 45,\n",
       " 6,\n",
       " 'hello',\n",
       " 'this is an 21344',\n",
       " 'amazaing',\n",
       " 'a',\n",
       " 'n',\n",
       " 'y',\n",
       " ' ',\n",
       " 'i',\n",
       " 't',\n",
       " 'e',\n",
       " 'r',\n",
       " 'a',\n",
       " 'b',\n",
       " 'l',\n",
       " 'e',\n",
       " ' ',\n",
       " 'o',\n",
       " 'b',\n",
       " 'j',\n",
       " 'e',\n",
       " 'c',\n",
       " 't']"
      ]
     },
     "execution_count": 108,
     "metadata": {},
     "output_type": "execute_result"
    }
   ],
   "source": [
    "l"
   ]
  },
  {
   "cell_type": "markdown",
   "id": "c3fc6223",
   "metadata": {},
   "source": [
    "## Error !!!!\n",
    "#### l.extend(45) : We can extend any iterable object like string or list not a static value like 12,5634.00 etc "
   ]
  },
  {
   "cell_type": "markdown",
   "id": "3686ee8c",
   "metadata": {},
   "source": [
    "# ESC + L => list no in a jupyter notebook cell "
   ]
  },
  {
   "cell_type": "code",
   "execution_count": 109,
   "id": "d808c93e",
   "metadata": {},
   "outputs": [
    {
     "data": {
      "text/plain": [
       "[1,\n",
       " 2,\n",
       " 3,\n",
       " 45,\n",
       " 6,\n",
       " 'hello',\n",
       " 'this is an 21344',\n",
       " 'amazaing',\n",
       " 'a',\n",
       " 'n',\n",
       " 'y',\n",
       " ' ',\n",
       " 'i',\n",
       " 't',\n",
       " 'e',\n",
       " 'r',\n",
       " 'a',\n",
       " 'b',\n",
       " 'l',\n",
       " 'e',\n",
       " ' ',\n",
       " 'o',\n",
       " 'b',\n",
       " 'j',\n",
       " 'e',\n",
       " 'c',\n",
       " 't',\n",
       " 'a',\n",
       " 'w',\n",
       " 'e',\n",
       " 's',\n",
       " 'o',\n",
       " 'm',\n",
       " 'e']"
      ]
     },
     "execution_count": 109,
     "metadata": {},
     "output_type": "execute_result"
    }
   ],
   "source": [
    "l.extend('awesome')\n",
    "l"
   ]
  },
  {
   "cell_type": "code",
   "execution_count": 110,
   "id": "1c018570",
   "metadata": {},
   "outputs": [
    {
     "data": {
      "text/plain": [
       "'e'"
      ]
     },
     "execution_count": 110,
     "metadata": {},
     "output_type": "execute_result"
    }
   ],
   "source": [
    "# POP function removes last element from the list\n",
    "l.pop(-1) "
   ]
  },
  {
   "cell_type": "code",
   "execution_count": 111,
   "id": "6e90052d",
   "metadata": {},
   "outputs": [
    {
     "data": {
      "text/plain": [
       "[1,\n",
       " 2,\n",
       " 3,\n",
       " 45,\n",
       " 6,\n",
       " 'hello',\n",
       " 'this is an 21344',\n",
       " 'amazaing',\n",
       " 'a',\n",
       " 'n',\n",
       " 'y',\n",
       " ' ',\n",
       " 'i',\n",
       " 't',\n",
       " 'e',\n",
       " 'r',\n",
       " 'a',\n",
       " 'b',\n",
       " 'l',\n",
       " 'e',\n",
       " ' ',\n",
       " 'o',\n",
       " 'b',\n",
       " 'j',\n",
       " 'e',\n",
       " 'c',\n",
       " 't',\n",
       " 'a',\n",
       " 'w',\n",
       " 'e',\n",
       " 's',\n",
       " 'o',\n",
       " 'm']"
      ]
     },
     "execution_count": 111,
     "metadata": {},
     "output_type": "execute_result"
    }
   ],
   "source": [
    "l"
   ]
  },
  {
   "cell_type": "code",
   "execution_count": 112,
   "id": "4c9dcc2f",
   "metadata": {},
   "outputs": [
    {
     "data": {
      "text/plain": [
       "33"
      ]
     },
     "execution_count": 112,
     "metadata": {},
     "output_type": "execute_result"
    }
   ],
   "source": [
    "len(l)"
   ]
  },
  {
   "cell_type": "code",
   "execution_count": 113,
   "id": "7058af40",
   "metadata": {},
   "outputs": [
    {
     "data": {
      "text/plain": [
       "[1,\n",
       " 2,\n",
       " 3,\n",
       " 45,\n",
       " 6,\n",
       " 'hello',\n",
       " 'this is an 21344',\n",
       " 'amazaing',\n",
       " 'a',\n",
       " 'n',\n",
       " 'y',\n",
       " ' ',\n",
       " 'i',\n",
       " 't',\n",
       " 'e',\n",
       " 'r',\n",
       " 'a',\n",
       " 'b',\n",
       " 'l',\n",
       " 'e',\n",
       " ' ',\n",
       " 'o',\n",
       " 'b',\n",
       " 'j',\n",
       " 'e',\n",
       " 'c',\n",
       " 't',\n",
       " 'a',\n",
       " 'w',\n",
       " 'e',\n",
       " 's',\n",
       " 'o',\n",
       " 'i',\n",
       " 'm']"
      ]
     },
     "execution_count": 113,
     "metadata": {},
     "output_type": "execute_result"
    }
   ],
   "source": [
    "#actual insertion happens at the end but it shifts the last element to the right\n",
    "l.insert(-1,'i')\n",
    "l"
   ]
  },
  {
   "cell_type": "code",
   "execution_count": 114,
   "id": "61a3a5a4",
   "metadata": {},
   "outputs": [
    {
     "data": {
      "text/plain": [
       "5"
      ]
     },
     "execution_count": 114,
     "metadata": {},
     "output_type": "execute_result"
    }
   ],
   "source": [
    "l.index('hello')"
   ]
  },
  {
   "cell_type": "code",
   "execution_count": 115,
   "id": "61bc2cd7",
   "metadata": {},
   "outputs": [],
   "source": [
    "### ERROR!!!!!\n",
    "#l['hello']"
   ]
  },
  {
   "cell_type": "code",
   "execution_count": 116,
   "id": "b0596cfc",
   "metadata": {},
   "outputs": [],
   "source": [
    "l1 = [[1,2,3],[4,5,6],[7,8,9],\"demo\",12.5]\n",
    "l2 = [11,12,'b','b','b']\n",
    "l3 = [21,'t',223]"
   ]
  },
  {
   "cell_type": "code",
   "execution_count": 117,
   "id": "e426d148",
   "metadata": {},
   "outputs": [
    {
     "data": {
      "text/plain": [
       "[[1, 2, 3, 45, 6],\n",
       " 'hey',\n",
       " 'beautiful',\n",
       " [534.234, 14, 7456, 'abv', 'a', 'c', 'd', 'hgg', 32],\n",
       " [3, 6, 9, 0]]"
      ]
     },
     "execution_count": 117,
     "metadata": {},
     "output_type": "execute_result"
    }
   ],
   "source": [
    "l = [[1,2,3,45,6],'hey', 'beautiful',[534.234,14,7456,'abv','a','c','d','hgg',32],[3,6,9,0]]\n",
    "l"
   ]
  },
  {
   "cell_type": "code",
   "execution_count": 118,
   "id": "ca7e0088",
   "metadata": {},
   "outputs": [
    {
     "name": "stdout",
     "output_type": "stream",
     "text": [
      "1 2 3 45 6 \r\n",
      "h e y \r\n",
      "b e a u t i f u l \r\n",
      "534.234 14 7456 abv a c d hgg 32 \r\n",
      "3 6 9 0 \r\n"
     ]
    }
   ],
   "source": [
    "for i in l:\n",
    "    for j in i:\n",
    "        print(j ,end = ' ')\n",
    "    print(\"\\r\")"
   ]
  },
  {
   "cell_type": "code",
   "execution_count": 119,
   "id": "00c7d0e3",
   "metadata": {},
   "outputs": [
    {
     "name": "stdout",
     "output_type": "stream",
     "text": [
      "string found at index 1\n",
      "hey\n",
      "string found at index 2\n",
      "beautiful\n",
      "abv\n",
      "string found at index 3\n",
      "a\n",
      "string found at index 3\n",
      "c\n",
      "string found at index 3\n",
      "d\n",
      "string found at index 3\n",
      "hgg\n",
      "string found at index 3\n"
     ]
    }
   ],
   "source": [
    "for i in l:\n",
    "    if type(i) == str:\n",
    "        print(f\"string found at index {l.index(i)}\")\n",
    "        print(i)\n",
    "    \n",
    "    if type(i) == list:\n",
    "        for j in i:\n",
    "            if type(j) == str:\n",
    "                print(j)\n",
    "                print(f\"string found at index {l.index(i)}\")\n",
    "                \n",
    "                "
   ]
  },
  {
   "cell_type": "code",
   "execution_count": 120,
   "id": "1d0c6385",
   "metadata": {},
   "outputs": [
    {
     "name": "stdout",
     "output_type": "stream",
     "text": [
      "Hurray its there!!\n"
     ]
    }
   ],
   "source": [
    "t1 = ('rahul' , 12,'m',76 ,'hirondi',23)\n",
    "\n",
    "inp = 'Rahul hirondi'\n",
    "#inp = input('Enter your name: ').lower()\n",
    "\n",
    "if inp.split()[0].lower() in t1:\n",
    "    \n",
    "    print('Hurray its there!!')\n",
    "else:\n",
    "    \n",
    "    print('TRy searching something else!!!')"
   ]
  },
  {
   "cell_type": "markdown",
   "id": "3855403f",
   "metadata": {},
   "source": [
    "# Tuple"
   ]
  },
  {
   "cell_type": "code",
   "execution_count": 121,
   "id": "5dc6f511",
   "metadata": {},
   "outputs": [],
   "source": [
    "# deleting a tuple\n",
    "\n",
    "#del(t1)"
   ]
  },
  {
   "cell_type": "code",
   "execution_count": 122,
   "id": "a8b18129",
   "metadata": {},
   "outputs": [
    {
     "data": {
      "text/plain": [
       "<generator object <genexpr> at 0x000001E544BB5BA0>"
      ]
     },
     "execution_count": 122,
     "metadata": {},
     "output_type": "execute_result"
    }
   ],
   "source": [
    "t1 = ( x**2 for x in range(10)) # Act as an iterable object somewhat like range, values are present but are hidden \n",
    "t1"
   ]
  },
  {
   "cell_type": "code",
   "execution_count": 123,
   "id": "8d4dcb83",
   "metadata": {},
   "outputs": [],
   "source": [
    "l1 = list(t1)"
   ]
  },
  {
   "cell_type": "code",
   "execution_count": 124,
   "id": "e5dda46d",
   "metadata": {},
   "outputs": [
    {
     "data": {
      "text/plain": [
       "[0, 1, 4, 9, 16, 25, 36, 49, 64, 81]"
      ]
     },
     "execution_count": 124,
     "metadata": {},
     "output_type": "execute_result"
    }
   ],
   "source": [
    "l1"
   ]
  },
  {
   "cell_type": "code",
   "execution_count": 125,
   "id": "2d7a61dc",
   "metadata": {},
   "outputs": [],
   "source": [
    "l1.insert(5,100)"
   ]
  },
  {
   "cell_type": "code",
   "execution_count": 126,
   "id": "2db22261",
   "metadata": {},
   "outputs": [
    {
     "data": {
      "text/plain": [
       "[0, 1, 4, 9, 16, 100, 25, 36, 49, 64, 81]"
      ]
     },
     "execution_count": 126,
     "metadata": {},
     "output_type": "execute_result"
    }
   ],
   "source": [
    "l1"
   ]
  },
  {
   "cell_type": "code",
   "execution_count": 127,
   "id": "1faf9af0",
   "metadata": {},
   "outputs": [
    {
     "data": {
      "text/plain": [
       "(0, 1, 4, 9, 16, 100, 25, 36, 49, 64, 81)"
      ]
     },
     "execution_count": 127,
     "metadata": {},
     "output_type": "execute_result"
    }
   ],
   "source": [
    "t2 = tuple(l1)\n",
    "t2"
   ]
  },
  {
   "cell_type": "markdown",
   "id": "68623efa",
   "metadata": {},
   "source": [
    "## Sets\n"
   ]
  },
  {
   "cell_type": "code",
   "execution_count": 128,
   "id": "6cfb71d7",
   "metadata": {},
   "outputs": [
    {
     "data": {
      "text/plain": [
       "[1, 2, 1, 2, 1, 2, 1, 2, 1, 2]"
      ]
     },
     "execution_count": 128,
     "metadata": {},
     "output_type": "execute_result"
    }
   ],
   "source": [
    "s = [1 if x%2==0 else 2 for x in range(10) ]\n",
    "s"
   ]
  },
  {
   "cell_type": "code",
   "execution_count": 129,
   "id": "beeb5211",
   "metadata": {},
   "outputs": [
    {
     "data": {
      "text/plain": [
       "{1, 2}"
      ]
     },
     "execution_count": 129,
     "metadata": {},
     "output_type": "execute_result"
    }
   ],
   "source": [
    "a = set(s)# Distinct element in a collection\n",
    "a"
   ]
  },
  {
   "cell_type": "code",
   "execution_count": 130,
   "id": "acf319f6",
   "metadata": {},
   "outputs": [
    {
     "data": {
      "text/plain": [
       "set"
      ]
     },
     "execution_count": 130,
     "metadata": {},
     "output_type": "execute_result"
    }
   ],
   "source": [
    "type(a)"
   ]
  },
  {
   "cell_type": "code",
   "execution_count": 131,
   "id": "b0bcfefb",
   "metadata": {},
   "outputs": [
    {
     "data": {
      "text/plain": [
       "True"
      ]
     },
     "execution_count": 131,
     "metadata": {},
     "output_type": "execute_result"
    }
   ],
   "source": [
    "2 in a"
   ]
  },
  {
   "cell_type": "code",
   "execution_count": 132,
   "id": "2f74df6e",
   "metadata": {},
   "outputs": [
    {
     "name": "stdout",
     "output_type": "stream",
     "text": [
      "1\n",
      "2\n"
     ]
    }
   ],
   "source": [
    "for i in a:\n",
    "    print(i)"
   ]
  },
  {
   "cell_type": "code",
   "execution_count": 133,
   "id": "95214077",
   "metadata": {},
   "outputs": [],
   "source": [
    "#a[0] ## indexing not available in sets"
   ]
  },
  {
   "cell_type": "markdown",
   "id": "9d84d173",
   "metadata": {},
   "source": [
    " *** THE ELEMENTS IN A SET APPEAR TO BE IN ORDERED ARRANGEMENT, HOWEVER IN BACKGROUND UNORDERED COLLECTION IS RETURNED***"
   ]
  },
  {
   "cell_type": "code",
   "execution_count": 134,
   "id": "b6f026bf",
   "metadata": {},
   "outputs": [],
   "source": [
    "ac = [x for x in range(10)]\n",
    "bc = [x for x in range(10)]\n",
    "\n",
    "t1 = tuple(ac)\n",
    "t2 = tuple(bc)"
   ]
  },
  {
   "cell_type": "code",
   "execution_count": 135,
   "id": "a74e7e3e",
   "metadata": {},
   "outputs": [
    {
     "data": {
      "text/plain": [
       "(0, 1, 2, 3, 4, 5, 6, 7, 8, 9, 0, 1, 2, 3, 4, 5, 6, 7, 8, 9)"
      ]
     },
     "execution_count": 135,
     "metadata": {},
     "output_type": "execute_result"
    }
   ],
   "source": [
    "t1+t2 #for tuple operations are allowed but not in set operations"
   ]
  },
  {
   "cell_type": "code",
   "execution_count": 136,
   "id": "34ab4b3f",
   "metadata": {},
   "outputs": [],
   "source": [
    "# Errors out \n",
    "# a + a"
   ]
  },
  {
   "cell_type": "markdown",
   "id": "6c631601",
   "metadata": {},
   "source": [
    "# *** we can convert list<=>tuples<=>set ***"
   ]
  },
  {
   "cell_type": "markdown",
   "id": "ecb0ec40",
   "metadata": {},
   "source": [
    "##  Dictionaries\n"
   ]
  },
  {
   "cell_type": "code",
   "execution_count": 137,
   "id": "6f62d9dd",
   "metadata": {},
   "outputs": [],
   "source": [
    "x= {}"
   ]
  },
  {
   "cell_type": "code",
   "execution_count": 138,
   "id": "ded8d852",
   "metadata": {},
   "outputs": [
    {
     "data": {
      "text/plain": [
       "dict"
      ]
     },
     "execution_count": 138,
     "metadata": {},
     "output_type": "execute_result"
    }
   ],
   "source": [
    "type(x)"
   ]
  },
  {
   "cell_type": "code",
   "execution_count": 139,
   "id": "e619132f",
   "metadata": {},
   "outputs": [
    {
     "data": {
      "text/plain": [
       "set"
      ]
     },
     "execution_count": 139,
     "metadata": {},
     "output_type": "execute_result"
    }
   ],
   "source": [
    "x1 = {2,3,4,56}\n",
    "type(x1)"
   ]
  },
  {
   "cell_type": "code",
   "execution_count": 140,
   "id": "3873235f",
   "metadata": {},
   "outputs": [],
   "source": [
    "d1 = {\n",
    "    'key1':'value1',\n",
    "    'key2':'value2',\n",
    "    'key3':'value3'\n",
    "}"
   ]
  },
  {
   "cell_type": "code",
   "execution_count": 141,
   "id": "5ac43f80",
   "metadata": {},
   "outputs": [
    {
     "data": {
      "text/plain": [
       "'value1'"
      ]
     },
     "execution_count": 141,
     "metadata": {},
     "output_type": "execute_result"
    }
   ],
   "source": [
    "d1['key1']"
   ]
  },
  {
   "cell_type": "code",
   "execution_count": 142,
   "id": "44f62f76",
   "metadata": {},
   "outputs": [],
   "source": [
    "d2={\n",
    "    'l1': [1,2,3,4,5,6],\n",
    "    't1': (5,6,7,8,9,0),\n",
    "    's1': {12,31,14,15},\n",
    "     12 : ['awesome','b'],\n",
    "     True : 123456\n",
    "}"
   ]
  },
  {
   "cell_type": "code",
   "execution_count": 143,
   "id": "237c1e04",
   "metadata": {},
   "outputs": [
    {
     "data": {
      "text/plain": [
       "{'l1': [1, 2, 3, 4, 5, 6],\n",
       " 't1': (5, 6, 7, 8, 9, 0),\n",
       " 's1': {12, 14, 15, 31},\n",
       " 12: ['awesome', 'b'],\n",
       " True: 123456}"
      ]
     },
     "execution_count": 143,
     "metadata": {},
     "output_type": "execute_result"
    }
   ],
   "source": [
    "d2"
   ]
  },
  {
   "cell_type": "code",
   "execution_count": 144,
   "id": "6f3bd2c2",
   "metadata": {},
   "outputs": [
    {
     "name": "stdout",
     "output_type": "stream",
     "text": [
      "<class 'str'>\n",
      "<class 'str'>\n",
      "<class 'str'>\n",
      "<class 'int'>\n",
      "<class 'bool'>\n"
     ]
    }
   ],
   "source": [
    "for i in d2.keys():\n",
    "    print(type(i))"
   ]
  },
  {
   "cell_type": "code",
   "execution_count": 145,
   "id": "414cabaa",
   "metadata": {},
   "outputs": [
    {
     "name": "stdout",
     "output_type": "stream",
     "text": [
      "5 6 7 8 9 0 "
     ]
    }
   ],
   "source": [
    "for i in d2['t1']:\n",
    "    print(i,end=' ')"
   ]
  },
  {
   "cell_type": "code",
   "execution_count": 146,
   "id": "ce7dd2c4",
   "metadata": {},
   "outputs": [
    {
     "data": {
      "text/plain": [
       "dict_keys(['l1', 't1', 's1', 12, True])"
      ]
     },
     "execution_count": 146,
     "metadata": {},
     "output_type": "execute_result"
    }
   ],
   "source": [
    "d2.keys()"
   ]
  },
  {
   "cell_type": "code",
   "execution_count": 147,
   "id": "1e8843ec",
   "metadata": {},
   "outputs": [
    {
     "data": {
      "text/plain": [
       "dict_items([('l1', [1, 2, 3, 4, 5, 6]), ('t1', (5, 6, 7, 8, 9, 0)), ('s1', {12, 15, 14, 31}), (12, ['awesome', 'b']), (True, 123456)])"
      ]
     },
     "execution_count": 147,
     "metadata": {},
     "output_type": "execute_result"
    }
   ],
   "source": [
    "d2.items()"
   ]
  },
  {
   "cell_type": "code",
   "execution_count": 148,
   "id": "c7f151c7",
   "metadata": {},
   "outputs": [
    {
     "data": {
      "text/plain": [
       "dict_items([('l1', [1, 2, 3, 4, 5, 6]), ('t1', (5, 6, 7, 8, 9, 0)), ('s1', {12, 15, 14, 31}), (12, ['awesome', 'b']), (True, 123456)])"
      ]
     },
     "execution_count": 148,
     "metadata": {},
     "output_type": "execute_result"
    }
   ],
   "source": [
    "d2.items()"
   ]
  },
  {
   "cell_type": "code",
   "execution_count": 149,
   "id": "9bb5119b",
   "metadata": {},
   "outputs": [
    {
     "name": "stdout",
     "output_type": "stream",
     "text": [
      "l1\n",
      "t1\n",
      "s1\n",
      "12\n",
      "True\n"
     ]
    }
   ],
   "source": [
    "#keys\n",
    "for i in d2.items():\n",
    "    print(i[0])"
   ]
  },
  {
   "cell_type": "code",
   "execution_count": 150,
   "id": "9fa9c87b",
   "metadata": {},
   "outputs": [
    {
     "name": "stdout",
     "output_type": "stream",
     "text": [
      "[1, 2, 3, 4, 5, 6]\n",
      "(5, 6, 7, 8, 9, 0)\n",
      "{12, 15, 14, 31}\n",
      "['awesome', 'b']\n",
      "123456\n"
     ]
    }
   ],
   "source": [
    "#Values\n",
    "for i in d2.items():\n",
    "    print(i[1])"
   ]
  },
  {
   "cell_type": "code",
   "execution_count": 151,
   "id": "bf868507",
   "metadata": {},
   "outputs": [],
   "source": [
    "#para = input('Enter  your paragraph')\n",
    "para = 'Enter  your paragraphasdfghjk sdfghjklo sdfghjkl dfghjk jkldfcvghj '"
   ]
  },
  {
   "cell_type": "code",
   "execution_count": 152,
   "id": "727bb7b9",
   "metadata": {},
   "outputs": [],
   "source": [
    "lp = list(para.split(' '))"
   ]
  },
  {
   "cell_type": "code",
   "execution_count": 153,
   "id": "e94db17e",
   "metadata": {},
   "outputs": [
    {
     "data": {
      "text/plain": [
       "['Enter',\n",
       " '',\n",
       " 'your',\n",
       " 'paragraphasdfghjk',\n",
       " 'sdfghjklo',\n",
       " 'sdfghjkl',\n",
       " 'dfghjk',\n",
       " 'jkldfcvghj',\n",
       " '']"
      ]
     },
     "execution_count": 153,
     "metadata": {},
     "output_type": "execute_result"
    }
   ],
   "source": [
    "lp"
   ]
  },
  {
   "cell_type": "code",
   "execution_count": 154,
   "id": "92dcf730",
   "metadata": {},
   "outputs": [
    {
     "data": {
      "text/plain": [
       "{'',\n",
       " 'Enter',\n",
       " 'dfghjk',\n",
       " 'jkldfcvghj',\n",
       " 'paragraphasdfghjk',\n",
       " 'sdfghjkl',\n",
       " 'sdfghjklo',\n",
       " 'your'}"
      ]
     },
     "execution_count": 154,
     "metadata": {},
     "output_type": "execute_result"
    }
   ],
   "source": [
    "set(lp)"
   ]
  },
  {
   "cell_type": "code",
   "execution_count": 155,
   "id": "093137a9",
   "metadata": {},
   "outputs": [
    {
     "data": {
      "text/plain": [
       "dict"
      ]
     },
     "execution_count": 155,
     "metadata": {},
     "output_type": "execute_result"
    }
   ],
   "source": [
    "set1 = {}\n",
    "type(set1)"
   ]
  },
  {
   "cell_type": "code",
   "execution_count": 156,
   "id": "a0108adf",
   "metadata": {},
   "outputs": [
    {
     "data": {
      "text/plain": [
       "set"
      ]
     },
     "execution_count": 156,
     "metadata": {},
     "output_type": "execute_result"
    }
   ],
   "source": [
    "set2 = {1}\n",
    "type(set2)"
   ]
  },
  {
   "cell_type": "code",
   "execution_count": 157,
   "id": "935b331b",
   "metadata": {},
   "outputs": [
    {
     "data": {
      "text/plain": [
       "{1, 2, 6, 7, 8}"
      ]
     },
     "execution_count": 157,
     "metadata": {},
     "output_type": "execute_result"
    }
   ],
   "source": [
    "set1 = {1,2,3,5,6,7,8,9}\n",
    "set2 = {8,23,6,21,72,7,6,2,1}\n",
    "\n",
    "set1.intersection(set2)"
   ]
  },
  {
   "cell_type": "markdown",
   "id": "60d6d8f6",
   "metadata": {},
   "source": [
    "set1 +set2\n",
    "\n",
    "---------------------------------------------------------------------------\n",
    "TypeError                                 Traceback (most recent call last)\n",
    "<ipython-input-4-a630783d9820> in <module>\n",
    "----> 1 set1 +set2\n",
    "\n",
    "TypeError: unsupported operand type(s) for +: 'set' and 'set'\n"
   ]
  },
  {
   "cell_type": "markdown",
   "id": "bda8319c",
   "metadata": {},
   "source": [
    "set1*4\n",
    "\n",
    "---------------------------------------------------------------------------\n",
    "TypeError                                 Traceback (most recent call last)\n",
    "<ipython-input-5-075dcb68c151> in <module>\n",
    "----> 1 set1*4\n",
    "\n",
    "TypeError: unsupported operand type(s) for *: 'set' and 'int'\n"
   ]
  },
  {
   "cell_type": "markdown",
   "id": "d95ddc45",
   "metadata": {},
   "source": [
    "###  Dictionary\n"
   ]
  },
  {
   "cell_type": "code",
   "execution_count": 158,
   "id": "64629a59",
   "metadata": {},
   "outputs": [],
   "source": [
    "dict1 = {\n",
    "    'name':\"Rahul Hirondi\",\n",
    "    'class':\"DS\",\n",
    "    'rollno':65,\n",
    "     234:'234 is also a key',\n",
    "     True:'lets see if a works.PS it doesnt'\n",
    "}"
   ]
  },
  {
   "cell_type": "markdown",
   "id": "a81cb9c3",
   "metadata": {},
   "source": [
    "#### Looping a dictionary will return keys. "
   ]
  },
  {
   "cell_type": "code",
   "execution_count": 159,
   "id": "08264254",
   "metadata": {},
   "outputs": [
    {
     "name": "stdout",
     "output_type": "stream",
     "text": [
      "i =  name \tdict1 [name] = \t Rahul Hirondi\n",
      "i =  class \tdict1 [class] = \t DS\n",
      "i =  rollno \tdict1 [rollno] = \t 65\n",
      "i =  234 \tdict1 [234] = \t 234 is also a key\n",
      "i =  True \tdict1 [True] = \t lets see if a works.PS it doesnt\n"
     ]
    }
   ],
   "source": [
    "for i in dict1:\n",
    "    print(f'i = ',i,f'\\tdict1 [{i}] = \\t' ,dict1[i] )"
   ]
  },
  {
   "cell_type": "code",
   "execution_count": 160,
   "id": "1d6e0625",
   "metadata": {},
   "outputs": [
    {
     "data": {
      "text/plain": [
       "dict_keys(['name', 'class', 'rollno', 234, True])"
      ]
     },
     "execution_count": 160,
     "metadata": {},
     "output_type": "execute_result"
    }
   ],
   "source": [
    "dict1.keys()"
   ]
  },
  {
   "cell_type": "code",
   "execution_count": 161,
   "id": "6d06575a",
   "metadata": {},
   "outputs": [
    {
     "data": {
      "text/plain": [
       "dict_values(['Rahul Hirondi', 'DS', 65, '234 is also a key', 'lets see if a works.PS it doesnt'])"
      ]
     },
     "execution_count": 161,
     "metadata": {},
     "output_type": "execute_result"
    }
   ],
   "source": [
    "dict1.values()"
   ]
  },
  {
   "cell_type": "code",
   "execution_count": 162,
   "id": "c86ae24c",
   "metadata": {},
   "outputs": [
    {
     "data": {
      "text/plain": [
       "{'a': [1, 2, 3, 4, 56],\n",
       " 'b': [1, 2, 3, 4, 56],\n",
       " 'ab+': [1, 2, 3, 4, 5, 6],\n",
       " 'o': [1, 2, 3, 4, 5, 6, 7, 89, 643]}"
      ]
     },
     "execution_count": 162,
     "metadata": {},
     "output_type": "execute_result"
    }
   ],
   "source": [
    "dictionary = {}\n",
    "\n",
    "dictionary['a']=[1,2,3,4,56]\n",
    "dictionary['b']=[1,2,3,4,56]\n",
    "dictionary['ab+']=[1,2,3,4,5,6] #overrides previous a values\n",
    "dictionary['o']= [1,2,3,4,5,6,7,89,643]\n",
    "dictionary"
   ]
  },
  {
   "cell_type": "code",
   "execution_count": 163,
   "id": "f29e668a",
   "metadata": {},
   "outputs": [
    {
     "data": {
      "text/plain": [
       "dict_items([('a', [1, 2, 3, 4, 56]), ('b', [1, 2, 3, 4, 56]), ('ab+', [1, 2, 3, 4, 5, 6]), ('o', [1, 2, 3, 4, 5, 6, 7, 89, 643])])"
      ]
     },
     "execution_count": 163,
     "metadata": {},
     "output_type": "execute_result"
    }
   ],
   "source": [
    "dictionary.items()"
   ]
  },
  {
   "cell_type": "code",
   "execution_count": 164,
   "id": "c5392a8e",
   "metadata": {},
   "outputs": [
    {
     "data": {
      "text/plain": [
       "dict_keys(['a', 'b', 'ab+', 'o'])"
      ]
     },
     "execution_count": 164,
     "metadata": {},
     "output_type": "execute_result"
    }
   ],
   "source": [
    "dictionary.keys()"
   ]
  },
  {
   "cell_type": "code",
   "execution_count": 165,
   "id": "05073fd8",
   "metadata": {},
   "outputs": [
    {
     "data": {
      "text/plain": [
       "dict_values([[1, 2, 3, 4, 56], [1, 2, 3, 4, 56], [1, 2, 3, 4, 5, 6], [1, 2, 3, 4, 5, 6, 7, 89, 643]])"
      ]
     },
     "execution_count": 165,
     "metadata": {},
     "output_type": "execute_result"
    }
   ],
   "source": [
    "dictionary.values()"
   ]
  },
  {
   "cell_type": "markdown",
   "id": "0cc33cf4",
   "metadata": {},
   "source": [
    "# Function"
   ]
  },
  {
   "cell_type": "code",
   "execution_count": 166,
   "id": "cef01c0d",
   "metadata": {},
   "outputs": [
    {
     "data": {
      "text/plain": [
       "'awesome'"
      ]
     },
     "execution_count": 166,
     "metadata": {},
     "output_type": "execute_result"
    }
   ],
   "source": [
    "def func_name(arguments):#define a function\n",
    "    #body\n",
    "    #body\n",
    "    #body\n",
    "    return \"awesome\"\n",
    "func_name(3)# Function call"
   ]
  },
  {
   "cell_type": "code",
   "execution_count": 167,
   "id": "b27ca2ea",
   "metadata": {},
   "outputs": [],
   "source": [
    "def do_nothing():\n",
    "    pass\n",
    "do_nothing()"
   ]
  },
  {
   "cell_type": "code",
   "execution_count": 168,
   "id": "230166c1",
   "metadata": {},
   "outputs": [
    {
     "data": {
      "text/plain": [
       "(3, 4, 5, 6, 7)"
      ]
     },
     "execution_count": 168,
     "metadata": {},
     "output_type": "execute_result"
    }
   ],
   "source": [
    "def multiple_arguements(*args):\n",
    "    return args\n",
    "multiple_arguements(3,4,5,6,7) # returns all the values in form of a tuple"
   ]
  },
  {
   "cell_type": "code",
   "execution_count": 169,
   "id": "2112cf0d",
   "metadata": {},
   "outputs": [
    {
     "name": "stdout",
     "output_type": "stream",
     "text": [
      "14\n",
      "9\n",
      "105\n"
     ]
    }
   ],
   "source": [
    "def func1(x= 5,y=10):#function with default values, if args not provided will return default values else the new values \n",
    "    return x+y\n",
    "\n",
    "print(func1(4))\n",
    "print(func1(4,5))\n",
    "print(func1(100,5))"
   ]
  },
  {
   "cell_type": "code",
   "execution_count": 170,
   "id": "504721d2",
   "metadata": {},
   "outputs": [
    {
     "name": "stdout",
     "output_type": "stream",
     "text": [
      "(15, 50, 2.0, 5)\n",
      "a = 28 , b= 160,c= 2.5,d = 12\n",
      "a = 28 , b= 160,c= 2.5, _ = 12\n"
     ]
    }
   ],
   "source": [
    "def multiple_returns(a,b):\n",
    "    return a+b, a*b, a/b ,a-b\n",
    "\n",
    "print(multiple_returns(10,5))\n",
    "\n",
    "a,b,c,d = multiple_returns(20,8)\n",
    "print(f'a = {a} , b= {b},c= {c},d = {d}',sep = '\\n')\n",
    "\n",
    "a,b,c,_ = multiple_returns(20,8)    #_ acts as an placeholder\n",
    "print(f'a = {a} , b= {b},c= {c}, _ = {_}',sep = '\\n') "
   ]
  },
  {
   "cell_type": "code",
   "execution_count": 171,
   "id": "2e8ab2fa",
   "metadata": {},
   "outputs": [
    {
     "data": {
      "text/plain": [
       "([1, 2, 3, 4, 5, 6], [1, 2, 3, 4, 5, 6])"
      ]
     },
     "execution_count": 171,
     "metadata": {},
     "output_type": "execute_result"
    }
   ],
   "source": [
    "def list_(*args):\n",
    "    return args*2\n",
    "list_([1,2,3,4,5,6])"
   ]
  },
  {
   "cell_type": "code",
   "execution_count": 172,
   "id": "91ceb0c4",
   "metadata": {},
   "outputs": [
    {
     "data": {
      "text/plain": [
       "[1, 2, 4, 5, 6, 1234, 645, 243, 4765]"
      ]
     },
     "execution_count": 172,
     "metadata": {},
     "output_type": "execute_result"
    }
   ],
   "source": [
    "def list_c(a,b):\n",
    "    return a + b \n",
    "\n",
    "list_c([1,2,4,5,6],[1234,645,243,4765])"
   ]
  },
  {
   "cell_type": "code",
   "execution_count": 173,
   "id": "905e184a",
   "metadata": {},
   "outputs": [
    {
     "data": {
      "text/plain": [
       "[1, 2, 4, 5, 6, 1, 2, 4, 5, 6]"
      ]
     },
     "execution_count": 173,
     "metadata": {},
     "output_type": "execute_result"
    }
   ],
   "source": [
    "[1,2,4,5,6]*2"
   ]
  },
  {
   "cell_type": "code",
   "execution_count": 174,
   "id": "3ec4b0e5",
   "metadata": {},
   "outputs": [],
   "source": [
    "#!!!!ERRROR  [1,2,4,5,6]+5"
   ]
  },
  {
   "cell_type": "code",
   "execution_count": 175,
   "id": "97afb214",
   "metadata": {},
   "outputs": [
    {
     "data": {
      "text/plain": [
       "[1, 2, 4, 5, 6, 1234, 645, 243, 4765]"
      ]
     },
     "execution_count": 175,
     "metadata": {},
     "output_type": "execute_result"
    }
   ],
   "source": [
    "def list_concat(*args):\n",
    "    l = []\n",
    "    for i in args:\n",
    "        l = l+i\n",
    "    return l\n",
    "list_concat([1,2,4,5,6],[1234,645,243,4765])"
   ]
  },
  {
   "cell_type": "code",
   "execution_count": 176,
   "id": "8fcfe663",
   "metadata": {},
   "outputs": [],
   "source": [
    "l = [1234567889,7,3,4]"
   ]
  },
  {
   "cell_type": "code",
   "execution_count": 177,
   "id": "f0f93399",
   "metadata": {},
   "outputs": [],
   "source": [
    "l.extend(l)"
   ]
  },
  {
   "cell_type": "code",
   "execution_count": 178,
   "id": "f8ea3929",
   "metadata": {},
   "outputs": [
    {
     "name": "stdout",
     "output_type": "stream",
     "text": [
      "<class 'int'>\n",
      "<class 'str'>\n",
      "<class 'float'>\n",
      "<class 'bool'>\n"
     ]
    }
   ],
   "source": [
    "dt = [5,'hey',7.9 , True]\n",
    "for i in dt:\n",
    "    print(type(i))"
   ]
  },
  {
   "cell_type": "code",
   "execution_count": 179,
   "id": "321925f1",
   "metadata": {},
   "outputs": [],
   "source": [
    "def dt_sep(*args):\n",
    "    integer = []\n",
    "    string = []\n",
    "    floatt = []\n",
    "    others = []\n",
    "    for i in args :\n",
    "        if type(i)==int:\n",
    "            integer.append(i)\n",
    "            \n",
    "        elif type(i) == str:\n",
    "            string.append(i)\n",
    "            \n",
    "        elif type(i) == float:\n",
    "            floatt.append(i)\n",
    "        \n",
    "        else :\n",
    "            others.append(i)\n",
    "            \n",
    "    return integer,string,floatt,others"
   ]
  },
  {
   "cell_type": "code",
   "execution_count": 180,
   "id": "f00e2df6",
   "metadata": {},
   "outputs": [
    {
     "data": {
      "text/plain": [
       "([1, 2, 4, 5, 6, 7, 8, 23], ['a', 'f', 'gh'], [2.3], [[2.1, 4, 5, 6, 7]])"
      ]
     },
     "execution_count": 180,
     "metadata": {},
     "output_type": "execute_result"
    }
   ],
   "source": [
    "dt_sep(1,2,4,5,'a',6,'f','gh',7,8, [2.1,4,5,6,7] , 23,2.3)"
   ]
  },
  {
   "cell_type": "code",
   "execution_count": 181,
   "id": "d14f6299",
   "metadata": {},
   "outputs": [
    {
     "data": {
      "text/plain": [
       "{'a': 5, 'b': 7}"
      ]
     },
     "execution_count": 181,
     "metadata": {},
     "output_type": "execute_result"
    }
   ],
   "source": [
    "def kw_args(**kwargs):\n",
    "    return kwargs\n",
    "\n",
    "kw_args(a=5,b=7)"
   ]
  },
  {
   "cell_type": "code",
   "execution_count": 182,
   "id": "917f8908",
   "metadata": {},
   "outputs": [
    {
     "data": {
      "text/plain": [
       "{int: [1, 2, 4, 5],\n",
       " float: [5.6],\n",
       " complex: [(7+6j)],\n",
       " str: ['araassdfgag'],\n",
       " list: [[1, 24, 6, 78]],\n",
       " set: [{1, 3, 5, 7, 9}]}"
      ]
     },
     "execution_count": 182,
     "metadata": {},
     "output_type": "execute_result"
    }
   ],
   "source": [
    "def dt_sep_2nd (*args):# 1,2,4,5,5.6,7+6j ,'araassdfgag' ,[1,24,6,78], {1,3,5,7,9}\n",
    "    dt = {}\n",
    "    for i in args:\n",
    "        if type(i) in dt:\n",
    "            dt[type(i)].append(i)\n",
    "        else:\n",
    "            dt[type(i)] = [i]\n",
    "    return dt\n",
    "\n",
    "dt_sep_2nd(1,2,4,5,5.6,7+6j ,'araassdfgag' ,[1,24,6,78], {1,3,5,7,9})"
   ]
  },
  {
   "cell_type": "code",
   "execution_count": 183,
   "id": "e30da4b8",
   "metadata": {},
   "outputs": [
    {
     "name": "stdout",
     "output_type": "stream",
     "text": [
      "4\n"
     ]
    }
   ],
   "source": [
    "a= 'asdgf asdf assd asdfffff asdfgh asdf'\n",
    "c= 0\n",
    "for i in a.split():\n",
    "    if i.startswith('asdf'):\n",
    "        c+=1\n",
    "print(c)"
   ]
  },
  {
   "cell_type": "markdown",
   "id": "b59c24bb",
   "metadata": {},
   "source": [
    "##  Lambda Function"
   ]
  },
  {
   "cell_type": "code",
   "execution_count": 184,
   "id": "383f936c",
   "metadata": {},
   "outputs": [
    {
     "data": {
      "text/plain": [
       "6"
      ]
     },
     "execution_count": 184,
     "metadata": {},
     "output_type": "execute_result"
    }
   ],
   "source": [
    "l = lambda a,b: a+b\n",
    "l(2,4)"
   ]
  },
  {
   "cell_type": "code",
   "execution_count": 185,
   "id": "662dded2",
   "metadata": {},
   "outputs": [],
   "source": [
    "# iter() converts iterable object to iterator!!!!!!"
   ]
  },
  {
   "cell_type": "code",
   "execution_count": 186,
   "id": "2322600b",
   "metadata": {},
   "outputs": [],
   "source": [
    "#String is an iterable object but not an iterator \n",
    "a = 'rahul'\n",
    "#To convert this object to an iterator we use iter()\n",
    "a= iter(a)"
   ]
  },
  {
   "cell_type": "markdown",
   "id": "af444046",
   "metadata": {},
   "source": [
    "next(a)\n",
    "\n",
    "---------------------------------------------------------------------------\n",
    "TypeError                                 Traceback (most recent call last)\n",
    "<ipython-input-2-15841f3f11d4> in <module>\n",
    "----> 1 next(a)\n",
    "\n",
    "TypeError: 'str' object is not an iterator"
   ]
  },
  {
   "cell_type": "code",
   "execution_count": 187,
   "id": "a3236e3c",
   "metadata": {},
   "outputs": [
    {
     "data": {
      "text/plain": [
       "'r'"
      ]
     },
     "execution_count": 187,
     "metadata": {},
     "output_type": "execute_result"
    }
   ],
   "source": [
    "next(a)"
   ]
  },
  {
   "cell_type": "code",
   "execution_count": 188,
   "id": "bee330c6",
   "metadata": {},
   "outputs": [
    {
     "data": {
      "text/plain": [
       "[0, 1, 1, 2, 3, 5, 8, 13, 21, 34]"
      ]
     },
     "execution_count": 188,
     "metadata": {},
     "output_type": "execute_result"
    }
   ],
   "source": [
    "def genfib(n):\n",
    "    a=0\n",
    "    b=1\n",
    "    op = []\n",
    "    for i in range(n):\n",
    "        op.append(a)\n",
    "        a,b = b,a+b\n",
    "    return op\n",
    "genfib(10)"
   ]
  },
  {
   "cell_type": "code",
   "execution_count": 189,
   "id": "ec057e03",
   "metadata": {},
   "outputs": [
    {
     "data": {
      "text/plain": [
       "<generator object genfib at 0x000001E544C2DF90>"
      ]
     },
     "execution_count": 189,
     "metadata": {},
     "output_type": "execute_result"
    }
   ],
   "source": [
    "def genfib(n):\n",
    "    a=0\n",
    "    b=1\n",
    "    op = []\n",
    "    for i in range(n):\n",
    "        yield a\n",
    "        a,b = b,a+b\n",
    "    return op\n",
    "genfib(10)"
   ]
  },
  {
   "cell_type": "code",
   "execution_count": 190,
   "id": "fed821c0",
   "metadata": {},
   "outputs": [
    {
     "name": "stdout",
     "output_type": "stream",
     "text": [
      "0\n",
      "1\n",
      "1\n",
      "2\n",
      "3\n",
      "5\n",
      "8\n",
      "13\n",
      "21\n",
      "34\n"
     ]
    }
   ],
   "source": [
    "for i in genfib(10):\n",
    "    print(i)"
   ]
  },
  {
   "cell_type": "markdown",
   "id": "0336a361",
   "metadata": {},
   "source": [
    "##  File I/O "
   ]
  },
  {
   "cell_type": "markdown",
   "id": "8ead63c0",
   "metadata": {},
   "source": [
    "            f = open('demo.txt','w') -> Opens if presents/creates if absent, the file name mentioned along with mode \n",
    "            \n",
    "            f.write(r\"Hey its the first line of code in this blank file.\") -> Write in the file\n",
    "            \n",
    "            f.read() -> read contents only in 'r' or 'r+' mode && not in 'w' mode in open() \n",
    "            \n",
    "            f.seek(6) -> moves the pointer at the nth mentioned \"letter \"  same as string\n",
    "            \n",
    "            f.readline(1) -> read nth line\n",
    "            \n",
    "            "
   ]
  },
  {
   "cell_type": "code",
   "execution_count": 191,
   "id": "5b07b31a",
   "metadata": {},
   "outputs": [],
   "source": [
    "import os"
   ]
  },
  {
   "cell_type": "code",
   "execution_count": 192,
   "id": "3af8fdaf",
   "metadata": {},
   "outputs": [
    {
     "data": {
      "text/plain": [
       "'C:\\\\Users\\\\rahul\\\\Desktop\\\\Python\\\\Python Basics'"
      ]
     },
     "execution_count": 192,
     "metadata": {},
     "output_type": "execute_result"
    }
   ],
   "source": [
    "pwd() #pwd also works"
   ]
  },
  {
   "cell_type": "code",
   "execution_count": 193,
   "id": "18b00bd7",
   "metadata": {},
   "outputs": [
    {
     "data": {
      "text/plain": [
       "'C:\\\\Users\\\\rahul\\\\Desktop\\\\Python\\\\Python Basics'"
      ]
     },
     "execution_count": 193,
     "metadata": {},
     "output_type": "execute_result"
    }
   ],
   "source": [
    "os.getcwd()"
   ]
  },
  {
   "cell_type": "code",
   "execution_count": 194,
   "id": "0426cca0",
   "metadata": {},
   "outputs": [
    {
     "data": {
      "text/plain": [
       "['.ipynb_checkpoints',\n",
       " 'Abstraction & Inheritance.ipynb',\n",
       " 'Assignment.ipynb',\n",
       " 'Backup Pyhton Practice.ipynb',\n",
       " 'Django',\n",
       " 'Exception Handling.ipynb',\n",
       " 'Flask',\n",
       " 'Functions & Classes.ipynb',\n",
       " 'Lists & Tuples.ipynb',\n",
       " 'Logging',\n",
       " 'Modules',\n",
       " \"OOP's Concept.ipynb\",\n",
       " 'Python Practice.ipynb',\n",
       " 'Sets & Dictionaries.ipynb',\n",
       " 'Strings.ipynb']"
      ]
     },
     "execution_count": 194,
     "metadata": {},
     "output_type": "execute_result"
    }
   ],
   "source": [
    "os.listdir()"
   ]
  },
  {
   "cell_type": "code",
   "execution_count": 195,
   "id": "460bac34",
   "metadata": {},
   "outputs": [
    {
     "data": {
      "text/plain": [
       "'C:\\\\Users\\\\rahul\\\\Desktop\\\\Python\\\\Python Basics'"
      ]
     },
     "execution_count": 195,
     "metadata": {},
     "output_type": "execute_result"
    }
   ],
   "source": [
    "pwd"
   ]
  },
  {
   "cell_type": "code",
   "execution_count": 196,
   "id": "71bb6f71",
   "metadata": {},
   "outputs": [],
   "source": [
    "os.chdir('C:\\\\Users\\\\rahul\\\\Desktop\\\\')  # \\\\ also works"
   ]
  },
  {
   "cell_type": "code",
   "execution_count": 197,
   "id": "04946041",
   "metadata": {},
   "outputs": [],
   "source": [
    "os.chdir('C:/Users/rahul/Desktop/Python/') # / also works"
   ]
  },
  {
   "cell_type": "code",
   "execution_count": 198,
   "id": "3a0747c0",
   "metadata": {},
   "outputs": [
    {
     "data": {
      "text/plain": [
       "'C:\\\\Users\\\\rahul\\\\Desktop\\\\Python'"
      ]
     },
     "execution_count": 198,
     "metadata": {},
     "output_type": "execute_result"
    }
   ],
   "source": [
    "pwd"
   ]
  },
  {
   "cell_type": "code",
   "execution_count": 199,
   "id": "6fb65d2c",
   "metadata": {},
   "outputs": [],
   "source": [
    "if os.path.isdir('Demo'):\n",
    "    os.removedirs('Demo')\n",
    "elif os.path.isdir('Demo Folder'):\n",
    "    os.removedirs('Demo Folder')"
   ]
  },
  {
   "cell_type": "code",
   "execution_count": 200,
   "id": "faa417a7",
   "metadata": {},
   "outputs": [],
   "source": [
    "os.mkdir(\"Demo Folder\")"
   ]
  },
  {
   "cell_type": "code",
   "execution_count": 201,
   "id": "471df026",
   "metadata": {},
   "outputs": [
    {
     "data": {
      "text/plain": [
       "['Concept Coding Questions',\n",
       " 'Demo Folder',\n",
       " 'iNeuron Classes Notebooks',\n",
       " 'Notes',\n",
       " 'Python Basics',\n",
       " '__pycache__']"
      ]
     },
     "execution_count": 201,
     "metadata": {},
     "output_type": "execute_result"
    }
   ],
   "source": [
    "os.listdir()"
   ]
  },
  {
   "cell_type": "code",
   "execution_count": 202,
   "id": "8e29acb1",
   "metadata": {},
   "outputs": [
    {
     "data": {
      "text/plain": [
       "False"
      ]
     },
     "execution_count": 202,
     "metadata": {},
     "output_type": "execute_result"
    }
   ],
   "source": [
    "'demo.txt' in os.listdir()"
   ]
  },
  {
   "cell_type": "code",
   "execution_count": 203,
   "id": "cbb2c87f",
   "metadata": {},
   "outputs": [
    {
     "data": {
      "text/plain": [
       "True"
      ]
     },
     "execution_count": 203,
     "metadata": {},
     "output_type": "execute_result"
    }
   ],
   "source": [
    "os.path.isdir('Demo Folder')"
   ]
  },
  {
   "cell_type": "code",
   "execution_count": 204,
   "id": "e32a4924",
   "metadata": {},
   "outputs": [],
   "source": [
    "os.rename('Demo Folder',\"Demo\")"
   ]
  },
  {
   "cell_type": "code",
   "execution_count": 205,
   "id": "380cc0e0",
   "metadata": {},
   "outputs": [
    {
     "data": {
      "text/plain": [
       "['Concept Coding Questions',\n",
       " 'Demo',\n",
       " 'iNeuron Classes Notebooks',\n",
       " 'Notes',\n",
       " 'Python Basics',\n",
       " '__pycache__']"
      ]
     },
     "execution_count": 205,
     "metadata": {},
     "output_type": "execute_result"
    }
   ],
   "source": [
    "os.listdir()"
   ]
  },
  {
   "cell_type": "code",
   "execution_count": 206,
   "id": "407b49de",
   "metadata": {},
   "outputs": [
    {
     "data": {
      "text/plain": [
       "<module 'ntpath' from 'C:\\\\Users\\\\rahul\\\\Anaconda3\\\\lib\\\\ntpath.py'>"
      ]
     },
     "execution_count": 206,
     "metadata": {},
     "output_type": "execute_result"
    }
   ],
   "source": [
    "os.path"
   ]
  },
  {
   "cell_type": "markdown",
   "id": "56928b31",
   "metadata": {},
   "source": [
    "# 'f' works everywhere, inside any function!!!! for ex: print( f ' Hey { i } ') "
   ]
  },
  {
   "cell_type": "code",
   "execution_count": 207,
   "id": "6d84ec7b",
   "metadata": {},
   "outputs": [],
   "source": [
    "#EXERCISE-\n",
    "\n",
    "#Create a Directory :\n",
    "os.mkdir(\"New Directory\")\n",
    "os.chdir(\"New Directory\")\n",
    "\n",
    "#Create 10 txt files & write some data in all 10 files at a time\n",
    "for i in range(10):\n",
    "    f = open(f'file_{i}.txt','w')\n",
    "    f.write(f'This is content for file no {i}')\n",
    "    f.close()"
   ]
  },
  {
   "cell_type": "code",
   "execution_count": 208,
   "id": "e1b19e49",
   "metadata": {},
   "outputs": [
    {
     "data": {
      "text/plain": [
       "['file_0.txt',\n",
       " 'file_1.txt',\n",
       " 'file_2.txt',\n",
       " 'file_3.txt',\n",
       " 'file_4.txt',\n",
       " 'file_5.txt',\n",
       " 'file_6.txt',\n",
       " 'file_7.txt',\n",
       " 'file_8.txt',\n",
       " 'file_9.txt']"
      ]
     },
     "execution_count": 208,
     "metadata": {},
     "output_type": "execute_result"
    }
   ],
   "source": [
    "os.listdir()"
   ]
  },
  {
   "cell_type": "code",
   "execution_count": 209,
   "id": "c5121317",
   "metadata": {},
   "outputs": [],
   "source": [
    "#Read all the data from this directory\n",
    "for i in os.listdir():\n",
    "    j = open(i,'r+')\n",
    "    j.read()\n",
    "    j.close()"
   ]
  },
  {
   "cell_type": "code",
   "execution_count": 210,
   "id": "edfdca30",
   "metadata": {},
   "outputs": [],
   "source": [
    "f = open('file_0.txt','r+')"
   ]
  },
  {
   "cell_type": "code",
   "execution_count": 211,
   "id": "203208a5",
   "metadata": {},
   "outputs": [
    {
     "data": {
      "text/plain": [
       "'This is content for file no 0'"
      ]
     },
     "execution_count": 211,
     "metadata": {},
     "output_type": "execute_result"
    }
   ],
   "source": [
    "f.read()"
   ]
  },
  {
   "cell_type": "code",
   "execution_count": 212,
   "id": "24bcde6a",
   "metadata": {},
   "outputs": [
    {
     "data": {
      "text/plain": [
       "10"
      ]
     },
     "execution_count": 212,
     "metadata": {},
     "output_type": "execute_result"
    }
   ],
   "source": [
    "f.seek(10)"
   ]
  },
  {
   "cell_type": "code",
   "execution_count": 213,
   "id": "f3110c7b",
   "metadata": {},
   "outputs": [
    {
     "data": {
      "text/plain": [
       "37"
      ]
     },
     "execution_count": 213,
     "metadata": {},
     "output_type": "execute_result"
    }
   ],
   "source": [
    "f.write(\"I am adding this line in the 10th pos\")"
   ]
  },
  {
   "cell_type": "code",
   "execution_count": 214,
   "id": "45f0aa60",
   "metadata": {},
   "outputs": [],
   "source": [
    "f.close()"
   ]
  },
  {
   "cell_type": "code",
   "execution_count": 215,
   "id": "1991122d",
   "metadata": {},
   "outputs": [
    {
     "data": {
      "text/plain": [
       "['This is coI am adding this line in the 10th pos',\n",
       " 'This is content for file no 1',\n",
       " 'This is content for file no 2',\n",
       " 'This is content for file no 3',\n",
       " 'This is content for file no 4',\n",
       " 'This is content for file no 5',\n",
       " 'This is content for file no 6',\n",
       " 'This is content for file no 7',\n",
       " 'This is content for file no 8',\n",
       " 'This is content for file no 9']"
      ]
     },
     "execution_count": 215,
     "metadata": {},
     "output_type": "execute_result"
    }
   ],
   "source": [
    "#Read all the data from this directory, & hold it in a list\n",
    "\n",
    "file_contents = []\n",
    "\n",
    "for i in os.listdir():\n",
    "    j = open(i,'r+')\n",
    "    file_contents.append(j.read())\n",
    "    j.close()\n",
    "\n",
    "file_contents"
   ]
  },
  {
   "cell_type": "code",
   "execution_count": 216,
   "id": "cef54c30",
   "metadata": {},
   "outputs": [
    {
     "data": {
      "text/plain": [
       "['This is coI am adding this line in the 10th pos',\n",
       " 'This is content for file no 1',\n",
       " 'This is content for file no 2',\n",
       " 'This is content for file no 3',\n",
       " 'This is content for file no 4',\n",
       " 'This is content for file no 5',\n",
       " 'This is content for file no 6',\n",
       " 'This is content for file no 7',\n",
       " 'This is content for file no 8',\n",
       " 'This is content for file no 9']"
      ]
     },
     "execution_count": 216,
     "metadata": {},
     "output_type": "execute_result"
    }
   ],
   "source": [
    "file_contents"
   ]
  },
  {
   "cell_type": "code",
   "execution_count": 217,
   "id": "a92ad43f",
   "metadata": {},
   "outputs": [
    {
     "data": {
      "text/plain": [
       "['This is coI am adding this line in the 10th pos',\n",
       " 'This is content for file no 1',\n",
       " 'This is content for file no 2',\n",
       " 'This is content for file no 3',\n",
       " 'This is content for file no 4',\n",
       " 'This is content for file no 5',\n",
       " 'This is content for file no 6',\n",
       " 'This is content for file no 7',\n",
       " 'This is content for file no 8',\n",
       " 'This is content for file no 9']"
      ]
     },
     "execution_count": 217,
     "metadata": {},
     "output_type": "execute_result"
    }
   ],
   "source": [
    "file_contents"
   ]
  },
  {
   "cell_type": "code",
   "execution_count": 218,
   "id": "8dfc54f7",
   "metadata": {},
   "outputs": [],
   "source": [
    "file_contents = str(file_contents)\n",
    "file_contents = file_contents[1:-1]"
   ]
  },
  {
   "cell_type": "code",
   "execution_count": 219,
   "id": "5e574bd5",
   "metadata": {},
   "outputs": [],
   "source": [
    "k= open('COntents From 10.txt','w')\n",
    "k.write(file_contents)\n",
    "k.close()"
   ]
  },
  {
   "cell_type": "code",
   "execution_count": 220,
   "id": "f2d63167",
   "metadata": {},
   "outputs": [],
   "source": [
    "k= open('COntents From 10.txt','r+')"
   ]
  },
  {
   "cell_type": "code",
   "execution_count": 221,
   "id": "7f75c5cd",
   "metadata": {},
   "outputs": [
    {
     "data": {
      "text/plain": [
       "\"'This is coI am adding this line in the 10th pos', 'This is content for file no 1', 'This is content for file no 2', 'This is content for file no 3', 'This is content for file no 4', 'This is content for file no 5', 'This is content for file no 6', 'This is content for file no 7', 'This is content for file no 8', 'This is content for file no 9'\""
      ]
     },
     "execution_count": 221,
     "metadata": {},
     "output_type": "execute_result"
    }
   ],
   "source": [
    "k.seek(0)\n",
    "k.read()"
   ]
  },
  {
   "cell_type": "code",
   "execution_count": 222,
   "id": "100e41a8",
   "metadata": {},
   "outputs": [],
   "source": [
    "k.close()"
   ]
  },
  {
   "cell_type": "markdown",
   "id": "af0ca255",
   "metadata": {},
   "source": [
    "## Logging \n"
   ]
  },
  {
   "cell_type": "code",
   "execution_count": 223,
   "id": "378e59a6",
   "metadata": {},
   "outputs": [],
   "source": [
    "import logging as lg\n",
    "import os"
   ]
  },
  {
   "cell_type": "code",
   "execution_count": 224,
   "id": "74663331",
   "metadata": {},
   "outputs": [],
   "source": [
    "os.mkdir('Logging')"
   ]
  },
  {
   "cell_type": "code",
   "execution_count": 225,
   "id": "3d5901cf",
   "metadata": {},
   "outputs": [
    {
     "data": {
      "text/plain": [
       "['COntents From 10.txt',\n",
       " 'file_0.txt',\n",
       " 'file_1.txt',\n",
       " 'file_2.txt',\n",
       " 'file_3.txt',\n",
       " 'file_4.txt',\n",
       " 'file_5.txt',\n",
       " 'file_6.txt',\n",
       " 'file_7.txt',\n",
       " 'file_8.txt',\n",
       " 'file_9.txt',\n",
       " 'Logging']"
      ]
     },
     "execution_count": 225,
     "metadata": {},
     "output_type": "execute_result"
    }
   ],
   "source": [
    "os.listdir()"
   ]
  },
  {
   "cell_type": "code",
   "execution_count": 226,
   "id": "3538e63f",
   "metadata": {},
   "outputs": [],
   "source": [
    "os.chdir('Logging')"
   ]
  },
  {
   "cell_type": "code",
   "execution_count": 227,
   "id": "c329d791",
   "metadata": {},
   "outputs": [],
   "source": [
    "lg.basicConfig(filename = 'First_log.txt',level = lg.INFO)"
   ]
  },
  {
   "cell_type": "code",
   "execution_count": 228,
   "id": "41455f0b",
   "metadata": {},
   "outputs": [],
   "source": [
    "lg.info(\"This is my info part of logging\")"
   ]
  },
  {
   "cell_type": "code",
   "execution_count": 229,
   "id": "b2cb7948",
   "metadata": {},
   "outputs": [],
   "source": [
    "lg.warning(\"HEY!!! Its a warning\")"
   ]
  },
  {
   "cell_type": "code",
   "execution_count": 230,
   "id": "8e1de2e9",
   "metadata": {},
   "outputs": [],
   "source": [
    "lg.critical(\"HEY!!!DDont you understand its CRITICAL!!\")"
   ]
  },
  {
   "cell_type": "code",
   "execution_count": null,
   "id": "05400f86",
   "metadata": {},
   "outputs": [],
   "source": []
  },
  {
   "cell_type": "code",
   "execution_count": null,
   "id": "e0c0099e",
   "metadata": {},
   "outputs": [],
   "source": []
  }
 ],
 "metadata": {
  "kernelspec": {
   "display_name": "Python 3",
   "language": "python",
   "name": "python3"
  },
  "language_info": {
   "codemirror_mode": {
    "name": "ipython",
    "version": 3
   },
   "file_extension": ".py",
   "mimetype": "text/x-python",
   "name": "python",
   "nbconvert_exporter": "python",
   "pygments_lexer": "ipython3",
   "version": "3.8.8"
  }
 },
 "nbformat": 4,
 "nbformat_minor": 5
}
