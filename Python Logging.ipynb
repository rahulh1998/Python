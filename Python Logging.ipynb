{
 "cells": [
  {
   "cell_type": "code",
   "execution_count": 1,
   "id": "21fc57ad",
   "metadata": {},
   "outputs": [],
   "source": [
    "import logging as lg\n",
    "import os"
   ]
  },
  {
   "cell_type": "code",
   "execution_count": 2,
   "id": "b9514ad5",
   "metadata": {},
   "outputs": [
    {
     "data": {
      "text/plain": [
       "'C:\\\\Users\\\\rahul\\\\Desktop\\\\Python'"
      ]
     },
     "execution_count": 2,
     "metadata": {},
     "output_type": "execute_result"
    }
   ],
   "source": [
    "pwd"
   ]
  },
  {
   "cell_type": "markdown",
   "id": "d4d2f7c2",
   "metadata": {},
   "source": [
    "###  basicConfig () can create only one log file at one go as of now!!!"
   ]
  },
  {
   "cell_type": "code",
   "execution_count": 3,
   "id": "6e430e24",
   "metadata": {},
   "outputs": [],
   "source": [
    "# os.chdir('Logging')"
   ]
  },
  {
   "cell_type": "code",
   "execution_count": 4,
   "id": "1ce58d4c",
   "metadata": {},
   "outputs": [],
   "source": [
    "#lg.basicConfig(filename = 'C:\\\\Users\\\\rahul\\\\Desktop\\\\Python\\\\Logging' + \"\\\\\" +'Log1.txt',level= lg.INFO ,format = '%(asctime)s %(message)s ')"
   ]
  },
  {
   "cell_type": "code",
   "execution_count": 5,
   "id": "96b0dd63",
   "metadata": {},
   "outputs": [],
   "source": [
    "#lg.info(\"INFO !1\")"
   ]
  },
  {
   "cell_type": "code",
   "execution_count": 6,
   "id": "4f9f7eda",
   "metadata": {},
   "outputs": [],
   "source": [
    "#lg.critical(\"ITS CRITICAL LOG !1\")"
   ]
  },
  {
   "cell_type": "code",
   "execution_count": 7,
   "id": "39626b61",
   "metadata": {},
   "outputs": [],
   "source": [
    "#lg.warning(\"Its a warning!!! Cmmon\")"
   ]
  },
  {
   "cell_type": "code",
   "execution_count": 8,
   "id": "50d3f438",
   "metadata": {},
   "outputs": [],
   "source": [
    "#lg.shutdown()"
   ]
  },
  {
   "cell_type": "code",
   "execution_count": 9,
   "id": "946b4283",
   "metadata": {},
   "outputs": [],
   "source": [
    "#lg.basicConfig(filename = 'C:\\\\Users\\\\rahul\\\\Desktop\\\\Python\\\\Logging\\\\' + 'Func_log.txt',level = lg.INFO ,format = '%(asctime)s %(message)s')"
   ]
  },
  {
   "cell_type": "code",
   "execution_count": 10,
   "id": "e267176c",
   "metadata": {},
   "outputs": [],
   "source": [
    "\n",
    "def sum_inputs(*args):\n",
    "    sum = 0\n",
    "    lg.info(f'Input for the function are: {str(args)}')\n",
    "    for i in args:\n",
    "        lg.info(str(i))\n",
    "        sum+=i\n",
    "    lg.info(\"This function sums all the input by the user\")\n",
    "    return sum"
   ]
  },
  {
   "cell_type": "code",
   "execution_count": 11,
   "id": "590f692c",
   "metadata": {},
   "outputs": [
    {
     "data": {
      "text/plain": [
       "15"
      ]
     },
     "execution_count": 11,
     "metadata": {},
     "output_type": "execute_result"
    }
   ],
   "source": [
    "sum_inputs(1,2,3,4,5)"
   ]
  },
  {
   "cell_type": "code",
   "execution_count": 12,
   "id": "63b6401f",
   "metadata": {},
   "outputs": [],
   "source": [
    "os.chdir('Logging')"
   ]
  },
  {
   "cell_type": "code",
   "execution_count": 13,
   "id": "e04db44f",
   "metadata": {},
   "outputs": [
    {
     "data": {
      "text/plain": [
       "'C:\\\\Users\\\\rahul\\\\Desktop\\\\Python\\\\Logging'"
      ]
     },
     "execution_count": 13,
     "metadata": {},
     "output_type": "execute_result"
    }
   ],
   "source": [
    "pwd"
   ]
  },
  {
   "cell_type": "code",
   "execution_count": 14,
   "id": "6039d1c4",
   "metadata": {},
   "outputs": [
    {
     "data": {
      "text/plain": [
       "['Func_log.txt', 'Log1.txt', 'Log_3.txt']"
      ]
     },
     "execution_count": 14,
     "metadata": {},
     "output_type": "execute_result"
    }
   ],
   "source": [
    "os.listdir()"
   ]
  },
  {
   "cell_type": "code",
   "execution_count": 15,
   "id": "521973a7",
   "metadata": {},
   "outputs": [],
   "source": [
    "f = open('Func_log.txt','r+')"
   ]
  },
  {
   "cell_type": "code",
   "execution_count": 16,
   "id": "b3b3df05",
   "metadata": {},
   "outputs": [
    {
     "data": {
      "text/plain": [
       "0"
      ]
     },
     "execution_count": 16,
     "metadata": {},
     "output_type": "execute_result"
    }
   ],
   "source": [
    "# run this cell first before using any read or readlines \n",
    "f.seek(0)"
   ]
  },
  {
   "cell_type": "code",
   "execution_count": 17,
   "id": "46f79e84",
   "metadata": {},
   "outputs": [],
   "source": [
    "# It will return only first line if no args passed .\n",
    "# It act as a range function like if readline(5) returns first5 chars\n",
    "# f.readline()"
   ]
  },
  {
   "cell_type": "code",
   "execution_count": 18,
   "id": "1d596081",
   "metadata": {},
   "outputs": [],
   "source": [
    "#f.readlines()# It returns all the lines, to view file contents remove # from the beginning"
   ]
  },
  {
   "cell_type": "code",
   "execution_count": 19,
   "id": "2408b2f1",
   "metadata": {},
   "outputs": [
    {
     "data": {
      "text/plain": [
       "'C:\\\\Users\\\\rahul\\\\Desktop\\\\Python\\\\Logging'"
      ]
     },
     "execution_count": 19,
     "metadata": {},
     "output_type": "execute_result"
    }
   ],
   "source": [
    "pwd"
   ]
  },
  {
   "cell_type": "code",
   "execution_count": 20,
   "id": "54a42be3",
   "metadata": {},
   "outputs": [],
   "source": [
    "lg.shutdown()"
   ]
  },
  {
   "cell_type": "markdown",
   "id": "24cf330c",
   "metadata": {},
   "source": [
    "### This is new section. Restart kernel & start execution from below cell"
   ]
  },
  {
   "cell_type": "code",
   "execution_count": 1,
   "id": "42e0023e",
   "metadata": {},
   "outputs": [],
   "source": [
    "# Another Logger creation\n",
    "import os\n",
    "import logging as lg2\n",
    "\n",
    "lg2.basicConfig(filename = 'C:\\\\Users\\\\rahul\\\\Desktop\\\\Python\\\\Logging\\\\Log_3.txt',level = lg2.DEBUG, format = '%(asctime)s %(message)s')"
   ]
  },
  {
   "cell_type": "code",
   "execution_count": 2,
   "id": "e0418eca",
   "metadata": {},
   "outputs": [],
   "source": [
    "lg2.debug('This is the first debugging line i\\'ve ever used ' )"
   ]
  },
  {
   "cell_type": "code",
   "execution_count": 3,
   "id": "48df1f8b",
   "metadata": {},
   "outputs": [],
   "source": [
    "lg2.info('This is the frequently used method to store in log file')"
   ]
  },
  {
   "cell_type": "code",
   "execution_count": 12,
   "id": "5c90fb69",
   "metadata": {},
   "outputs": [],
   "source": [
    "lg2.info('Adding for testing')"
   ]
  },
  {
   "cell_type": "code",
   "execution_count": 4,
   "id": "a0277f7f",
   "metadata": {},
   "outputs": [
    {
     "data": {
      "text/plain": [
       "['.ipynb_checkpoints',\n",
       " 'Logging',\n",
       " 'Python Conceptual Coding.ipynb',\n",
       " 'Python Logging.ipynb',\n",
       " 'Python Practice.ipynb']"
      ]
     },
     "execution_count": 4,
     "metadata": {},
     "output_type": "execute_result"
    }
   ],
   "source": [
    "os.listdir()"
   ]
  },
  {
   "cell_type": "code",
   "execution_count": 8,
   "id": "4baba1fd",
   "metadata": {},
   "outputs": [],
   "source": [
    "os.chdir('Logging')"
   ]
  },
  {
   "cell_type": "code",
   "execution_count": 9,
   "id": "ecb19bc2",
   "metadata": {},
   "outputs": [
    {
     "data": {
      "text/plain": [
       "['Func_log.txt', 'Log1.txt', 'Log_3.txt']"
      ]
     },
     "execution_count": 9,
     "metadata": {},
     "output_type": "execute_result"
    }
   ],
   "source": [
    "os.listdir()"
   ]
  },
  {
   "cell_type": "code",
   "execution_count": 14,
   "id": "d782a2ac",
   "metadata": {},
   "outputs": [
    {
     "data": {
      "text/plain": [
       "[\"2021-12-28 11:48:17,257 This is the first debugging line i've ever used \\n\",\n",
       " '2021-12-28 11:48:17,402 This is the frequently used method to store in log file\\n',\n",
       " '2021-12-28 11:48:51,419 pickle loaded: C:\\\\Users\\\\rahul\\\\Anaconda3\\\\lib\\\\os.py\\n',\n",
       " '2021-12-28 11:51:24,224 diff parser start\\n',\n",
       " '2021-12-28 11:51:24,224 line_lengths old: 1; new: 1\\n',\n",
       " '2021-12-28 11:51:24,224 -> code[replace] old[1:1] new[1:1]\\n',\n",
       " '2021-12-28 11:51:24,224 parse_part from 1 to 1 (to 0 in part parser)\\n',\n",
       " '2021-12-28 11:51:24,224 diff parser end\\n',\n",
       " \"2021-12-28 11:59:24,570 This is the first debugging line i've ever used \\n\",\n",
       " '2021-12-28 11:59:24,737 This is the frequently used method to store in log file\\n',\n",
       " '2021-12-28 11:59:46,666 Adding for testing\\n']"
      ]
     },
     "execution_count": 14,
     "metadata": {},
     "output_type": "execute_result"
    }
   ],
   "source": [
    "f = open('Log_3.txt','r')\n",
    "f.seek(0)\n",
    "f.readlines()"
   ]
  },
  {
   "cell_type": "code",
   "execution_count": 11,
   "id": "c422ac94",
   "metadata": {},
   "outputs": [],
   "source": [
    "f.close()"
   ]
  },
  {
   "cell_type": "code",
   "execution_count": 13,
   "id": "0ac1f989",
   "metadata": {},
   "outputs": [
    {
     "data": {
      "text/plain": [
       "'C:\\\\Users\\\\rahul\\\\Desktop\\\\Python\\\\Logging'"
      ]
     },
     "execution_count": 13,
     "metadata": {},
     "output_type": "execute_result"
    }
   ],
   "source": [
    "pwd"
   ]
  },
  {
   "cell_type": "code",
   "execution_count": 17,
   "id": "8a6455f3",
   "metadata": {},
   "outputs": [],
   "source": [
    "console_log = lg2.StreamHandler()\n",
    "console_log.setLevel(lg2.INFO)"
   ]
  },
  {
   "cell_type": "code",
   "execution_count": null,
   "id": "d53696cf",
   "metadata": {},
   "outputs": [],
   "source": []
  }
 ],
 "metadata": {
  "kernelspec": {
   "display_name": "Python 3",
   "language": "python",
   "name": "python3"
  },
  "language_info": {
   "codemirror_mode": {
    "name": "ipython",
    "version": 3
   },
   "file_extension": ".py",
   "mimetype": "text/x-python",
   "name": "python",
   "nbconvert_exporter": "python",
   "pygments_lexer": "ipython3",
   "version": "3.8.8"
  }
 },
 "nbformat": 4,
 "nbformat_minor": 5
}
