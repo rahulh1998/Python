{
 "cells": [
  {
   "cell_type": "code",
   "execution_count": 2,
   "id": "758beb5a",
   "metadata": {},
   "outputs": [
    {
     "name": "stdout",
     "output_type": "stream",
     "text": [
      "This is the first line of module 1\n"
     ]
    }
   ],
   "source": [
    "#import First_Module"
   ]
  },
  {
   "cell_type": "code",
   "execution_count": 3,
   "id": "ec8ef0e1",
   "metadata": {},
   "outputs": [
    {
     "name": "stdout",
     "output_type": "stream",
     "text": [
      "This is the first line of module 1\n"
     ]
    },
    {
     "data": {
      "text/plain": [
       "<module 'First_Module' from 'C:\\\\Users\\\\rahul\\\\Desktop\\\\Python\\\\First_Module.py'>"
      ]
     },
     "execution_count": 3,
     "metadata": {},
     "output_type": "execute_result"
    }
   ],
   "source": [
    "#import imp\n",
    "#imp.reload(First_Module)"
   ]
  },
  {
   "cell_type": "code",
   "execution_count": 6,
   "id": "f56a1f04",
   "metadata": {},
   "outputs": [],
   "source": [
    "from Practice_Modules.MY_MATH import *"
   ]
  },
  {
   "cell_type": "code",
   "execution_count": 7,
   "id": "c4a48a0e",
   "metadata": {},
   "outputs": [
    {
     "data": {
      "text/plain": [
       "13"
      ]
     },
     "execution_count": 7,
     "metadata": {},
     "output_type": "execute_result"
    }
   ],
   "source": [
    "add(6,7)"
   ]
  },
  {
   "cell_type": "code",
   "execution_count": 8,
   "id": "7e22b410",
   "metadata": {},
   "outputs": [],
   "source": [
    "from Practice_Modules.Mod1 import *"
   ]
  },
  {
   "cell_type": "code",
   "execution_count": 9,
   "id": "10be3e2d",
   "metadata": {},
   "outputs": [
    {
     "data": {
      "text/plain": [
       "'Mod11'"
      ]
     },
     "execution_count": 9,
     "metadata": {},
     "output_type": "execute_result"
    }
   ],
   "source": [
    "mod11()"
   ]
  },
  {
   "cell_type": "code",
   "execution_count": 10,
   "id": "68398348",
   "metadata": {},
   "outputs": [],
   "source": [
    "from Practice_Modules import * #Importing every .py files inside PRactice mOdules"
   ]
  },
  {
   "cell_type": "code",
   "execution_count": 11,
   "id": "a9cbcca1",
   "metadata": {},
   "outputs": [
    {
     "data": {
      "text/plain": [
       "'Mod11'"
      ]
     },
     "execution_count": 11,
     "metadata": {},
     "output_type": "execute_result"
    }
   ],
   "source": [
    "mod11()"
   ]
  },
  {
   "cell_type": "code",
   "execution_count": null,
   "id": "2ef12aa5",
   "metadata": {},
   "outputs": [],
   "source": []
  }
 ],
 "metadata": {
  "kernelspec": {
   "display_name": "Python 3",
   "language": "python",
   "name": "python3"
  },
  "language_info": {
   "codemirror_mode": {
    "name": "ipython",
    "version": 3
   },
   "file_extension": ".py",
   "mimetype": "text/x-python",
   "name": "python",
   "nbconvert_exporter": "python",
   "pygments_lexer": "ipython3",
   "version": "3.8.8"
  }
 },
 "nbformat": 4,
 "nbformat_minor": 5
}
