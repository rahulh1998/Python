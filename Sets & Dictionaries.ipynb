{
 "cells": [
  {
   "cell_type": "markdown",
   "id": "ad7237b6",
   "metadata": {},
   "source": [
    "<div style='color:white;text-align:center;background-color:black; font-size:20px'> Sets </div>"
   ]
  },
  {
   "cell_type": "markdown",
   "id": "d95f4b21",
   "metadata": {},
   "source": [
    "<center> Sets are datatype of unordered collection of distinct elements that are mutable & iterable </center>"
   ]
  },
  {
   "cell_type": "code",
   "execution_count": 1,
   "id": "f97024dd",
   "metadata": {},
   "outputs": [
    {
     "data": {
      "text/plain": [
       "set"
      ]
     },
     "execution_count": 1,
     "metadata": {},
     "output_type": "execute_result"
    }
   ],
   "source": [
    "a = {1}\n",
    "type(a)"
   ]
  },
  {
   "cell_type": "code",
   "execution_count": 2,
   "id": "b6546037",
   "metadata": {},
   "outputs": [],
   "source": [
    "# sets appear to be ordered but in reality they are unordered"
   ]
  },
  {
   "cell_type": "code",
   "execution_count": 3,
   "id": "6e920a8f",
   "metadata": {},
   "outputs": [
    {
     "name": "stdout",
     "output_type": "stream",
     "text": [
      "{1, 2, 3, 4, 5, 'hey', 'new', 3.4, 89} {False, 1, 2, 3, 4, 5, 'hey', 4.5, 78}\n"
     ]
    }
   ],
   "source": [
    "set1 = {1,2,3,4,5,'hey','new',3.4 , True , 89, 1,2,3,4}\n",
    "set2 = {1,2,3,4,5,'hey', 4.5 , False , 78,4,1,3,2}\n",
    "\n",
    "print(set1, set2)"
   ]
  },
  {
   "cell_type": "code",
   "execution_count": 4,
   "id": "057ff930",
   "metadata": {},
   "outputs": [
    {
     "data": {
      "text/plain": [
       "{1, 2, 3, 3.4, 4, 4.5, 5, 78, 89, False, 'hey', 'new'}"
      ]
     },
     "execution_count": 4,
     "metadata": {},
     "output_type": "execute_result"
    }
   ],
   "source": [
    "set1.union(set2)"
   ]
  },
  {
   "cell_type": "code",
   "execution_count": 5,
   "id": "16c0f234",
   "metadata": {},
   "outputs": [
    {
     "data": {
      "text/plain": [
       "{3.4, 89, 'new'}"
      ]
     },
     "execution_count": 5,
     "metadata": {},
     "output_type": "execute_result"
    }
   ],
   "source": [
    "set1.difference(set2)"
   ]
  },
  {
   "cell_type": "code",
   "execution_count": 6,
   "id": "7b1ea3f9",
   "metadata": {},
   "outputs": [
    {
     "name": "stdout",
     "output_type": "stream",
     "text": [
      "1\n",
      "2\n",
      "3\n",
      "4\n",
      "5\n",
      "hey\n",
      "new\n",
      "3.4\n",
      "89\n"
     ]
    }
   ],
   "source": [
    "for i in set1:\n",
    "    print(i)"
   ]
  },
  {
   "cell_type": "code",
   "execution_count": 7,
   "id": "971ef171",
   "metadata": {},
   "outputs": [
    {
     "data": {
      "text/plain": [
       "{0, 1, 4, 9, 16, 25, 36, 49, 64, 81}"
      ]
     },
     "execution_count": 7,
     "metadata": {},
     "output_type": "execute_result"
    }
   ],
   "source": [
    "s1 = { i**2 for i in range(10)}\n",
    "s1"
   ]
  },
  {
   "cell_type": "code",
   "execution_count": 8,
   "id": "bdb8664a",
   "metadata": {},
   "outputs": [
    {
     "data": {
      "text/plain": [
       "{0, 1, 4, 16, 25, 36, 49, 64, 81, 7980}"
      ]
     },
     "execution_count": 8,
     "metadata": {},
     "output_type": "execute_result"
    }
   ],
   "source": [
    "s1 = list(s1)\n",
    "s1[5] = 7980\n",
    "s1 = set(s1)\n",
    "s1"
   ]
  },
  {
   "cell_type": "code",
   "execution_count": 9,
   "id": "1ea857ee",
   "metadata": {},
   "outputs": [
    {
     "data": {
      "text/plain": [
       "{1, 4, 16, 25, 36, 49, 64, 81, 7980}"
      ]
     },
     "execution_count": 9,
     "metadata": {},
     "output_type": "execute_result"
    }
   ],
   "source": [
    "s1.pop()\n",
    "s1"
   ]
  },
  {
   "cell_type": "code",
   "execution_count": 10,
   "id": "21a5753d",
   "metadata": {},
   "outputs": [
    {
     "data": {
      "text/plain": [
       "{4, 16, 25, 36, 49, 64, 81, 7980}"
      ]
     },
     "execution_count": 10,
     "metadata": {},
     "output_type": "execute_result"
    }
   ],
   "source": [
    "s1.pop()\n",
    "s1"
   ]
  },
  {
   "cell_type": "code",
   "execution_count": 24,
   "id": "7f68fa59",
   "metadata": {},
   "outputs": [
    {
     "data": {
      "text/plain": [
       "set"
      ]
     },
     "execution_count": 24,
     "metadata": {},
     "output_type": "execute_result"
    }
   ],
   "source": [
    "s = {1}\n",
    "type(s)"
   ]
  },
  {
   "cell_type": "markdown",
   "id": "1e3fda6b",
   "metadata": {},
   "source": [
    "<div style = 'color:red'><center> Cannot perform arithmetic operations on sets & cannot slice a set</center></div>"
   ]
  },
  {
   "cell_type": "markdown",
   "id": "4da78bc5",
   "metadata": {},
   "source": [
    "<div style='color:white;text-align:center;background-color:black; font-size:20px'> Dictionaries </div>"
   ]
  },
  {
   "cell_type": "markdown",
   "id": "43395a12",
   "metadata": {},
   "source": [
    "<center> Dictionaries are mutable datatypes that can store data in key value pairs!!<center>"
   ]
  },
  {
   "cell_type": "code",
   "execution_count": 11,
   "id": "87096a96",
   "metadata": {},
   "outputs": [
    {
     "data": {
      "text/plain": [
       "dict"
      ]
     },
     "execution_count": 11,
     "metadata": {},
     "output_type": "execute_result"
    }
   ],
   "source": [
    "dict1 = {}\n",
    "type(dict1)"
   ]
  },
  {
   "cell_type": "code",
   "execution_count": 12,
   "id": "c535ff0a",
   "metadata": {},
   "outputs": [
    {
     "data": {
      "text/plain": [
       "{'key1': 'value1',\n",
       " 'key2': 2123,\n",
       " 'key3': True,\n",
       " 'key4': [1, 2, 3, 4, 5],\n",
       " 5: ['yes', 'no']}"
      ]
     },
     "execution_count": 12,
     "metadata": {},
     "output_type": "execute_result"
    }
   ],
   "source": [
    "dict1 = {'key1': 'value1',\n",
    "         'key2': 2123,\n",
    "         'key3': True,\n",
    "         'key4': [1,2,3,4,5],\n",
    "          5     : ['yes','no']}\n",
    "dict1"
   ]
  },
  {
   "cell_type": "code",
   "execution_count": 13,
   "id": "883f82dc",
   "metadata": {},
   "outputs": [
    {
     "data": {
      "text/plain": [
       "dict_keys(['key1', 'key2', 'key3', 'key4', 5])"
      ]
     },
     "execution_count": 13,
     "metadata": {},
     "output_type": "execute_result"
    }
   ],
   "source": [
    "dict1.keys()"
   ]
  },
  {
   "cell_type": "code",
   "execution_count": 14,
   "id": "35f50a97",
   "metadata": {},
   "outputs": [
    {
     "data": {
      "text/plain": [
       "dict_values(['value1', 2123, True, [1, 2, 3, 4, 5], ['yes', 'no']])"
      ]
     },
     "execution_count": 14,
     "metadata": {},
     "output_type": "execute_result"
    }
   ],
   "source": [
    "dict1.values()"
   ]
  },
  {
   "cell_type": "code",
   "execution_count": 15,
   "id": "70085749",
   "metadata": {},
   "outputs": [
    {
     "name": "stdout",
     "output_type": "stream",
     "text": [
      "key1\n",
      "key2\n",
      "key3\n",
      "key4\n",
      "5\n"
     ]
    }
   ],
   "source": [
    "for i in dict1:\n",
    "    print(i)"
   ]
  },
  {
   "cell_type": "code",
   "execution_count": 16,
   "id": "736b541c",
   "metadata": {},
   "outputs": [
    {
     "name": "stdout",
     "output_type": "stream",
     "text": [
      "key1\n",
      "key2\n",
      "key3\n",
      "key4\n",
      "5\n"
     ]
    }
   ],
   "source": [
    "for i in dict1.keys():\n",
    "    print(i)"
   ]
  },
  {
   "cell_type": "code",
   "execution_count": 17,
   "id": "20a007bb",
   "metadata": {},
   "outputs": [
    {
     "name": "stdout",
     "output_type": "stream",
     "text": [
      "('key1', 'value1')\n",
      "('key2', 2123)\n",
      "('key3', True)\n",
      "('key4', [1, 2, 3, 4, 5])\n",
      "(5, ['yes', 'no'])\n"
     ]
    }
   ],
   "source": [
    "for i in dict1.items():\n",
    "    print(i)"
   ]
  },
  {
   "cell_type": "code",
   "execution_count": 18,
   "id": "b789cfc7",
   "metadata": {},
   "outputs": [
    {
     "name": "stdout",
     "output_type": "stream",
     "text": [
      "value1\n",
      "2123\n",
      "True\n",
      "[1, 2, 3, 4, 5]\n",
      "['yes', 'no']\n"
     ]
    }
   ],
   "source": [
    "for i in dict1.values():\n",
    "    print(i)"
   ]
  },
  {
   "cell_type": "code",
   "execution_count": 19,
   "id": "7d5fa930",
   "metadata": {},
   "outputs": [
    {
     "data": {
      "text/plain": [
       "'value1'"
      ]
     },
     "execution_count": 19,
     "metadata": {},
     "output_type": "execute_result"
    }
   ],
   "source": [
    "dict1['key1']"
   ]
  },
  {
   "cell_type": "code",
   "execution_count": 20,
   "id": "8cc7dd17",
   "metadata": {},
   "outputs": [
    {
     "data": {
      "text/plain": [
       "[1, 2, 3, 4, 5]"
      ]
     },
     "execution_count": 20,
     "metadata": {},
     "output_type": "execute_result"
    }
   ],
   "source": [
    "dict1['key4']"
   ]
  },
  {
   "cell_type": "code",
   "execution_count": 21,
   "id": "687f24ba",
   "metadata": {},
   "outputs": [],
   "source": [
    "dict1['new_col'] = [1,2,3,4,5,6,7,9,8,10]"
   ]
  },
  {
   "cell_type": "code",
   "execution_count": 22,
   "id": "b986e815",
   "metadata": {},
   "outputs": [
    {
     "data": {
      "text/plain": [
       "{'key1': 'value1',\n",
       " 'key2': 2123,\n",
       " 'key3': True,\n",
       " 'key4': [1, 2, 3, 4, 5],\n",
       " 5: ['yes', 'no'],\n",
       " 'new_col': [1, 2, 3, 4, 5, 6, 7, 9, 8, 10]}"
      ]
     },
     "execution_count": 22,
     "metadata": {},
     "output_type": "execute_result"
    }
   ],
   "source": [
    "dict1"
   ]
  },
  {
   "cell_type": "code",
   "execution_count": null,
   "id": "ad6b69ed",
   "metadata": {},
   "outputs": [],
   "source": []
  }
 ],
 "metadata": {
  "kernelspec": {
   "display_name": "Python 3",
   "language": "python",
   "name": "python3"
  },
  "language_info": {
   "codemirror_mode": {
    "name": "ipython",
    "version": 3
   },
   "file_extension": ".py",
   "mimetype": "text/x-python",
   "name": "python",
   "nbconvert_exporter": "python",
   "pygments_lexer": "ipython3",
   "version": "3.8.8"
  }
 },
 "nbformat": 4,
 "nbformat_minor": 5
}
