{
 "cells": [
  {
   "cell_type": "markdown",
   "id": "6abff325",
   "metadata": {},
   "source": [
    "Strings are immutable iterable entity that can store strings of character"
   ]
  },
  {
   "cell_type": "code",
   "execution_count": 1,
   "id": "585f722a",
   "metadata": {},
   "outputs": [],
   "source": [
    "s = 'Hey this is my first string.'\n",
    "t = ' Hey this is my second string'"
   ]
  },
  {
   "cell_type": "code",
   "execution_count": 2,
   "id": "6db80e37",
   "metadata": {},
   "outputs": [
    {
     "data": {
      "text/plain": [
       "'Hey this is my first string. Hey this is my second string'"
      ]
     },
     "execution_count": 2,
     "metadata": {},
     "output_type": "execute_result"
    }
   ],
   "source": [
    "# String concatination using \"+\" operator\n",
    "s+t"
   ]
  },
  {
   "cell_type": "code",
   "execution_count": 3,
   "id": "0bccf681",
   "metadata": {},
   "outputs": [
    {
     "data": {
      "text/plain": [
       "'Hey this is my first string.Hey this is my first string.'"
      ]
     },
     "execution_count": 3,
     "metadata": {},
     "output_type": "execute_result"
    }
   ],
   "source": [
    "#multiplication with a constant\n",
    "s*2"
   ]
  },
  {
   "cell_type": "code",
   "execution_count": 4,
   "id": "297cd64c",
   "metadata": {},
   "outputs": [],
   "source": [
    "# '/' & '-' doesn't work!!!"
   ]
  },
  {
   "cell_type": "markdown",
   "id": "34db34d3",
   "metadata": {},
   "source": [
    "## Slicing"
   ]
  },
  {
   "cell_type": "code",
   "execution_count": 5,
   "id": "a9259d58",
   "metadata": {},
   "outputs": [
    {
     "data": {
      "text/plain": [
       "'e'"
      ]
     },
     "execution_count": 5,
     "metadata": {},
     "output_type": "execute_result"
    }
   ],
   "source": [
    "s[1]"
   ]
  },
  {
   "cell_type": "code",
   "execution_count": 6,
   "id": "e12f65dc",
   "metadata": {},
   "outputs": [
    {
     "data": {
      "text/plain": [
       "'.'"
      ]
     },
     "execution_count": 6,
     "metadata": {},
     "output_type": "execute_result"
    }
   ],
   "source": [
    "s[-1]"
   ]
  },
  {
   "cell_type": "code",
   "execution_count": 7,
   "id": "3a0d4530",
   "metadata": {},
   "outputs": [
    {
     "data": {
      "text/plain": [
       "'y this i'"
      ]
     },
     "execution_count": 7,
     "metadata": {},
     "output_type": "execute_result"
    }
   ],
   "source": [
    "s[2:10]"
   ]
  },
  {
   "cell_type": "code",
   "execution_count": 8,
   "id": "6a141b0d",
   "metadata": {},
   "outputs": [
    {
     "data": {
      "text/plain": [
       "'ets'"
      ]
     },
     "execution_count": 8,
     "metadata": {},
     "output_type": "execute_result"
    }
   ],
   "source": [
    "s[1:10:3]"
   ]
  },
  {
   "cell_type": "code",
   "execution_count": 9,
   "id": "b2f5a795",
   "metadata": {},
   "outputs": [
    {
     "data": {
      "text/plain": [
       "'.gnirts t'"
      ]
     },
     "execution_count": 9,
     "metadata": {},
     "output_type": "execute_result"
    }
   ],
   "source": [
    "# last index of the string to -9th index of 's' \n",
    "s[-1:-10:-1]"
   ]
  },
  {
   "cell_type": "code",
   "execution_count": 10,
   "id": "fd3673ab",
   "metadata": {},
   "outputs": [
    {
     "data": {
      "text/plain": [
       "'.gnirts tsrif ym si siht yeH'"
      ]
     },
     "execution_count": 10,
     "metadata": {},
     "output_type": "execute_result"
    }
   ],
   "source": [
    "# one liner to reverse a string\n",
    "s[::-1]"
   ]
  },
  {
   "cell_type": "code",
   "execution_count": 11,
   "id": "3e6967d5",
   "metadata": {},
   "outputs": [
    {
     "data": {
      "text/plain": [
       "'s my first string'"
      ]
     },
     "execution_count": 11,
     "metadata": {},
     "output_type": "execute_result"
    }
   ],
   "source": [
    "s[10:-1:1]"
   ]
  },
  {
   "cell_type": "code",
   "execution_count": 12,
   "id": "256012ee",
   "metadata": {},
   "outputs": [
    {
     "data": {
      "text/plain": [
       "'s my first strings my first strings my first strings my first strings my first string'"
      ]
     },
     "execution_count": 12,
     "metadata": {},
     "output_type": "execute_result"
    }
   ],
   "source": [
    "# Multiplying a sliced string!!\n",
    "s[10:-1:1]*5"
   ]
  },
  {
   "cell_type": "code",
   "execution_count": 13,
   "id": "3fb7a8b1",
   "metadata": {},
   "outputs": [
    {
     "data": {
      "text/plain": [
       "'e'"
      ]
     },
     "execution_count": 13,
     "metadata": {},
     "output_type": "execute_result"
    }
   ],
   "source": [
    "s[1]"
   ]
  },
  {
   "cell_type": "code",
   "execution_count": 14,
   "id": "691f55f6",
   "metadata": {},
   "outputs": [],
   "source": [
    "# s[1]='2' -> Error : String is an immutable entity"
   ]
  },
  {
   "cell_type": "code",
   "execution_count": 15,
   "id": "c5186736",
   "metadata": {},
   "outputs": [
    {
     "data": {
      "text/plain": [
       "'Hey this string has some spaces on the left so we will use lstrip()'"
      ]
     },
     "execution_count": 15,
     "metadata": {},
     "output_type": "execute_result"
    }
   ],
   "source": [
    "new_str = ' Hey this string has some spaces on the left so we will use lstrip()'\n",
    "new_str.lstrip()"
   ]
  },
  {
   "cell_type": "code",
   "execution_count": 16,
   "id": "3c3ec518",
   "metadata": {},
   "outputs": [
    {
     "data": {
      "text/plain": [
       "'Hey this string has some spaces on the left so we will use rstrip()'"
      ]
     },
     "execution_count": 16,
     "metadata": {},
     "output_type": "execute_result"
    }
   ],
   "source": [
    "new_str2 = 'Hey this string has some spaces on the left so we will use rstrip()   '\n",
    "new_str2.rstrip()"
   ]
  },
  {
   "cell_type": "code",
   "execution_count": 17,
   "id": "26bc1801",
   "metadata": {},
   "outputs": [
    {
     "data": {
      "text/plain": [
       "'Hey this string has some spaces on both the sides so we will use strip()'"
      ]
     },
     "execution_count": 17,
     "metadata": {},
     "output_type": "execute_result"
    }
   ],
   "source": [
    "new_str3 = ' Hey this string has some spaces on both the sides so we will use strip()'\n",
    "\n",
    "new_str3.strip()"
   ]
  },
  {
   "cell_type": "code",
   "execution_count": 18,
   "id": "5e768f22",
   "metadata": {},
   "outputs": [
    {
     "data": {
      "text/plain": [
       "['Hey', 'this', 'is', 'my', 'first', 'string.']"
      ]
     },
     "execution_count": 18,
     "metadata": {},
     "output_type": "execute_result"
    }
   ],
   "source": [
    "# splits a string \n",
    "# splits on whitespaces \n",
    "# splits converts a string into a list\n",
    "s.split()"
   ]
  },
  {
   "cell_type": "code",
   "execution_count": 19,
   "id": "6048a277",
   "metadata": {},
   "outputs": [
    {
     "data": {
      "text/plain": [
       "'Hey this is my first string.Hey this is my first string.Hey this is my first string.Hey this is my first string.Hey this is my first string.Hey this is my first string.Hey this is my first string.Hey this is my first string.Hey this is my first string.Hey this is my first string.'"
      ]
     },
     "execution_count": 19,
     "metadata": {},
     "output_type": "execute_result"
    }
   ],
   "source": [
    "msg = s*10\n",
    "msg"
   ]
  },
  {
   "cell_type": "code",
   "execution_count": 20,
   "id": "5d66a36f",
   "metadata": {},
   "outputs": [
    {
     "data": {
      "text/plain": [
       "['',\n",
       " ' this is my first string.',\n",
       " ' this is my first string.',\n",
       " ' this is my first string.',\n",
       " ' this is my first string.',\n",
       " ' this is my first string.',\n",
       " ' this is my first string.',\n",
       " ' this is my first string.',\n",
       " ' this is my first string.',\n",
       " ' this is my first string.',\n",
       " ' this is my first string.']"
      ]
     },
     "execution_count": 20,
     "metadata": {},
     "output_type": "execute_result"
    }
   ],
   "source": [
    "hey = msg.split('Hey')\n",
    "hey"
   ]
  },
  {
   "cell_type": "code",
   "execution_count": 21,
   "id": "9deb16df",
   "metadata": {},
   "outputs": [
    {
     "data": {
      "text/plain": [
       "'H e y   t h i s   i s   m y   f i r s t   s t r i n g . H e y   t h i s   i s   m y   f i r s t   s t r i n g . H e y   t h i s   i s   m y   f i r s t   s t r i n g . H e y   t h i s   i s   m y   f i r s t   s t r i n g . H e y   t h i s   i s   m y   f i r s t   s t r i n g . H e y   t h i s   i s   m y   f i r s t   s t r i n g . H e y   t h i s   i s   m y   f i r s t   s t r i n g . H e y   t h i s   i s   m y   f i r s t   s t r i n g . H e y   t h i s   i s   m y   f i r s t   s t r i n g . H e y   t h i s   i s   m y   f i r s t   s t r i n g .'"
      ]
     },
     "execution_count": 21,
     "metadata": {},
     "output_type": "execute_result"
    }
   ],
   "source": [
    "# join takes any iterable object & adds 'character' on that iterable\n",
    "' '.join(msg)"
   ]
  },
  {
   "cell_type": "code",
   "execution_count": 22,
   "id": "2bba6d15",
   "metadata": {},
   "outputs": [
    {
     "data": {
      "text/plain": [
       "'Hey th_s _s my f_rst str_ng.'"
      ]
     },
     "execution_count": 22,
     "metadata": {},
     "output_type": "execute_result"
    }
   ],
   "source": [
    "# replaces present character with desired character \n",
    "s.replace('i','_')"
   ]
  },
  {
   "cell_type": "code",
   "execution_count": 23,
   "id": "a8883db9",
   "metadata": {},
   "outputs": [
    {
     "data": {
      "text/plain": [
       "True"
      ]
     },
     "execution_count": 23,
     "metadata": {},
     "output_type": "execute_result"
    }
   ],
   "source": [
    "# checks if string starts with a given character or sub string\n",
    "s.startswith('H')"
   ]
  },
  {
   "cell_type": "code",
   "execution_count": 24,
   "id": "b5dc0695",
   "metadata": {},
   "outputs": [
    {
     "data": {
      "text/plain": [
       "True"
      ]
     },
     "execution_count": 24,
     "metadata": {},
     "output_type": "execute_result"
    }
   ],
   "source": [
    "# checks if string ends with a given character or sub string\n",
    "s.endswith('.')"
   ]
  },
  {
   "cell_type": "code",
   "execution_count": 25,
   "id": "7605a71f",
   "metadata": {},
   "outputs": [
    {
     "data": {
      "text/plain": [
       "'hEY THIS IS MY FIRST STRING.'"
      ]
     },
     "execution_count": 25,
     "metadata": {},
     "output_type": "execute_result"
    }
   ],
   "source": [
    "s.swapcase()"
   ]
  },
  {
   "cell_type": "code",
   "execution_count": 26,
   "id": "938e8238",
   "metadata": {},
   "outputs": [
    {
     "data": {
      "text/plain": [
       "'hey this is my first string.'"
      ]
     },
     "execution_count": 26,
     "metadata": {},
     "output_type": "execute_result"
    }
   ],
   "source": [
    "s.lower()"
   ]
  },
  {
   "cell_type": "code",
   "execution_count": 27,
   "id": "26e87a6d",
   "metadata": {},
   "outputs": [
    {
     "data": {
      "text/plain": [
       "'HEY THIS IS MY FIRST STRING.'"
      ]
     },
     "execution_count": 27,
     "metadata": {},
     "output_type": "execute_result"
    }
   ],
   "source": [
    "s.upper()"
   ]
  },
  {
   "cell_type": "code",
   "execution_count": 28,
   "id": "9908034a",
   "metadata": {},
   "outputs": [
    {
     "data": {
      "text/plain": [
       "4"
      ]
     },
     "execution_count": 28,
     "metadata": {},
     "output_type": "execute_result"
    }
   ],
   "source": [
    "# counts the no of occurances of a character in a string\n",
    "s.count('i')"
   ]
  },
  {
   "cell_type": "code",
   "execution_count": 29,
   "id": "47fa89ea",
   "metadata": {},
   "outputs": [
    {
     "data": {
      "text/plain": [
       "12"
      ]
     },
     "execution_count": 29,
     "metadata": {},
     "output_type": "execute_result"
    }
   ],
   "source": [
    "# returns index of the substring \n",
    "s.find('my')"
   ]
  },
  {
   "cell_type": "code",
   "execution_count": 30,
   "id": "eec1c803",
   "metadata": {},
   "outputs": [
    {
     "data": {
      "text/plain": [
       "-1"
      ]
     },
     "execution_count": 30,
     "metadata": {},
     "output_type": "execute_result"
    }
   ],
   "source": [
    "# returns -1 if no substring found\n",
    "s.find('any')"
   ]
  },
  {
   "cell_type": "code",
   "execution_count": 31,
   "id": "886a8cbc",
   "metadata": {},
   "outputs": [
    {
     "data": {
      "text/plain": [
       "('Hey', ' ', 'this is my first string.')"
      ]
     },
     "execution_count": 31,
     "metadata": {},
     "output_type": "execute_result"
    }
   ],
   "source": [
    "# partitions a string based on the character\n",
    "s.partition(' ')"
   ]
  },
  {
   "cell_type": "code",
   "execution_count": 34,
   "id": "90166ee7",
   "metadata": {},
   "outputs": [
    {
     "data": {
      "text/plain": [
       "4"
      ]
     },
     "execution_count": 34,
     "metadata": {},
     "output_type": "execute_result"
    }
   ],
   "source": [
    "# return index\n",
    "s.index('this')"
   ]
  },
  {
   "cell_type": "code",
   "execution_count": 37,
   "id": "1aa1a01c",
   "metadata": {},
   "outputs": [
    {
     "name": "stdout",
     "output_type": "stream",
     "text": [
      "H\n",
      "e\n",
      "y\n",
      " \n",
      "t\n",
      "h\n",
      "i\n",
      "s\n",
      " \n",
      "i\n",
      "s\n",
      " \n",
      "m\n",
      "y\n",
      " \n",
      "f\n",
      "i\n",
      "r\n",
      "s\n",
      "t\n",
      " \n",
      "s\n",
      "t\n",
      "r\n",
      "i\n",
      "n\n",
      "g\n",
      ".\n"
     ]
    }
   ],
   "source": [
    "# iterating through each character of a string\n",
    "for i in s:\n",
    "    print(i)"
   ]
  },
  {
   "cell_type": "code",
   "execution_count": 41,
   "id": "707d7939",
   "metadata": {},
   "outputs": [
    {
     "name": "stdout",
     "output_type": "stream",
     "text": [
      "Hey\n",
      "this\n",
      "is\n",
      "my\n",
      "first\n",
      "string.\n"
     ]
    }
   ],
   "source": [
    "for i in s.split():\n",
    "    print(i)"
   ]
  },
  {
   "cell_type": "code",
   "execution_count": null,
   "id": "05c3ae15",
   "metadata": {},
   "outputs": [],
   "source": []
  }
 ],
 "metadata": {
  "kernelspec": {
   "display_name": "Python 3",
   "language": "python",
   "name": "python3"
  },
  "language_info": {
   "codemirror_mode": {
    "name": "ipython",
    "version": 3
   },
   "file_extension": ".py",
   "mimetype": "text/x-python",
   "name": "python",
   "nbconvert_exporter": "python",
   "pygments_lexer": "ipython3",
   "version": "3.8.8"
  }
 },
 "nbformat": 4,
 "nbformat_minor": 5
}
